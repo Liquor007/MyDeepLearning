{
 "cells": [
  {
   "cell_type": "markdown",
   "id": "fdbb7b4e",
   "metadata": {},
   "source": [
    "### 1 NumPy介绍\n",
    "### 2 ndarray简介\n",
    "*n维数组类型*，描述了*相同类型*的“items”的集合\n",
    "一个ndarray对象更重要的属性是：\n",
    "\n",
    "ndarray.ndim\n",
    "数组的轴数（维度）。\n",
    "\n",
    "ndarray.shape\n",
    "数组的维度。这是一个整数元组，指示每个维度中数组的大小。对于具有n行m列的矩阵，shape将为(n,m)。shape因此元组的长度 是轴的数量，ndim。\n",
    "\n",
    "ndarray.size\n",
    "数组的元素总数。这等于shape元素的乘积。\n",
    "\n",
    "ndarray.dtype\n",
    "描述数组中元素类型的对象。可以使用标准 Python 类型创建或指定 dtype。此外 NumPy 提供了它自己的类型。numpy.int32、numpy.int16 和 numpy.float64 是一些示例。\n",
    "\n",
    "ndarray.itemsize\n",
    "数组每个元素的大小（以字节为单位）。例如，类型元素的数组float64有itemsize8 个（=64/8），而一个类型的元素complex32有itemsize4 个（=32/8）。它相当于ndarray.dtype.itemsize。\n",
    "\n",
    "ndarray.data\n",
    "包含数组实际元素的缓冲区。通常，我们不需要使用此属性，因为我们将使用索引工具访问数组中的元素。"
   ]
  },
  {
   "cell_type": "code",
   "execution_count": 1,
   "id": "39677a0b",
   "metadata": {},
   "outputs": [],
   "source": [
    "import numpy as np\n",
    "# 创建\n",
    "score=np.array([\n",
    "    [80,89,86,67,79],\n",
    "    [78,97,89,67,81]\n",
    "])"
   ]
  },
  {
   "cell_type": "code",
   "execution_count": 2,
   "id": "2fa91a54",
   "metadata": {},
   "outputs": [
    {
     "data": {
      "text/plain": [
       "array([[80, 89, 86, 67, 79],\n",
       "       [78, 97, 89, 67, 81]])"
      ]
     },
     "execution_count": 2,
     "metadata": {},
     "output_type": "execute_result"
    }
   ],
   "source": [
    "score"
   ]
  },
  {
   "cell_type": "code",
   "execution_count": 3,
   "id": "34cfb68d",
   "metadata": {},
   "outputs": [],
   "source": [
    "a=np.arange(15).reshape(3,5)"
   ]
  },
  {
   "cell_type": "code",
   "execution_count": 4,
   "id": "4bfe6456",
   "metadata": {},
   "outputs": [
    {
     "data": {
      "text/plain": [
       "array([[ 0,  1,  2,  3,  4],\n",
       "       [ 5,  6,  7,  8,  9],\n",
       "       [10, 11, 12, 13, 14]])"
      ]
     },
     "execution_count": 4,
     "metadata": {},
     "output_type": "execute_result"
    }
   ],
   "source": [
    "a"
   ]
  },
  {
   "cell_type": "code",
   "execution_count": 5,
   "id": "159813c8",
   "metadata": {},
   "outputs": [
    {
     "data": {
      "text/plain": [
       "(3, 5)"
      ]
     },
     "execution_count": 5,
     "metadata": {},
     "output_type": "execute_result"
    }
   ],
   "source": [
    "a.shape"
   ]
  },
  {
   "cell_type": "code",
   "execution_count": 6,
   "id": "2d15ada3",
   "metadata": {},
   "outputs": [
    {
     "data": {
      "text/plain": [
       "2"
      ]
     },
     "execution_count": 6,
     "metadata": {},
     "output_type": "execute_result"
    }
   ],
   "source": [
    "a.ndim\n"
   ]
  },
  {
   "cell_type": "code",
   "execution_count": 7,
   "id": "d2f5f50e",
   "metadata": {},
   "outputs": [
    {
     "data": {
      "text/plain": [
       "15"
      ]
     },
     "execution_count": 7,
     "metadata": {},
     "output_type": "execute_result"
    }
   ],
   "source": [
    "a.size\n"
   ]
  },
  {
   "cell_type": "code",
   "execution_count": 8,
   "id": "ed533efe",
   "metadata": {},
   "outputs": [
    {
     "data": {
      "text/plain": [
       "dtype('int32')"
      ]
     },
     "execution_count": 8,
     "metadata": {},
     "output_type": "execute_result"
    }
   ],
   "source": [
    "a.dtype\n"
   ]
  },
  {
   "cell_type": "code",
   "execution_count": 9,
   "id": "27f9ba08",
   "metadata": {},
   "outputs": [
    {
     "data": {
      "text/plain": [
       "4"
      ]
     },
     "execution_count": 9,
     "metadata": {},
     "output_type": "execute_result"
    }
   ],
   "source": [
    "a.itemsize\n"
   ]
  },
  {
   "cell_type": "code",
   "execution_count": 10,
   "id": "0e5e77da",
   "metadata": {},
   "outputs": [
    {
     "data": {
      "text/plain": [
       "4"
      ]
     },
     "execution_count": 10,
     "metadata": {},
     "output_type": "execute_result"
    }
   ],
   "source": [
    "a.dtype.itemsize\n"
   ]
  },
  {
   "cell_type": "code",
   "execution_count": 11,
   "id": "2f35e6f0",
   "metadata": {},
   "outputs": [
    {
     "data": {
      "text/plain": [
       "<memory at 0x000002FD6A53FE10>"
      ]
     },
     "execution_count": 11,
     "metadata": {},
     "output_type": "execute_result"
    }
   ],
   "source": [
    "a.data"
   ]
  },
  {
   "cell_type": "markdown",
   "id": "2717500e",
   "metadata": {},
   "source": [
    "### 3 效率对比"
   ]
  },
  {
   "cell_type": "code",
   "execution_count": 12,
   "id": "2439ccde",
   "metadata": {},
   "outputs": [
    {
     "name": "stdout",
     "output_type": "stream",
     "text": [
      "Wall time: 1.19 s\n",
      "Wall time: 172 ms\n"
     ]
    }
   ],
   "source": [
    "import random\n",
    "import time\n",
    "import numpy as np\n",
    "a=[]\n",
    "for i in range(100000000):\n",
    "    a.append(random.random())\n",
    "#通过%time魔法方法查看运行一行代码所需时间\n",
    "%time sum1=sum(a)\n",
    "\n",
    "b=np.array(a)\n",
    "%time sum2=np.sum(b)"
   ]
  },
  {
   "cell_type": "markdown",
   "id": "88bc994b",
   "metadata": {},
   "source": [
    "可以看出numpy的效率更高\n",
    "ndarray和原生python有什么不同？\n",
    "![compare](imgs/compare.png)\n",
    "从图中我们可以看出ndarray在存储数据的时候，数据与数据的地址都是连续的，这样就给使得批量操作数组元素时速度更快。\n",
    "\n",
    "*1 内存块风格*\n",
    "这是因为ndarray中的所有元素的类型都是相同的，而Python列表中的元素类型是任意的，所以ndarray在存储元素时内存可以连续，而python原生list就只能通过寻址方式找到下一个元素，这虽然也导致了在通用性能方面Numpy的ndarray不及Python原生list，但在科学计算中，Numpy的ndarray就可以省掉很多循环语句，代码使用方面比Python原生list简单的多。\n",
    "*2 ndarray支持并行化运算（向量化运算）*\n",
    "numpy内置了并行运算功能，当系统有多个核心时，做某种计算时，numpy会自动做并行计算\n",
    "\n",
    "*3 效率远高于纯Python代码*\n",
    "Numpy底层使用C语言编写，内部解除了GIL（全局解释器锁），其对数组的操作速度不受Python解释器的限制，所以，其效率远高于纯Python代码。"
   ]
  },
  {
   "cell_type": "markdown",
   "id": "e62022c3",
   "metadata": {},
   "source": [
    "### 4 生成数组的方法\n",
    "#### 4.1 生成0和1的数组"
   ]
  },
  {
   "cell_type": "code",
   "execution_count": 13,
   "id": "b185aab9",
   "metadata": {},
   "outputs": [
    {
     "data": {
      "text/plain": [
       "array([[0., 0., 0., 0.],\n",
       "       [0., 0., 0., 0.],\n",
       "       [0., 0., 0., 0.]])"
      ]
     },
     "execution_count": 13,
     "metadata": {},
     "output_type": "execute_result"
    }
   ],
   "source": [
    "np.zeros((3,4))"
   ]
  },
  {
   "cell_type": "code",
   "execution_count": 14,
   "id": "41d6ecf6",
   "metadata": {},
   "outputs": [
    {
     "data": {
      "text/plain": [
       "array([[[1., 1., 1., 1.],\n",
       "        [1., 1., 1., 1.],\n",
       "        [1., 1., 1., 1.]],\n",
       "\n",
       "       [[1., 1., 1., 1.],\n",
       "        [1., 1., 1., 1.],\n",
       "        [1., 1., 1., 1.]]])"
      ]
     },
     "execution_count": 14,
     "metadata": {},
     "output_type": "execute_result"
    }
   ],
   "source": [
    "ones=np.ones((2,3,4))\n",
    "ones"
   ]
  },
  {
   "cell_type": "code",
   "execution_count": 15,
   "id": "87e3c9cb",
   "metadata": {},
   "outputs": [
    {
     "data": {
      "text/plain": [
       "array([[[0., 0., 0., 0.],\n",
       "        [0., 0., 0., 0.],\n",
       "        [0., 0., 0., 0.]],\n",
       "\n",
       "       [[0., 0., 0., 0.],\n",
       "        [0., 0., 0., 0.],\n",
       "        [0., 0., 0., 0.]]])"
      ]
     },
     "execution_count": 15,
     "metadata": {},
     "output_type": "execute_result"
    }
   ],
   "source": [
    "np.zeros_like(ones)"
   ]
  },
  {
   "cell_type": "markdown",
   "id": "5befb498",
   "metadata": {},
   "source": [
    "#### 4.2 从现有数组生成\n"
   ]
  },
  {
   "cell_type": "code",
   "execution_count": 16,
   "id": "81807014",
   "metadata": {},
   "outputs": [],
   "source": [
    "a=np.array([[1,2,3],[4,5,6]])\n",
    "a1=np.array(a)"
   ]
  },
  {
   "cell_type": "code",
   "execution_count": 17,
   "id": "53016d0a",
   "metadata": {},
   "outputs": [
    {
     "data": {
      "text/plain": [
       "array([[1, 2, 3],\n",
       "       [4, 5, 6]])"
      ]
     },
     "execution_count": 17,
     "metadata": {},
     "output_type": "execute_result"
    }
   ],
   "source": [
    "a1"
   ]
  },
  {
   "cell_type": "code",
   "execution_count": 18,
   "id": "d04908b9",
   "metadata": {},
   "outputs": [
    {
     "data": {
      "text/plain": [
       "array([[1, 2, 3],\n",
       "       [4, 5, 6]])"
      ]
     },
     "execution_count": 18,
     "metadata": {},
     "output_type": "execute_result"
    }
   ],
   "source": [
    "a2=np.asarray(a)\n",
    "a2"
   ]
  },
  {
   "cell_type": "code",
   "execution_count": 19,
   "id": "11c6b3a5",
   "metadata": {},
   "outputs": [
    {
     "data": {
      "text/plain": [
       "array([[100,   2,   3],\n",
       "       [  4,   5,   6]])"
      ]
     },
     "execution_count": 19,
     "metadata": {},
     "output_type": "execute_result"
    }
   ],
   "source": [
    "a[0,0]=100\n",
    "a"
   ]
  },
  {
   "cell_type": "code",
   "execution_count": 20,
   "id": "d54082a4",
   "metadata": {},
   "outputs": [
    {
     "data": {
      "text/plain": [
       "array([[1, 2, 3],\n",
       "       [4, 5, 6]])"
      ]
     },
     "execution_count": 20,
     "metadata": {},
     "output_type": "execute_result"
    }
   ],
   "source": [
    "a1"
   ]
  },
  {
   "cell_type": "code",
   "execution_count": 21,
   "id": "ccfd3e11",
   "metadata": {},
   "outputs": [
    {
     "data": {
      "text/plain": [
       "array([[100,   2,   3],\n",
       "       [  4,   5,   6]])"
      ]
     },
     "execution_count": 21,
     "metadata": {},
     "output_type": "execute_result"
    }
   ],
   "source": [
    "a2"
   ]
  },
  {
   "cell_type": "markdown",
   "id": "4d4e3bc8",
   "metadata": {},
   "source": [
    "*深拷贝（复制，改源文件复制的文件不发生变化）浅拷贝（创建快捷方式，改源文件快捷方式也变化）\n",
    "a1未变化，a2变化；a1（array）深拷贝，a2(asarray)浅拷贝*"
   ]
  },
  {
   "cell_type": "markdown",
   "id": "dde33370",
   "metadata": {},
   "source": [
    "#### 4.3 生成固定范围的数组"
   ]
  },
  {
   "cell_type": "code",
   "execution_count": 22,
   "id": "81955cca",
   "metadata": {},
   "outputs": [
    {
     "data": {
      "text/plain": [
       "array([  0.,  10.,  20.,  30.,  40.,  50.,  60.,  70.,  80.,  90., 100.])"
      ]
     },
     "execution_count": 22,
     "metadata": {},
     "output_type": "execute_result"
    }
   ],
   "source": [
    "np.linspace(0,100,11)#生成等差数列"
   ]
  },
  {
   "cell_type": "code",
   "execution_count": 23,
   "id": "999298bf",
   "metadata": {},
   "outputs": [
    {
     "data": {
      "text/plain": [
       "array([10, 12, 14, 16, 18, 20, 22, 24, 26, 28, 30, 32, 34, 36, 38, 40, 42,\n",
       "       44, 46, 48])"
      ]
     },
     "execution_count": 23,
     "metadata": {},
     "output_type": "execute_result"
    }
   ],
   "source": [
    "np.arange(10,50,2)"
   ]
  },
  {
   "cell_type": "code",
   "execution_count": 24,
   "id": "ed92d6f7",
   "metadata": {},
   "outputs": [
    {
     "data": {
      "text/plain": [
       "array([  1.,  10., 100.])"
      ]
     },
     "execution_count": 24,
     "metadata": {},
     "output_type": "execute_result"
    }
   ],
   "source": [
    "np.logspace(0,2,3)#log10,从10的0次方到10的2次方生成三个数"
   ]
  },
  {
   "cell_type": "markdown",
   "id": "8d15b95d",
   "metadata": {},
   "source": [
    "#### 4.4 生成随机数组\n",
    "##### 4.4.1 生成均匀分布的数组\n",
    "```\n",
    "np.random.uniform(low=,high=,size=None)#low下届，high上界\n",
    "np.random.rand()\n",
    "np.random.randint(low=,high=,size=None)\n",
    "```"
   ]
  },
  {
   "cell_type": "code",
   "execution_count": 25,
   "id": "0b42d327",
   "metadata": {},
   "outputs": [
    {
     "data": {
      "text/plain": [
       "array([[0.03888063, 0.84477729, 0.91499517],\n",
       "       [0.2945753 , 0.51271086, 0.22256759]])"
      ]
     },
     "execution_count": 25,
     "metadata": {},
     "output_type": "execute_result"
    }
   ],
   "source": [
    "#np.random.rand\n",
    "np.random.rand(2,3)"
   ]
  },
  {
   "cell_type": "code",
   "execution_count": 26,
   "id": "905531b9",
   "metadata": {},
   "outputs": [
    {
     "data": {
      "text/plain": [
       "array([[8.97480875, 2.76943811, 6.13564735, 5.52211783, 4.48648383],\n",
       "       [5.95950782, 2.46723009, 2.3522721 , 8.11031008, 3.12013273],\n",
       "       [2.57390384, 5.09422421, 8.47084234, 5.29865066, 4.12003383]])"
      ]
     },
     "execution_count": 26,
     "metadata": {},
     "output_type": "execute_result"
    }
   ],
   "source": [
    "np.random.uniform(low=1,high=10,size=(3,5))"
   ]
  },
  {
   "cell_type": "code",
   "execution_count": 27,
   "id": "f47446dd",
   "metadata": {},
   "outputs": [
    {
     "data": {
      "text/plain": [
       "array([[4, 7, 6, 9, 7],\n",
       "       [7, 9, 9, 9, 2],\n",
       "       [7, 9, 2, 1, 3]])"
      ]
     },
     "execution_count": 27,
     "metadata": {},
     "output_type": "execute_result"
    }
   ],
   "source": [
    "np.random.randint(low=1,high=10,size=(3,5))"
   ]
  },
  {
   "cell_type": "markdown",
   "id": "00bbb43f",
   "metadata": {},
   "source": [
    "##### 4.4.2 绘图，均匀分布的数组\n",
    "![uniform](imgs/uniform.png)"
   ]
  },
  {
   "cell_type": "code",
   "execution_count": 28,
   "id": "5de528d4",
   "metadata": {},
   "outputs": [
    {
     "data": {
      "image/png": "[encoded data removed]",
      "text/plain": [
       "<Figure size 1000x1000 with 1 Axes>"
      ]
     },
     "metadata": {
      "needs_background": "light"
     },
     "output_type": "display_data"
    }
   ],
   "source": [
    "x1=np.random.uniform(-1,1,100000000)\n",
    "import matplotlib.pyplot as plt\n",
    "plt.figure(figsize=(10,10),dpi=100)\n",
    "plt.hist(x=x1,bins=1000)\n",
    "plt.show()"
   ]
  },
  {
   "cell_type": "markdown",
   "id": "cd2d1780",
   "metadata": {},
   "source": [
    "##### 4.4.3 生成正态分布的数组\n",
    "*基础概念复习*\n",
    "![normal](imgs/normal.png)\n",
    "1.均值$\\mu$\n",
    "\n",
    "2.标准差/方差$\\sigma$\n",
    "$$s^2=\\frac{(x_1-M)^2+(x_2-M)^2+(x_3-M)^2+...+(x_N-M)^2}{N}$$\n",
    "$s^2$为整体方差，M为平均值，n为数据总个数\n",
    "$$\\sigma=\\sqrt[2]{\\frac{\\sum_{i=1}^N{(x_i-M)^2}}{N}}$$\n",
    "正态分布概率公式：\n",
    "$$f(x)=\\frac{e^{-\\frac{(x-\\mu)^2}{2\\sigma^2}}}{\\sigma\\sqrt[]{2\\pi}}$$\n",
    "*！如何在markdown中插入数学公式？*\n",
    "https://www.jianshu.com/p/a0aa94ef8ab2\n"
   ]
  },
  {
   "cell_type": "markdown",
   "id": "d185ae0b",
   "metadata": {},
   "source": [
    "*方差值越小，表示数据越集中；反之，则数据越分散*\n",
    "```\n",
    "np.random.randn(n)#标准正态分布中返回n个值\n",
    "np.random.normal(loc=0.0,scale=1.0,size=None)#loc:此概率的均值，scale:此概率分布的标准差（对应宽度），size：输出的shape，默认是一个\n",
    "np.random.standard_normal(size=None)#返回指定形状的正态分布数组\n",
    "```"
   ]
  },
  {
   "cell_type": "code",
   "execution_count": 29,
   "id": "c20bd731",
   "metadata": {},
   "outputs": [
    {
     "data": {
      "text/plain": [
       "array([-1.85795129, -0.73310112])"
      ]
     },
     "execution_count": 29,
     "metadata": {},
     "output_type": "execute_result"
    }
   ],
   "source": [
    "np.random.randn(2)"
   ]
  },
  {
   "cell_type": "code",
   "execution_count": 30,
   "id": "5dea52b7",
   "metadata": {},
   "outputs": [],
   "source": [
    "x2=np.random.normal(loc=1.75,scale=1.0,size=100000000)\n",
    "#如果数组太大而无法打印，NumPy 会自动跳过数组的中心部分，只打印角落：\n",
    "#np.set_printoptions(threshold=5) #控制输出的值的个数为6，其余以...代替\n",
    "#np.set_printoptions(threshold=np.nan) #控制台输出所有的值，不需要省略号"
   ]
  },
  {
   "cell_type": "code",
   "execution_count": 31,
   "id": "90760ef7",
   "metadata": {
    "scrolled": true
   },
   "outputs": [
    {
     "data": {
      "text/plain": [
       "array([ 7.18987330e-01,  2.48031391e+00,  2.07430657e-01,  1.91610561e+00,\n",
       "        1.46260522e+00,  2.06214667e+00,  8.95315835e-01,  1.45532638e+00,\n",
       "        1.46923145e+00,  2.18288087e+00,  2.81893666e+00,  1.08813533e+00,\n",
       "        3.00754084e+00,  2.01335458e+00,  2.59520480e+00,  1.66931660e+00,\n",
       "        3.08668525e+00,  1.69425156e+00,  2.25840281e+00,  1.98167334e+00,\n",
       "        1.67717397e+00,  6.30490252e-01,  2.09163106e+00, -8.81482775e-03,\n",
       "        2.21058552e+00,  2.03020402e+00,  3.15776362e+00,  2.30356699e+00,\n",
       "        2.07460202e+00,  1.67469549e+00,  1.78870651e+00,  4.08522074e+00,\n",
       "        8.90955888e-01,  6.58228516e-01, -3.44148118e-01,  2.03460199e+00,\n",
       "        1.13621920e+00,  1.14656265e+00,  7.47037024e-01,  1.50568518e+00,\n",
       "        1.94000863e+00,  1.94295573e+00,  1.25834467e+00,  1.72433000e+00,\n",
       "        2.70325044e+00,  2.21580682e+00,  7.46627495e-01, -6.72571432e-02,\n",
       "        2.57414378e+00,  3.78726239e+00,  1.22886469e-01,  2.16549448e+00,\n",
       "        1.79232525e+00,  2.11046189e+00,  1.53329440e+00,  1.62529147e+00,\n",
       "        3.00058270e+00,  1.93369055e+00,  1.67338253e+00,  2.35443443e+00,\n",
       "        2.98335378e+00,  1.67840859e+00,  3.14064746e+00,  2.40728262e+00,\n",
       "        1.02938042e+00,  6.62767116e-01,  1.66834113e+00,  2.22486967e+00,\n",
       "        9.85708440e-01,  6.86070358e-01,  2.78521489e+00,  2.64317496e+00,\n",
       "        3.10763048e-01,  5.87603606e-01,  2.06175143e-01,  2.30599294e+00,\n",
       "        8.41934782e-01,  1.57141174e+00,  1.89901889e+00,  2.29892369e+00,\n",
       "        1.85995010e-01,  4.20845753e+00,  5.91009526e-01,  2.48113143e+00,\n",
       "        2.10133935e+00,  2.05873031e+00,  2.57428144e+00,  3.67256719e+00,\n",
       "        3.01153062e+00,  4.95240370e-01,  1.63505454e+00,  2.18779529e+00,\n",
       "        1.90385468e+00,  1.65966840e+00, -4.99360068e-02,  2.57420592e+00,\n",
       "        2.53203159e+00,  1.20704538e+00,  2.23135359e+00,  1.12094917e+00,\n",
       "        8.21291612e-01,  1.60004698e+00,  3.20978901e+00,  4.37507430e-01,\n",
       "        2.23628324e+00,  1.47557595e+00,  2.28673068e+00,  2.59736975e+00,\n",
       "        3.00616039e+00,  1.40768150e+00, -8.56491083e-01,  6.04355349e-01,\n",
       "        1.91710463e+00,  1.37591315e-01,  8.85305550e-01,  1.10676386e+00,\n",
       "        1.80225297e+00,  1.13507440e+00,  2.01653579e+00,  1.70556231e-01,\n",
       "        2.20649409e+00,  1.14188335e+00,  3.32572870e+00,  2.49428501e+00,\n",
       "        1.53416801e+00,  9.29612241e-01,  2.24333544e+00,  3.78529104e+00,\n",
       "        2.90361532e+00,  2.67472044e+00,  1.59032871e+00,  3.04841075e+00,\n",
       "        2.11254382e+00,  2.54980735e+00,  2.09077261e+00,  1.94501047e+00,\n",
       "        6.66753428e-01,  1.35565451e+00,  1.35134036e+00,  1.52175405e+00,\n",
       "        2.89785400e+00,  2.52341730e+00,  3.19137864e+00,  1.84608172e+00,\n",
       "       -1.02139129e-01,  2.22211235e-01, -8.10146827e-02,  2.24473003e+00,\n",
       "        5.60598418e-01,  2.75599174e+00,  2.22939495e+00,  2.47041268e+00,\n",
       "        1.97507560e+00,  2.49022210e+00,  9.29531498e-01,  2.02028013e+00,\n",
       "        1.28456317e+00,  2.27102590e+00,  2.29811550e-01,  2.99562102e+00,\n",
       "        1.36055230e+00,  3.26117859e+00,  1.80210729e+00,  1.31444282e+00,\n",
       "        3.22065416e+00,  3.05920998e+00,  8.06384853e-01,  1.51262465e+00,\n",
       "        2.12481238e+00,  2.45241927e+00, -1.60785377e-01,  2.06228654e+00,\n",
       "        3.18315899e+00,  1.12560758e+00,  1.04683783e+00,  3.12424941e+00,\n",
       "        1.63184461e+00,  1.38405520e+00,  1.89605644e+00,  3.01336310e+00,\n",
       "        2.19758869e+00,  1.40708529e+00,  4.09712818e-01,  1.21920409e+00,\n",
       "        1.08660802e+00,  1.39878542e+00,  1.73720633e+00,  2.45485022e+00,\n",
       "        9.09661312e-01,  4.35333848e-01,  1.17892828e+00,  1.52018563e+00,\n",
       "        2.61500058e+00,  2.16168131e+00,  2.53008354e+00,  1.45909828e+00,\n",
       "        2.58988527e+00,  7.27682965e-01,  2.52737880e+00,  2.94993377e+00,\n",
       "        2.02065646e+00,  1.67943275e+00,  2.61757925e+00,  2.85635374e-01,\n",
       "        8.46592418e-01,  1.16143561e+00,  1.87897022e+00,  1.59860921e+00,\n",
       "        1.57756059e-01,  2.45250662e+00,  4.46964285e+00,  8.30791468e-01,\n",
       "        1.45329716e+00,  3.23673612e-01,  1.77315101e+00,  1.63385297e+00,\n",
       "        2.08720845e+00,  2.78830641e+00,  2.04654484e+00,  1.68126357e+00,\n",
       "        2.31684730e+00,  2.96157706e+00,  1.36250324e+00,  1.71155184e+00,\n",
       "       -2.01594627e-01,  2.05231261e+00,  3.08984319e+00,  1.87985899e+00,\n",
       "        1.02791718e+00,  2.09463691e+00,  2.80902125e+00,  1.36852536e+00,\n",
       "       -3.83338778e-01,  2.88285637e+00,  1.95954376e+00,  2.43035379e+00,\n",
       "        1.13904870e+00,  2.00635865e+00,  1.03377661e+00,  1.59622992e+00,\n",
       "        2.31855106e+00,  2.93473210e+00,  1.23958796e+00,  2.62979224e+00,\n",
       "        7.64499660e-01,  1.80280840e+00, -2.70209812e-01, -1.07720123e-02,\n",
       "        4.38983417e-01,  2.08716971e+00,  2.61822493e+00, -2.18946952e-01,\n",
       "        1.56310179e+00,  1.46275756e+00,  1.56650298e+00,  2.00839619e+00,\n",
       "        1.29238005e+00,  2.96331446e+00,  1.91260841e+00,  3.04539494e+00,\n",
       "        1.58379972e+00,  7.75727577e-01,  2.24405540e-02,  2.37147129e+00,\n",
       "        2.18226334e+00,  2.30037108e+00,  2.42210516e+00,  1.40416567e+00,\n",
       "        3.27539924e+00,  2.19241173e+00,  8.98803046e-01,  2.48528816e+00,\n",
       "        7.53675115e-01,  3.27666762e+00,  4.78402592e+00,  1.68431807e+00,\n",
       "        1.60294928e+00,  2.23070248e+00,  3.91430650e+00,  3.47393228e-01,\n",
       "        1.44022289e+00,  1.47985492e+00,  1.10911445e+00,  1.26541287e+00,\n",
       "        2.18838110e+00,  1.58688643e+00,  2.48798525e+00,  1.62831122e+00,\n",
       "        1.19969853e-01,  2.56810086e+00,  1.11355082e+00,  5.96676162e-01,\n",
       "        6.87983227e-01,  1.94124874e+00,  1.45179454e+00,  1.71549718e+00,\n",
       "        1.74580216e+00,  2.99650196e-01,  1.52069127e+00,  1.86610348e+00,\n",
       "       -6.59192291e-01,  2.30824140e+00,  5.61246661e-01,  1.25964711e+00,\n",
       "        2.98928059e+00,  1.13441118e+00,  1.88343051e+00,  2.58418597e+00,\n",
       "        2.13485909e+00,  1.81040917e+00,  1.91128004e+00,  1.14037005e+00,\n",
       "        2.77221649e+00,  3.68263636e+00,  1.15573569e+00,  1.45678408e+00,\n",
       "        3.18711284e+00,  1.01199106e+00,  2.68214168e+00,  9.12540574e-01,\n",
       "        2.20622737e+00,  2.27513524e+00,  7.24616117e-01,  2.18729307e+00,\n",
       "        1.33550745e+00,  1.96806743e+00,  2.27560847e+00,  1.74136917e+00,\n",
       "        1.86496090e+00,  6.79966824e-01,  1.69265151e+00,  4.96985642e-01,\n",
       "        2.14310935e+00,  1.58409737e+00,  1.71730664e+00,  5.56535192e-01,\n",
       "        1.27695097e+00,  1.88277136e+00,  1.83969969e+00,  1.90113067e+00,\n",
       "        3.74253445e+00,  2.78394884e-01,  2.85179076e+00,  7.44007072e-02,\n",
       "        1.13273585e+00,  3.45776755e+00,  1.66536217e+00,  1.59117958e+00,\n",
       "        6.57963641e-01,  1.22479129e+00,  1.21441679e+00,  3.35058495e-01,\n",
       "        1.25029157e+00,  9.14063823e-01,  2.13111330e+00,  2.47833115e+00,\n",
       "        8.64143625e-01,  3.43187169e+00, -1.54542442e-01,  1.34638010e+00,\n",
       "        1.60048732e+00,  1.74854133e+00,  1.24879143e+00,  1.58613169e+00,\n",
       "        3.57829424e+00,  2.98848963e+00,  2.65085057e+00,  3.60813166e-01,\n",
       "        4.01895649e-01,  5.19477591e-01,  3.15260581e+00,  3.58545139e+00,\n",
       "        2.40053355e+00,  1.90624297e+00,  2.80980986e+00,  2.58003692e+00,\n",
       "        2.64273415e+00,  1.57530973e+00,  3.52224485e-02,  3.45309951e+00,\n",
       "        3.14900764e+00,  3.60702963e+00,  1.07334314e+00,  2.08671717e+00,\n",
       "        2.63043476e+00,  8.81288758e-02,  2.28585774e+00,  9.96971898e-01,\n",
       "        1.46517125e+00,  1.01645830e+00,  1.37228173e+00,  1.85687745e+00,\n",
       "        1.16361898e+00,  1.50798807e+00,  1.53795347e+00,  7.62928675e-01,\n",
       "        3.22049612e+00,  1.67521414e+00,  1.00878863e+00,  2.21207756e+00,\n",
       "        3.27822022e+00,  5.07913792e-01,  9.72661962e-01,  1.16504983e+00,\n",
       "        2.07789166e+00,  1.96479424e+00,  1.45169755e+00,  3.54345518e+00,\n",
       "        1.32751789e+00,  1.07436068e+00, -5.48342712e-01,  1.56185722e-01,\n",
       "        2.45606857e+00,  2.65394631e+00,  2.02499716e+00,  1.35388985e+00,\n",
       "        8.18587997e-01,  1.35392168e+00,  1.23072448e+00,  1.32263504e-01,\n",
       "        2.31343887e+00,  1.59908062e+00,  1.81219446e+00,  8.15605069e-01,\n",
       "        2.16838853e+00,  8.30839970e-01, -2.64917570e-01,  9.88234134e-01,\n",
       "        2.39172665e+00,  1.58638183e+00,  2.87641661e+00,  2.36845365e+00,\n",
       "        2.62346840e+00,  1.44492780e+00,  1.35332778e+00,  9.50946694e-01,\n",
       "        1.73092109e+00,  2.05865100e+00,  3.18363068e+00,  7.46977057e-01,\n",
       "        3.67627198e+00,  1.26551637e+00,  2.29254369e+00, -1.37630944e-01,\n",
       "        1.53904574e-01,  2.20400017e+00,  2.00337608e+00,  1.86306388e+00,\n",
       "        1.80842676e+00,  2.71119647e+00,  3.87980665e+00,  2.88837940e+00,\n",
       "        2.42506963e+00,  1.22378161e+00,  2.59789532e+00,  3.12778109e+00,\n",
       "        1.30835948e+00,  1.29432411e+00,  1.65694249e+00,  1.12914660e+00,\n",
       "        3.93418360e-01,  9.83779951e-01,  1.44792538e+00,  3.72651067e+00,\n",
       "        2.10403859e+00,  1.28405966e+00,  1.07637614e+00,  8.50557135e-01,\n",
       "       -2.38142602e-01,  3.19497903e+00, -3.71410365e-02,  5.26871757e-01,\n",
       "        2.76199000e+00,  9.47374572e-01,  1.73362427e+00,  2.68969911e+00,\n",
       "        3.17064632e+00,  2.32150193e+00,  1.40795469e+00,  1.53272454e+00,\n",
       "        2.23722641e+00,  4.45561836e-01,  1.51741970e+00,  1.30241581e+00,\n",
       "        1.97067351e-02,  1.75616965e+00,  2.34491472e+00,  9.78711394e-01,\n",
       "        1.45494636e+00, -5.23598035e-01,  1.66568207e+00,  1.75862716e+00,\n",
       "        9.94212191e-01,  1.70997040e+00,  5.78335770e-01,  1.34437858e+00,\n",
       "        2.38701938e+00,  2.67654011e+00,  1.65765283e+00,  6.84488594e-01,\n",
       "        3.94137203e-01,  1.10525793e+00,  1.60101955e+00,  9.45730659e-01,\n",
       "        2.43885899e+00,  6.72996603e-01,  2.44899819e-01,  1.99441185e+00,\n",
       "        2.87286954e+00, -4.24126388e-01, -2.02774865e-01,  2.06386455e+00,\n",
       "        4.90854650e-01,  2.00299698e+00,  3.44484415e+00,  7.60094133e-01,\n",
       "        3.20557447e+00,  1.55647342e+00,  9.02417187e-01,  2.48081097e+00,\n",
       "        3.26608252e+00,  7.92873577e-01,  3.40557340e+00, -2.84013433e-01,\n",
       "        2.01468930e+00,  3.24150581e-01,  1.32298751e+00,  1.49278433e+00,\n",
       "        1.91329628e+00,  8.32480244e-01,  2.80888593e+00,  5.95518570e-01,\n",
       "        2.01679836e+00,  3.28715400e+00,  1.57649784e+00,  1.70797599e+00,\n",
       "        2.72924692e+00,  3.94931379e+00,  2.68149154e+00,  2.68477455e+00,\n",
       "        1.66762425e+00,  5.41236632e-01,  2.20015470e-01,  2.53865999e+00,\n",
       "        1.44311739e+00,  2.46750573e+00,  2.25261197e+00,  5.00946500e-01,\n",
       "        2.26488796e+00,  1.46257732e+00,  1.90870952e+00,  1.63857281e+00,\n",
       "        2.26550435e+00,  4.47617002e+00,  3.56948489e+00,  1.72429505e+00,\n",
       "        5.05884595e-01,  2.78670663e+00,  1.43309477e+00,  1.02565393e+00,\n",
       "        2.46117901e+00,  8.80657729e-01, -1.21596165e+00,  6.00804785e-01,\n",
       "        9.47103729e-01,  2.26645188e+00,  1.32707046e+00,  1.52607747e+00,\n",
       "        1.87302155e+00,  2.98292239e+00,  2.84743774e-01,  3.65002762e+00,\n",
       "        1.97362630e+00,  9.66190422e-01,  1.54670507e-01,  1.20063149e+00,\n",
       "        1.32139976e+00,  9.67853280e-01, -3.38330364e-01,  2.76765491e+00,\n",
       "        8.98840053e-01,  2.95658801e+00,  2.13431867e+00,  2.50769063e+00,\n",
       "        1.70721104e+00,  1.43464435e+00,  1.81997384e+00, -3.13178154e-01,\n",
       "        9.33533767e-01,  2.08090001e+00,  2.28099772e+00,  8.62136845e-01,\n",
       "        1.46841374e+00, -1.82368375e+00,  2.98590728e+00,  1.77841906e+00,\n",
       "        1.90454632e+00,  3.12047986e-01,  3.83505858e+00,  2.82990861e+00,\n",
       "        9.19925169e-01, -6.65055295e-02,  2.08197237e+00,  1.68055617e+00,\n",
       "        2.05607701e+00,  3.74041464e+00,  2.06963125e+00,  1.62123573e+00,\n",
       "        1.76527326e+00,  8.43385362e-01,  1.75228921e+00,  9.00895633e-01,\n",
       "        2.48700086e+00,  2.14049680e+00,  7.78284758e-01,  7.35242686e-01,\n",
       "        2.69348530e-01,  2.50512396e+00,  2.37016110e+00,  8.29719865e-01,\n",
       "        2.75271347e+00,  1.81489671e+00,  1.93722453e+00,  1.11372816e+00,\n",
       "        2.36390397e+00,  1.75632547e+00,  2.87132943e+00,  1.37482128e+00,\n",
       "        2.01963326e+00,  2.20836795e+00,  3.66660600e+00,  2.68123116e+00,\n",
       "        2.47606678e+00,  1.03569451e+00,  1.85121990e+00,  2.36822608e+00,\n",
       "        2.68833297e+00,  2.96156652e+00,  6.47504922e-01,  2.65613489e+00,\n",
       "        1.38308226e+00,  3.00802658e+00,  2.97031530e+00,  3.28304909e-01,\n",
       "        1.68520173e+00,  2.00146418e+00,  1.72903728e+00,  1.41540535e-01,\n",
       "        8.50803281e-01,  1.07432081e+00,  1.75252731e+00,  3.44652915e+00,\n",
       "        1.57795610e+00,  3.49704282e+00,  2.51517407e+00,  3.32280983e-01,\n",
       "        2.21257929e+00,  1.68138621e+00,  2.08516999e+00,  3.71597274e+00,\n",
       "        1.56481773e+00,  6.66763537e-01,  1.63611989e+00,  1.47465617e+00,\n",
       "        2.56708597e+00,  1.72747218e+00,  2.74256809e+00, -3.55287485e-01,\n",
       "        1.41463113e-01,  2.80677981e+00, -1.04836723e+00,  1.99524757e+00,\n",
       "        1.53065614e+00,  2.90672078e+00,  1.87055037e+00,  3.69628311e+00,\n",
       "        1.55486840e+00,  2.43136354e+00,  1.45601049e+00,  3.29037308e+00,\n",
       "        1.97776970e+00,  2.06414313e+00,  2.07693434e+00,  1.64536342e+00,\n",
       "        6.89156240e-01,  1.13681387e+00,  1.39298366e+00,  2.45657685e+00,\n",
       "        1.66579903e+00,  2.06125376e+00,  5.03376257e-01,  1.28563509e+00,\n",
       "        2.35807224e+00,  7.34675194e-01,  2.92464611e+00,  2.49869927e+00,\n",
       "        3.28175043e+00,  9.28193623e-01,  7.39445070e-01,  2.70264177e+00,\n",
       "        1.74244968e+00,  5.92199528e-01,  2.16980137e+00,  1.47754634e+00,\n",
       "        1.82980933e+00,  1.74174759e+00,  2.91703962e+00,  9.55385745e-01,\n",
       "       -7.32879609e-02,  2.18012598e+00,  9.56385383e-01,  5.40557159e-01,\n",
       "        2.33543887e+00,  3.06417922e+00,  2.55515721e+00,  1.63018969e+00,\n",
       "        2.60079455e+00,  2.91854649e+00,  1.23945119e-01,  2.35874984e+00,\n",
       "        4.30561013e-01,  2.26567764e+00,  1.62916370e+00,  2.63119209e+00,\n",
       "        1.70331757e+00,  1.21934260e+00,  1.27192693e+00,  1.38554850e+00,\n",
       "        1.44050785e+00,  1.81852311e+00,  1.62758678e+00,  2.63378143e+00,\n",
       "        1.50311762e+00,  1.47855140e+00,  2.69888620e+00,  1.48837756e+00,\n",
       "        2.62579498e+00,  1.16847002e+00,  1.34279368e+00,  2.44462147e+00,\n",
       "        2.11728572e+00, -2.25816584e-01,  1.71835368e+00,  2.61442576e+00,\n",
       "        2.92769002e+00,  1.97194940e+00,  3.73475775e+00,  3.27219668e+00,\n",
       "        1.71505440e+00, -1.01602783e+00,  9.24729496e-01,  2.25794406e+00,\n",
       "        2.05023185e-01,  2.43546621e+00,  2.35848790e+00,  2.68571022e+00,\n",
       "        1.94666673e+00, -6.07700470e-01,  1.72046114e+00,  2.31460478e+00,\n",
       "        2.71638040e+00, -2.28180610e-01,  9.10016557e-01,  1.48135381e-01,\n",
       "        2.77386400e+00,  1.78477303e+00,  1.08945983e+00,  1.82202647e+00,\n",
       "        1.68072182e+00,  1.00490071e+00,  2.20451940e+00,  3.75277793e+00,\n",
       "        1.03187655e+00,  3.36928055e-01,  1.51106359e+00,  5.24514693e-01,\n",
       "        3.02980899e+00,  3.32594176e+00,  1.43616792e+00,  2.29141361e+00,\n",
       "        1.95995234e+00,  1.08020222e+00,  2.26005903e+00,  2.55912761e-01,\n",
       "        2.71529440e+00,  9.63037716e-01,  2.07299666e+00,  3.37279705e+00,\n",
       "        2.13217995e+00,  2.11897923e+00,  1.17364263e+00,  3.03027675e+00,\n",
       "        2.55089341e+00,  3.36005581e+00,  2.51441522e+00,  1.62266315e+00,\n",
       "        7.24990799e-01,  1.38976794e-01,  2.21432728e+00,  1.57807448e+00,\n",
       "       -1.67259051e+00,  1.34696356e+00,  1.54236899e+00,  1.50561742e+00,\n",
       "        2.56746663e+00,  4.85804240e-01,  1.34001137e+00,  4.63702084e-01,\n",
       "        4.08158534e-01,  1.41965134e+00,  1.97591561e+00,  7.18959115e-01,\n",
       "        2.98835101e+00,  8.74265033e-01,  2.06481707e+00,  2.10659810e+00,\n",
       "        1.75106360e+00,  1.87609118e+00,  1.40908975e+00,  2.51159230e+00,\n",
       "        2.10281394e+00,  1.53900657e+00,  4.64408510e-01,  2.43134813e+00,\n",
       "        2.73372104e+00,  4.49195611e-01,  2.15290958e+00,  2.03283007e+00,\n",
       "        2.68514533e+00,  1.61723730e+00,  1.16242210e+00, -6.00082548e-02,\n",
       "        6.21654117e-04,  1.33832588e-01,  1.88571214e+00,  1.76359322e+00,\n",
       "        1.46224113e+00,  2.31322076e+00,  7.07913066e-01,  1.99139838e+00,\n",
       "       -2.59624837e-01,  8.68815393e-01,  2.13142777e+00, -3.24466615e-01,\n",
       "        2.14288714e+00,  2.81490737e+00,  1.81088293e+00,  1.70047002e+00,\n",
       "        1.98004455e+00,  2.14390394e+00,  4.40466006e-01,  2.04828966e+00,\n",
       "        8.81242640e-01,  2.55532030e+00,  1.07050118e+00,  2.80847223e+00,\n",
       "        2.28056824e+00,  1.29888726e+00,  2.39540527e+00,  1.83455281e+00,\n",
       "        1.13310467e+00,  1.62732110e+00,  1.75401315e+00,  1.46601716e+00,\n",
       "        1.75799300e+00,  2.91813182e+00, -3.03070064e-01,  6.03930924e-01,\n",
       "        2.86833065e+00,  1.69821852e+00,  2.98973022e+00,  1.85111978e+00,\n",
       "        1.75054838e+00,  5.88319604e-01,  2.40937738e+00,  2.07893369e+00,\n",
       "        3.19387790e+00,  2.19418986e+00,  1.20054094e+00,  1.39022123e+00,\n",
       "        1.75080556e+00,  3.52618309e+00,  1.84532020e+00,  2.24141936e+00,\n",
       "        1.90437265e+00,  2.94278172e+00,  1.92736424e+00,  1.88540766e+00,\n",
       "        3.27775701e+00,  1.80291686e+00,  2.29772863e+00,  1.18890596e+00,\n",
       "        2.55376115e+00,  2.15525265e+00,  2.69970787e+00,  2.85844589e+00,\n",
       "        2.66381679e+00,  2.64779704e+00,  1.42157577e+00,  1.43864577e-01,\n",
       "        2.14238191e+00,  8.92404184e-01,  1.35507667e+00,  2.19147537e+00,\n",
       "        3.18178720e-01,  1.28142078e+00,  7.93648364e-01,  1.93178217e+00,\n",
       "        2.69357418e+00,  4.65570921e-01,  3.13333989e+00,  1.49373151e+00,\n",
       "       -4.64450322e-01,  2.51642381e+00,  2.60219245e+00,  1.44243491e+00,\n",
       "        3.13265504e+00,  1.51676019e+00,  2.11010118e+00,  1.45747540e+00,\n",
       "        1.10237196e+00,  1.30373651e+00,  1.74481803e+00,  2.05110275e+00,\n",
       "        2.15221183e+00, -1.90437350e-01,  3.88001081e-01,  3.00617083e+00,\n",
       "        2.36277933e+00,  4.86116720e-01,  2.59244181e+00,  1.02551592e+00,\n",
       "        8.68436306e-01,  9.39552856e-01, -1.34028741e+00,  7.13148071e-01,\n",
       "        2.50267204e+00,  1.42188342e+00,  7.73380102e-01,  2.53042286e+00,\n",
       "        3.08009934e+00,  1.45276612e+00,  3.88439057e+00,  1.92989440e+00,\n",
       "        1.44435535e+00,  4.14364312e-01,  2.20455477e+00,  2.35908042e+00,\n",
       "        2.07277836e+00,  9.30432323e-01,  8.94298751e-01,  1.75398793e+00,\n",
       "        1.74845514e+00,  1.10883879e+00,  1.29542007e+00,  8.60118300e-01,\n",
       "        2.15600781e+00,  3.82182275e+00,  2.16588447e+00,  3.60815826e+00,\n",
       "        1.85887186e+00,  2.16165164e+00,  1.02974347e+00,  8.19594703e-02,\n",
       "        1.43993997e+00,  2.41051660e+00,  2.53707246e+00,  1.07484295e+00,\n",
       "        2.38142999e+00,  8.42098196e-01,  1.06084678e+00,  1.38355346e+00,\n",
       "        2.38384774e-01,  1.14283212e+00,  1.38372030e+00,  4.26082951e-01,\n",
       "        2.69675500e-01,  1.64456068e+00,  1.48379507e+00,  2.41173570e+00,\n",
       "        2.08869564e+00,  2.40429303e+00,  5.85144769e-01,  2.03966826e+00,\n",
       "        8.14239829e-01,  2.22074371e+00,  8.64848686e-01,  2.85415224e+00,\n",
       "       -2.87884881e-01,  2.10390479e+00,  1.67002701e+00,  2.44462594e+00,\n",
       "        3.33647716e+00,  1.07361016e+00,  1.14201291e+00,  8.49984761e-01,\n",
       "        1.64909649e+00,  3.73236455e-01,  1.45089631e+00,  7.95710802e-01,\n",
       "        1.45270382e+00,  1.65829803e+00,  2.54969252e+00,  3.07852161e+00,\n",
       "        7.15499009e-01,  1.26135075e+00,  2.72438231e+00,  2.73157789e+00,\n",
       "        1.39397591e+00,  1.53454693e+00,  9.43708522e-01,  2.96302487e+00,\n",
       "        1.87536415e+00,  2.84667914e+00,  1.84505744e+00,  2.56546694e+00,\n",
       "        2.20349399e+00,  1.18196093e+00,  3.64591174e+00,  1.03126990e+00,\n",
       "        2.68090696e-01,  7.72470718e-01,  2.73400972e+00,  2.17685747e+00,\n",
       "        6.26644664e-01,  2.72333852e+00,  2.29709501e+00,  8.87948173e-01,\n",
       "        2.28460901e+00,  2.45504844e+00,  1.97998839e+00,  1.01432249e+00,\n",
       "        4.95026884e+00,  1.91287366e+00,  2.85244359e-01,  2.13343169e+00,\n",
       "        1.29810175e+00,  8.06280455e-01,  1.21048869e+00,  2.57160320e+00,\n",
       "        1.44135819e+00,  1.72837725e+00,  6.84304074e-01,  2.11168527e+00,\n",
       "        1.34720942e+00,  1.36826793e+00,  1.03393418e+00,  2.26029599e+00,\n",
       "        1.74488442e+00,  4.04899309e-01,  1.27566224e+00,  3.64155342e+00,\n",
       "        1.73349325e+00,  1.12184023e+00,  2.07310281e+00, -2.94961781e-01,\n",
       "        1.90886030e+00,  2.57072621e+00,  2.90708661e-01,  1.69768099e+00,\n",
       "        8.46405344e-01,  2.77303415e-01,  8.53915179e-01,  1.25361184e+00,\n",
       "        1.97482631e+00,  1.55720464e+00,  8.30941564e-01,  1.91553085e+00,\n",
       "        1.39496619e+00,  3.13265392e+00,  5.87713430e-02,  2.03474013e+00,\n",
       "        2.96940175e+00,  1.18985907e+00,  1.20700438e+00,  3.27755484e+00,\n",
       "        1.38102163e+00,  1.72445374e+00,  6.64125246e-01,  3.00249653e+00,\n",
       "        9.35333200e-01,  1.56779196e-01,  3.25958973e+00,  1.55835942e+00,\n",
       "        2.52348951e+00,  1.94871816e+00,  2.98969616e-01,  5.09683216e-01,\n",
       "        1.21507436e-01,  8.22299997e-01,  1.39865418e+00,  1.81084659e+00,\n",
       "        9.48890218e-01,  1.74857610e+00,  2.68574686e+00,  2.37852454e+00,\n",
       "        3.04065853e+00,  1.96846467e+00,  3.25855246e+00,  2.28888035e+00,\n",
       "        1.64935839e+00,  2.60972507e+00,  2.97050601e+00,  2.29739258e+00,\n",
       "        5.82836548e-01,  2.28470682e-03,  2.65295150e+00, -5.21184885e-01,\n",
       "        3.87148491e-01,  1.72255238e+00,  2.41119651e+00,  1.59844032e+00,\n",
       "        1.90206753e+00,  1.35171669e+00,  2.13463672e+00,  2.87915851e+00,\n",
       "        1.60332901e+00,  1.31805896e+00,  2.04975914e+00,  4.94272837e-01,\n",
       "        2.36704023e+00,  4.31697001e+00, -6.79751967e-01,  1.26818592e+00,\n",
       "        1.11705540e+00,  1.77325870e+00,  1.86030942e+00, -3.81373515e-01,\n",
       "        3.43903690e+00,  2.70693333e+00,  1.55996537e+00,  3.90471648e+00,\n",
       "        2.03361239e+00,  2.23308490e+00,  7.29153026e-01,  2.90052133e+00,\n",
       "        6.31536273e-01,  2.22883249e+00,  1.62296814e+00,  2.47244674e+00,\n",
       "       -3.95182391e-01,  2.12977975e+00,  2.95470549e+00,  1.89250084e+00,\n",
       "        8.70606266e-01,  1.47120482e+00,  2.29282547e+00,  1.70217858e+00,\n",
       "        1.64493724e+00,  9.78288343e-01,  1.89365307e+00,  1.23321391e+00,\n",
       "        2.84699776e+00,  1.16360701e+00,  2.42770297e+00,  2.02521711e+00,\n",
       "        2.22503576e+00,  2.75649978e+00,  1.35617799e+00,  2.18375110e+00,\n",
       "        9.39726296e-01,  2.90444868e+00,  1.17369610e+00,  2.68641972e+00,\n",
       "        2.06581815e+00,  1.47540975e+00,  1.17083723e+00,  4.45811607e-01,\n",
       "        2.63125008e+00,  1.14264536e+00,  3.41188202e+00,  1.28955331e+00,\n",
       "        1.91761782e+00,  1.70959377e+00,  1.36891396e+00,  3.47592419e+00,\n",
       "        1.83777698e+00,  7.08518237e-01,  2.08860254e-01,  2.93515466e+00,\n",
       "        2.30089583e+00,  2.10278074e+00,  4.30683844e+00,  1.04903490e+00,\n",
       "        2.61075258e-01,  1.71789310e+00,  1.56604253e+00,  1.57886349e+00,\n",
       "        3.09274210e+00,  2.09223745e+00,  1.72336372e+00,  1.49557278e+00,\n",
       "        2.99724589e+00,  1.53074988e+00,  3.93728374e+00,  1.53648179e+00,\n",
       "        2.36575846e+00,  2.56229182e+00,  1.66357254e+00,  1.69015170e+00,\n",
       "        1.29207162e+00,  1.80206048e+00,  2.32049616e+00,  1.06780090e+00,\n",
       "        2.10438839e+00,  1.53642166e+00, -7.77318493e-02,  3.73703444e+00,\n",
       "        1.92891440e+00,  1.54164940e+00,  1.58217838e+00,  2.48926757e-01,\n",
       "        1.56187292e+00,  2.67967249e+00,  9.81361029e-01,  3.47895140e+00,\n",
       "        1.46906853e+00,  2.05401493e+00,  2.21988064e+00,  1.02587633e+00,\n",
       "        2.81818352e+00,  3.20229024e+00, -9.65596211e-02,  1.51795054e+00,\n",
       "        1.30221075e+00,  4.79502708e-01,  2.18084317e+00,  2.84545355e+00,\n",
       "        2.88911669e+00,  3.03095629e+00,  1.58590645e+00,  1.90055200e+00,\n",
       "        1.11953298e+00,  1.51161550e+00,  2.53871138e+00,  1.07053579e+00,\n",
       "        3.49976537e+00,  2.71741077e+00,  3.24380497e+00,  2.37658099e+00,\n",
       "        1.84154643e+00,  2.95767254e+00,  2.37320608e+00, -3.36790978e-01,\n",
       "        1.97622410e+00,  2.64045569e+00,  3.04946578e+00,  1.97976095e+00,\n",
       "        1.72379092e+00,  2.38452412e+00,  2.12625137e+00,  2.00523252e+00,\n",
       "        2.97816373e+00,  5.47189145e-01, -3.29972871e-02,  2.87498213e+00,\n",
       "        8.70651728e-01,  1.76018072e+00,  2.08405110e+00,  1.26553573e+00,\n",
       "        6.78107595e-01,  7.82208969e-01,  5.75648261e-01,  2.53758737e+00,\n",
       "        1.97840354e+00,  3.18234439e+00,  1.98138570e+00,  2.14685771e+00,\n",
       "        2.21902852e+00,  1.89847814e+00,  2.86353222e+00,  2.10483697e+00,\n",
       "        1.62677355e+00,  9.44041605e-01,  1.65100650e+00,  2.06938307e+00,\n",
       "        2.13905282e+00,  2.13086053e+00,  1.08691192e+00,  3.21869289e+00,\n",
       "        2.16480215e+00,  2.11819385e+00,  2.66175631e+00,  2.77857333e+00,\n",
       "        1.84309306e+00,  1.90345888e+00,  8.24423480e-01,  7.30826098e-01,\n",
       "        2.03232768e+00,  1.17489934e+00,  2.69120996e-01,  2.27750392e+00,\n",
       "        2.92729132e+00,  1.82563624e+00,  3.15336606e+00,  2.42570477e+00,\n",
       "        2.18379501e+00,  2.55898880e+00,  9.82021492e-01,  1.89599224e+00,\n",
       "        3.06996065e+00,  1.10685576e+00,  1.05628565e+00,  4.12059596e-01,\n",
       "        2.56011288e+00,  7.24489975e-01,  3.27855335e+00,  1.91351909e+00,\n",
       "        1.40028235e+00,  1.98300360e+00,  4.35840259e+00,  2.43633068e+00,\n",
       "        2.39803730e+00,  3.12475664e+00,  1.67630061e+00,  2.50803668e+00,\n",
       "        1.20145357e+00,  1.94710242e+00,  1.00332706e+00,  1.58649184e+00,\n",
       "        1.93996031e+00,  2.79486356e+00,  1.35191704e+00, -8.97461908e-01,\n",
       "        3.44673121e+00,  1.77346031e+00,  1.89097180e+00,  1.75155846e-01,\n",
       "        7.23420517e-01,  1.11884640e+00,  1.88705749e+00,  3.02220828e+00,\n",
       "        1.72618310e+00,  2.34073445e+00,  1.60579338e+00,  1.28422599e+00,\n",
       "        2.07929823e+00,  1.01469200e+00,  1.12031383e+00,  3.20796326e+00,\n",
       "        1.68140876e+00,  2.04910395e+00,  8.44715756e-01,  2.09602225e+00,\n",
       "        9.23192287e-01,  2.44662379e+00,  2.92295269e+00,  2.60422367e+00,\n",
       "        8.56040662e-01,  5.59050992e-01,  1.47679869e+00,  1.23300720e+00,\n",
       "        1.31674983e+00,  2.34697484e+00,  1.88495705e+00,  1.50064866e+00,\n",
       "        2.88408254e+00,  1.69076367e+00,  2.08505763e+00,  1.75413107e+00,\n",
       "        2.51552448e+00,  2.81532927e+00,  1.21054110e+00,  2.04686112e+00,\n",
       "        2.76094277e+00,  1.78440365e+00,  1.22316178e+00,  2.34572865e+00,\n",
       "        3.90597559e+00,  2.08856629e+00, -4.99636328e-01,  8.41255676e-01,\n",
       "        2.55782472e+00,  2.01131895e+00,  7.41947081e-01,  2.39920036e+00,\n",
       "        1.75916539e+00,  7.95217275e-01,  8.40843956e-01,  2.49262998e+00,\n",
       "        9.25498215e-01,  2.07807380e+00,  1.43331902e+00,  1.80656734e+00,\n",
       "        3.78129035e+00,  1.71593023e+00,  1.56604801e+00,  2.30396373e+00,\n",
       "        2.26117689e+00,  4.53963403e+00,  1.40331273e+00,  1.23853101e+00,\n",
       "        1.10568246e+00,  1.54271586e+00,  2.22754413e+00,  4.48476604e-01,\n",
       "        3.24591295e-02,  1.63951635e+00,  2.36013150e+00,  1.42960222e+00,\n",
       "        1.88414658e+00,  2.07692415e+00,  2.27376075e+00,  2.97368591e+00,\n",
       "        1.83203661e+00,  1.27215815e+00, -5.85408243e-02,  7.12148043e-01,\n",
       "        2.20397423e-01,  1.30552960e+00,  2.38225842e+00,  1.72350744e+00,\n",
       "        2.16427198e+00,  7.34981843e-01,  2.50455824e-01,  2.47067493e+00,\n",
       "        1.94866020e-02,  1.30132698e+00,  1.92366513e+00,  2.52610064e+00,\n",
       "        2.80206685e+00, -2.28857683e-02,  2.75411749e+00, -2.16812335e-01,\n",
       "        1.75692772e+00,  2.72540800e+00,  1.32913682e+00,  4.59387037e-01,\n",
       "        2.28383897e+00,  1.84853180e+00,  2.09287822e+00,  2.04944782e+00,\n",
       "        1.23164023e+00,  1.90614582e+00,  1.59025173e+00,  2.80697192e+00,\n",
       "        2.26939367e+00,  2.58714156e+00,  1.89826608e+00,  2.46520051e+00,\n",
       "        1.46590786e+00,  1.28144562e+00,  1.56719088e+00,  2.95652979e+00,\n",
       "        1.86480591e+00,  1.08883774e+00,  1.44613302e+00,  2.17173299e+00,\n",
       "        2.41429865e+00,  2.05541177e+00,  2.54185073e+00,  2.24555939e+00,\n",
       "        1.21610283e+00,  1.65503120e-01,  9.15293397e-01, -2.85718208e-01,\n",
       "        1.57651830e+00,  1.29178545e+00,  3.69507644e+00,  2.36954081e+00,\n",
       "        2.69712290e+00,  3.96157854e+00,  2.18186909e+00,  3.62569328e+00,\n",
       "        3.51924916e+00,  3.08961514e+00,  2.50083354e+00,  2.87858121e-01,\n",
       "        3.91023510e-01,  2.33854200e+00,  8.50077721e-01,  1.00605782e+00,\n",
       "        2.22388007e+00,  1.90267670e+00,  1.79900158e+00,  2.26369287e+00,\n",
       "        3.14281051e+00, -5.37010793e-01,  2.54626678e+00,  1.55213050e+00,\n",
       "        1.82855055e+00,  2.61872497e+00,  2.10853018e+00,  2.16112171e+00,\n",
       "        3.01848700e+00,  3.22512398e+00,  2.47238334e+00,  2.22265352e+00,\n",
       "        1.26899861e+00,  1.20542416e+00,  2.32228566e+00,  1.75832316e+00,\n",
       "        3.81129201e-01,  1.52913111e+00,  2.19291343e+00,  6.27969293e-01,\n",
       "        1.04813089e+00,  1.83044748e+00,  1.97392616e+00, -9.87334062e-01,\n",
       "        8.14641332e-01, -7.19006313e-02, -1.94486889e-01,  2.54377154e+00,\n",
       "       -7.16674960e-01,  3.23341889e+00,  3.65460863e+00,  1.35540382e+00,\n",
       "        7.99474652e-01,  1.12788122e+00,  1.31440470e+00,  1.64176573e+00,\n",
       "        2.99390406e+00,  2.02322874e+00,  2.82011447e+00, -7.14255722e-01,\n",
       "        8.20183832e-01,  2.02240573e+00,  5.24562677e-01,  1.96849977e+00,\n",
       "        3.60836499e+00,  2.31358502e+00,  1.21774549e+00,  1.86652574e+00,\n",
       "        2.36059904e+00,  2.39732077e+00,  2.72192653e+00,  2.61215959e+00,\n",
       "        2.62057565e+00,  6.16384182e-01,  6.73062440e-01,  2.52146871e+00,\n",
       "        2.80650655e-01,  5.96914380e-01,  2.72605766e+00,  2.13109390e+00,\n",
       "        2.43249595e+00,  1.06042109e+00,  7.82481592e-01,  1.88657391e+00,\n",
       "        7.67784352e-01,  2.36587403e+00,  2.20945322e+00, -2.89129123e-01,\n",
       "        2.59725364e+00, -2.64372079e-01,  1.83762711e+00,  1.78972085e+00,\n",
       "        1.17792513e+00,  1.80422626e+00,  3.06286241e+00,  2.90586261e+00,\n",
       "        2.62084540e+00,  1.48046913e+00,  6.13836480e-01,  1.47625233e+00,\n",
       "        2.62734560e+00,  2.23705210e+00,  1.52320783e+00, -1.14428479e-01,\n",
       "        1.07599542e+00,  2.62283721e+00,  1.22535652e+00,  6.82096473e-01,\n",
       "        3.09460365e+00,  1.63423986e+00,  1.44727767e+00,  1.35690570e+00,\n",
       "        1.92612254e+00,  1.09279939e+00,  2.17578740e+00,  1.39400728e+00,\n",
       "        6.97631365e-01,  2.67440547e+00,  2.67842278e+00,  1.24160305e+00,\n",
       "        1.24461110e+00,  1.90072127e+00,  4.40478513e+00,  1.34881486e+00,\n",
       "        2.28014807e+00,  9.69322063e-01,  6.52394838e-01,  1.82100839e+00,\n",
       "        2.34625406e+00,  1.06245971e+00,  2.31291831e+00,  1.41516383e+00,\n",
       "        7.93132856e-01,  2.97803052e+00,  9.69444052e-01,  8.68815375e-01,\n",
       "        2.44265252e+00,  9.50773547e-02,  1.30133763e+00,  2.42536179e+00,\n",
       "        9.52275016e-01,  3.15647270e+00,  2.38763637e+00,  3.82255391e+00,\n",
       "        8.87473616e-01, -7.63445552e-01,  2.27438287e+00, -9.75047161e-01,\n",
       "        2.79638779e+00,  1.44206223e+00,  1.09405301e+00,  1.54997587e+00,\n",
       "        9.02281869e-01,  9.43587137e-01,  6.79176886e-01,  2.48982228e+00,\n",
       "        2.57457900e+00,  4.51606801e-01,  2.08052607e+00,  1.10591952e+00,\n",
       "       -3.16163110e-01,  1.26351136e+00,  5.54025231e-01,  1.67580766e+00,\n",
       "        1.92905438e+00,  1.02491680e+00,  1.85638235e+00,  3.17411085e+00,\n",
       "        1.19571255e-01,  1.35440140e+00,  3.82508128e+00,  1.74625166e+00,\n",
       "        1.86461745e+00,  2.33732395e+00,  2.65961578e+00,  3.67563584e-01,\n",
       "        1.43571723e+00,  1.06137054e+00,  2.27953768e-01,  1.35994726e+00,\n",
       "        1.88324023e+00,  2.08128960e+00,  2.86915546e+00,  1.45904636e+00,\n",
       "        1.24187420e+00,  1.53945221e+00,  8.73199251e-01,  1.77762606e+00,\n",
       "        3.67764239e-01,  8.02852021e-01,  2.07616632e+00,  1.31822695e+00,\n",
       "        8.84994606e-01,  2.99701086e+00,  1.89523637e+00,  1.12773985e+00,\n",
       "        1.04349112e+00,  2.71641632e+00,  3.36969819e+00,  2.28031536e+00,\n",
       "        1.37075348e+00,  2.59805754e+00,  1.16599285e+00,  1.72852286e+00,\n",
       "        2.28240217e+00,  1.75340163e+00,  3.39391905e+00,  2.69256694e+00,\n",
       "        1.64558604e+00,  6.97989237e-01,  2.72329311e+00,  1.34568035e+00,\n",
       "        2.75598714e+00,  8.69614812e-01,  2.09108126e-01,  8.43119840e-01,\n",
       "        1.39012899e+00,  2.24007020e+00,  2.38968306e+00,  4.67554008e-01,\n",
       "        1.42125633e+00,  1.52697791e+00,  1.86804292e+00,  3.03245205e+00,\n",
       "        2.99644122e+00,  8.91434723e-01,  2.86809568e+00,  1.80837127e+00,\n",
       "        3.08280616e+00,  2.47344198e+00,  1.56672585e+00,  1.53599706e+00,\n",
       "        1.35972730e+00,  2.13497151e+00,  1.02181130e+00,  1.95995200e+00,\n",
       "       -2.53448072e-01,  1.74412513e+00,  2.19752364e+00,  2.32963119e+00,\n",
       "        1.29033087e+00,  1.89206295e+00,  2.14154664e+00,  1.60284595e+00,\n",
       "        2.02379731e+00,  2.15647656e+00,  1.71038067e+00,  4.10889586e-01,\n",
       "        1.39610913e+00,  1.83083264e+00,  1.65207714e+00,  1.24996378e+00,\n",
       "        1.60524483e+00,  1.35449855e+00,  1.75962991e+00,  2.50306249e+00,\n",
       "        2.06158968e+00,  1.23924732e+00,  2.50354851e+00,  2.94103951e+00,\n",
       "        1.34903710e+00, -7.78538312e-01,  4.15159607e-01,  1.84469419e+00,\n",
       "        1.46400378e+00,  3.21811549e+00,  5.91271505e-01,  2.26088224e+00,\n",
       "        2.41644269e+00,  1.44884965e+00,  4.05462015e+00,  7.01013607e-01,\n",
       "        3.51634523e+00,  1.21272195e+00,  2.23491777e+00,  3.65955461e-02,\n",
       "        2.31464087e+00,  2.16712444e+00,  1.98519581e+00,  2.19099511e-01,\n",
       "        2.56246072e-01,  1.13155282e+00,  3.33002862e+00,  7.07369304e-01,\n",
       "        1.97711480e+00,  6.10534945e-01,  3.38105851e+00,  1.30964338e+00,\n",
       "        2.06896234e+00,  9.20582021e-01,  2.51120919e+00,  7.57465030e-01,\n",
       "        1.65435402e+00,  2.23008977e+00,  1.54353522e+00,  2.46659916e+00,\n",
       "        1.99191657e+00,  1.10116034e+00,  2.03574634e+00,  2.13316007e+00,\n",
       "        1.55663423e+00,  2.45468161e+00,  1.85756336e+00, -9.61572939e-02,\n",
       "        1.57919418e-01,  1.72382272e+00,  1.84099617e+00,  1.51129208e+00,\n",
       "        3.39237132e+00,  5.08659880e-01,  1.41406289e+00,  2.26372840e+00,\n",
       "        1.20573156e+00,  2.31111503e+00,  2.42794528e+00,  1.98098177e+00,\n",
       "       -6.94960927e-01,  1.91195754e+00,  1.24089053e+00,  2.25790809e+00,\n",
       "        1.00880567e+00,  1.75865038e+00,  2.77434097e+00,  1.82032121e+00,\n",
       "        6.95458579e-02,  1.20207219e+00,  1.67249404e+00,  2.18017431e+00,\n",
       "        2.61973872e+00,  8.38646238e-01,  2.48404780e+00,  1.61904894e+00,\n",
       "        3.44248513e+00,  2.38419942e+00,  2.74921943e+00,  1.98619808e+00,\n",
       "        4.71962947e-01,  5.37679091e-01,  3.14912470e+00,  1.14841214e+00,\n",
       "        7.97421580e-01,  3.17051536e+00,  1.17861929e+00,  3.72412091e+00,\n",
       "        1.23969280e+00,  3.41298061e+00,  1.33038643e+00,  1.72552910e+00,\n",
       "        1.57912258e+00,  2.37045000e+00,  1.78970121e+00, -8.59151882e-01,\n",
       "        5.49666052e-01,  2.32579748e+00,  1.31285662e+00,  1.04593485e+00,\n",
       "        1.89176780e+00,  1.96671331e+00,  1.02127413e+00,  2.16979734e+00,\n",
       "        1.53389311e+00,  7.18011913e-01,  2.80965104e+00,  3.15524123e+00,\n",
       "        2.66743320e+00,  1.21374373e+00,  2.07456009e+00,  7.93860935e-01,\n",
       "        1.00712741e+00,  1.08051073e+00,  1.36903785e+00,  1.94397023e+00,\n",
       "        1.37138697e+00,  7.04052829e-01,  1.31219356e+00,  2.26529419e+00,\n",
       "        3.06419404e+00,  3.08956241e+00,  1.65149003e+00,  5.04496452e-01,\n",
       "        2.17553376e+00,  1.11748395e+00,  1.95319228e+00,  8.21095174e-01,\n",
       "        2.10190240e+00,  2.69504875e+00,  1.73720397e+00,  1.49602581e+00,\n",
       "        9.78212143e-01,  4.83077686e+00,  3.46864846e+00,  1.56670684e+00,\n",
       "        2.00962408e+00,  1.09291870e+00,  1.94313772e+00,  1.71704690e+00,\n",
       "        1.88713739e+00,  1.90904087e+00, -2.92530180e-02,  2.15857953e+00,\n",
       "        2.84327122e+00, -5.96118159e-01,  7.78866112e-01,  1.61204533e+00,\n",
       "        3.83051378e+00,  1.79987322e+00,  3.64561777e+00,  1.03590660e+00,\n",
       "        3.19145988e+00,  7.40324320e-01,  2.41974281e+00,  3.03942130e+00,\n",
       "        5.30033795e-01,  1.59107400e+00,  3.47425437e-01,  1.33235971e+00,\n",
       "        1.62598069e+00,  2.21151420e+00,  5.45897320e-01,  2.99519699e+00,\n",
       "        3.50903339e+00,  1.14571748e+00,  1.56327140e+00,  7.66845206e-01,\n",
       "        1.69788832e+00,  2.97594905e+00,  1.95849765e+00,  1.38877697e+00,\n",
       "        2.90035239e+00,  1.40998896e+00,  2.34977326e+00,  1.70043383e+00,\n",
       "        4.37512635e+00,  2.14855051e+00,  1.31647255e+00,  1.65208357e+00,\n",
       "        2.47544326e+00,  7.21351041e-01,  3.74116133e+00,  2.72852685e-01,\n",
       "        2.96766879e+00,  8.53347669e-01,  1.11849906e+00,  3.28332136e+00,\n",
       "        2.68986599e+00,  2.61503201e+00,  1.97505955e+00,  3.21464031e-01,\n",
       "        1.66506093e-01, -4.46832240e-01,  1.65980423e+00,  1.82222214e+00,\n",
       "        1.49866478e+00,  2.41020408e+00,  6.08212373e-01,  1.85813750e+00,\n",
       "        2.11572937e+00,  2.81096719e+00,  1.81427787e+00,  6.73296997e-01,\n",
       "        1.57414179e+00,  1.48764306e+00,  2.09600655e+00,  3.40830413e+00,\n",
       "        2.48036872e+00,  6.04462863e-01,  2.45714988e+00,  1.92378176e+00,\n",
       "        2.15914456e+00,  1.25322426e+00,  1.25481893e+00, -4.58934189e-02,\n",
       "        4.43442065e-01,  2.48043381e+00,  2.22608304e+00, -3.43500573e-02,\n",
       "       -5.06288858e-02,  2.75442096e+00,  1.55802557e+00,  6.41903442e-01,\n",
       "        2.62304076e+00,  2.27151184e+00,  2.81222948e+00,  2.06694422e+00,\n",
       "        1.51787499e+00,  3.36933452e+00,  2.11023902e+00,  2.94187630e+00,\n",
       "        7.30136333e-01,  2.04940146e+00,  1.36053754e+00,  4.60613290e+00,\n",
       "        1.16782836e+00,  8.26744092e-01,  3.24342731e+00,  2.71133698e+00,\n",
       "        3.21011413e+00,  1.61212876e+00,  1.63324267e+00,  3.10152186e+00,\n",
       "        8.69389526e-01,  1.47111087e+00,  1.89814682e+00,  2.53406545e+00,\n",
       "        2.60970868e+00,  5.99552158e-01,  9.60137968e-01,  2.18814926e+00,\n",
       "        1.12672664e+00,  2.85273916e+00,  1.48184193e+00,  2.07259176e+00,\n",
       "        5.07746129e-01, -2.50663652e-01,  8.46471115e-01,  6.05952569e-01,\n",
       "        6.84268793e-01,  2.24631625e+00,  2.34085386e+00,  1.39873041e+00,\n",
       "        2.71715557e+00,  1.15515348e+00,  2.94764502e+00,  1.60993316e+00,\n",
       "        2.48044111e+00,  2.22443947e+00, -7.03375648e-01,  1.02496389e+00,\n",
       "        1.47552683e+00,  2.33323127e+00,  2.07261142e+00,  1.58113768e-01,\n",
       "        1.26196149e+00,  3.69901928e+00,  1.20838666e+00,  2.59464424e+00,\n",
       "        1.36304219e+00,  1.34737669e+00,  2.58011112e+00,  1.47506548e+00,\n",
       "        2.14366287e+00,  1.68286952e+00,  3.03643163e+00,  1.64253100e+00,\n",
       "        3.68938295e+00,  1.78483642e+00,  2.03082519e+00,  1.87261661e-01,\n",
       "        2.59677414e+00,  1.59552509e+00,  2.17261357e+00,  2.69961965e+00,\n",
       "        1.17377725e+00,  1.51706897e+00,  1.95260004e+00,  2.21303524e+00,\n",
       "        9.68700175e-01,  3.28370832e+00,  1.70131114e+00, -1.24720984e-01,\n",
       "        2.16968407e+00,  2.54160597e+00,  1.75580100e+00,  3.27029742e+00,\n",
       "        4.34516075e-01,  2.07166799e+00,  3.68276294e-01,  2.51540416e+00,\n",
       "        4.31172996e-01,  3.35420083e+00, -3.72253338e-02,  2.74919776e+00,\n",
       "        7.93103421e-01,  2.94657479e+00,  2.44423823e+00,  2.14049635e+00,\n",
       "        4.10691296e-01,  2.99594084e-02,  3.19754805e-01,  3.70228327e+00,\n",
       "        2.80856695e+00,  1.27776161e+00,  1.66601853e+00,  1.56575195e+00,\n",
       "        4.65543150e+00,  5.91819229e-01,  1.18598820e+00,  1.92020627e+00,\n",
       "        1.24349818e+00,  3.38599018e+00,  2.71790108e+00,  6.86587720e-01,\n",
       "       -1.16458331e+00,  3.36543540e+00,  3.11676913e+00,  1.68014817e+00,\n",
       "        1.43422582e+00,  5.41184300e-01,  9.16852840e-01,  3.41643957e+00,\n",
       "        2.49667599e+00,  1.56062433e+00,  3.15852674e+00,  1.84511033e+00,\n",
       "        1.57708683e+00,  2.12967137e+00,  1.95227646e+00,  2.11804826e+00,\n",
       "       -7.10864451e-01, -7.76392835e-01,  1.56689415e+00,  1.12523991e-02,\n",
       "        5.25182552e-01,  2.10775249e+00,  1.13553932e+00,  3.05572351e-01,\n",
       "        7.14632882e-01,  3.47435960e-01,  1.38016060e+00,  3.51721225e-01,\n",
       "        2.21826485e+00,  8.08069299e-01,  1.02132570e+00,  2.31303707e+00,\n",
       "        3.39842705e+00,  2.01628746e+00,  1.35367189e+00,  2.01922210e+00,\n",
       "        1.54841447e+00,  3.77694072e+00,  1.84417390e+00,  1.66407534e+00,\n",
       "        2.01520263e+00,  3.22130417e+00,  2.03983346e+00,  9.96705044e-01,\n",
       "        2.43109322e+00,  1.75692098e+00,  1.98332881e+00, -1.29318728e-02,\n",
       "        1.84613753e+00,  8.39271737e-01,  1.72039861e+00, -7.51805435e-01,\n",
       "        1.66867084e+00,  1.98339535e+00,  2.25554328e+00,  8.54631158e-01,\n",
       "        1.50739673e+00,  3.06024995e+00,  1.34425884e+00,  2.54497316e+00,\n",
       "        3.33538132e+00,  1.80711097e+00,  2.24226056e+00,  3.36167950e+00,\n",
       "        2.67382748e+00,  3.10478445e+00,  1.04048321e+00,  2.94680802e+00,\n",
       "        2.39334775e+00,  6.84806823e-01,  3.83030329e+00,  2.69845841e+00,\n",
       "        2.36575104e+00,  3.04983725e+00,  1.61331862e+00,  1.36712843e+00,\n",
       "        1.91765406e+00,  2.96121657e+00,  1.78672344e+00,  3.61070716e-01,\n",
       "        4.09120409e+00,  1.38479835e+00,  7.92982381e-01,  2.23468468e+00,\n",
       "        2.53287174e+00, -4.28786104e-02,  1.83770865e+00,  3.24236442e+00,\n",
       "        2.79154825e+00,  2.35441295e+00,  2.16637984e+00,  1.44306395e+00,\n",
       "        1.49282702e+00,  1.56757685e+00,  2.69692969e+00,  2.20921976e+00,\n",
       "        5.48959373e-01,  1.87628923e+00,  2.49083571e+00,  1.21646909e+00,\n",
       "        1.38664997e+00,  1.65622930e-01,  1.89141342e+00,  1.57617984e+00,\n",
       "        1.49261216e+00,  1.21417530e+00,  2.93084043e-02,  3.04971505e+00,\n",
       "        7.12420450e-02,  6.40034114e-01,  1.95123899e+00,  1.14666212e+00,\n",
       "        2.49721226e+00, -2.98852527e-01,  4.09009540e-01,  4.85384835e-01,\n",
       "        3.54522217e+00,  3.24321595e+00,  2.53125478e+00,  2.50384097e+00,\n",
       "        3.79230611e+00,  2.94475055e+00,  2.15761523e+00,  3.37884354e+00,\n",
       "        2.27835963e+00,  1.87969310e+00,  1.31831521e+00,  1.90041161e+00,\n",
       "        1.32197588e+00,  1.52774067e+00,  1.57180147e+00,  7.66456163e-01,\n",
       "        4.35326407e+00,  2.93570247e+00,  1.85049445e+00, -5.27984703e-01,\n",
       "        1.85186745e+00,  3.22575388e+00,  5.15882353e-01,  8.71720193e-01,\n",
       "        3.37626919e+00,  1.78912134e+00,  2.69956590e+00,  2.82517855e+00,\n",
       "        1.64348937e+00,  1.60539645e+00,  2.20062973e+00,  2.03047606e+00,\n",
       "        2.68802206e+00,  2.23304909e+00,  1.73122551e+00,  2.24663876e+00,\n",
       "        1.21249625e+00,  2.05347370e+00,  1.28776312e+00,  1.64883069e+00,\n",
       "        5.25054701e-01,  3.11763976e+00, -1.82304781e+00,  3.85422242e+00,\n",
       "        1.30212047e+00,  1.24394267e+00,  1.85518141e+00,  1.25796683e+00,\n",
       "        6.05660116e-01,  1.79921803e+00,  1.75130986e+00,  2.71519772e-01,\n",
       "        1.66668280e+00,  1.68422091e+00,  1.06257776e+00,  1.47446151e+00,\n",
       "        1.14521188e+00,  2.25541641e+00,  1.03488560e+00,  1.72819718e+00,\n",
       "        2.14354885e+00,  2.45890211e+00,  1.07821032e+00,  1.75159385e+00,\n",
       "        1.90602654e+00,  8.90118438e-01,  2.73594578e+00,  3.78048941e+00,\n",
       "        7.14170972e-01,  1.24732641e+00,  1.69676111e+00,  1.13964835e+00,\n",
       "        8.03894306e-01,  8.84342741e-01,  1.28492475e+00,  1.62845919e+00,\n",
       "        2.65240092e+00,  2.83575676e+00,  1.74358558e+00,  9.18000573e-01,\n",
       "        1.64091161e+00,  3.17416595e+00,  1.23053900e+00,  3.02777766e+00,\n",
       "        1.71915607e+00,  7.61744475e-01,  2.10925353e+00,  2.48125377e+00,\n",
       "       -1.76320051e-01,  2.44756052e+00,  9.32122238e-01,  3.21075432e+00,\n",
       "        6.42137584e-01,  1.32576017e+00,  5.49914046e-01,  7.36299976e-01,\n",
       "        1.92662715e+00,  3.16149550e+00,  1.55538575e+00,  2.63619769e-01,\n",
       "        1.88792453e+00,  1.54016014e+00,  2.68466385e+00,  7.39798275e-01,\n",
       "        1.25269670e+00,  2.38753034e+00,  2.05930921e-01,  2.18299735e+00,\n",
       "        6.70527215e-01,  1.03430900e+00,  2.27707510e+00,  7.63177214e-01,\n",
       "        2.34300298e+00,  1.20484407e+00,  3.52230478e-01,  1.07089920e+00,\n",
       "        3.89827553e-01,  1.85738715e+00,  2.31194233e+00,  1.38843792e+00,\n",
       "        2.63892647e+00,  3.89036528e+00,  1.88154349e+00,  1.91341813e+00,\n",
       "        1.36894380e+00,  1.96983477e+00,  3.59225210e+00,  2.09652470e+00,\n",
       "        2.14773907e+00,  2.35681751e+00,  9.14248694e-01,  1.86174234e+00,\n",
       "        1.53130418e+00,  2.18154388e+00,  1.63353902e+00,  1.93335615e+00,\n",
       "        1.34220087e+00,  1.39284222e+00,  3.10227925e+00, -3.61107979e-01,\n",
       "        5.51729811e-01,  2.19202260e+00,  2.81958981e+00,  1.35720145e+00,\n",
       "        2.77271885e+00,  1.37409179e+00,  1.15175074e+00,  1.82232671e+00,\n",
       "        3.13630276e+00,  2.01358816e+00,  1.75807578e+00, -2.37708127e-02,\n",
       "        1.65251138e+00,  3.13063794e+00,  3.45544206e+00,  3.02733233e+00,\n",
       "        2.56612720e+00,  2.72947589e+00,  8.77874299e-01,  1.40480303e-01,\n",
       "        1.60114003e+00,  2.48203046e+00,  2.07822515e+00,  2.15631579e+00,\n",
       "        4.82203423e-01,  1.54039616e+00,  1.06804760e+00,  1.06318978e+00,\n",
       "        1.98022573e+00,  1.62651288e+00,  2.20044209e+00, -9.12218440e-02,\n",
       "        2.48504468e-01,  1.21610133e+00,  1.17746198e+00,  2.39525857e+00,\n",
       "        4.35210647e-01,  1.94945749e+00,  5.89513216e-01,  2.25102199e+00,\n",
       "        2.43803648e-01,  2.43217317e+00,  8.99514881e-01,  2.37254346e+00,\n",
       "        2.09328500e+00,  1.70347676e+00,  4.40743778e-01,  1.87150606e+00,\n",
       "        2.18558690e+00,  3.05787754e+00,  1.61031256e+00,  1.30828852e+00,\n",
       "        3.17048867e+00,  2.51419272e-01,  8.43206178e-01,  1.35238438e+00,\n",
       "        1.72414242e+00,  2.34620537e+00,  2.87889338e+00,  3.38988131e+00,\n",
       "        1.31298680e+00,  2.84639330e+00,  7.16335521e-01,  1.02641333e+00,\n",
       "       -1.47618003e-01,  3.33658983e+00,  2.17055770e+00,  2.60434811e+00,\n",
       "        1.83757153e-01,  3.90063633e+00,  3.45033310e+00,  2.60849455e+00,\n",
       "        3.56833284e+00, -2.88128502e-01,  7.25898550e-01,  3.45042033e+00,\n",
       "        1.07041452e+00, -8.19693830e-02,  1.65783195e+00,  1.86919393e+00,\n",
       "        1.35612988e+00,  2.99025706e+00,  3.24755035e+00,  2.96491715e+00,\n",
       "        2.28964608e-01,  1.62236970e+00,  2.81758238e+00,  3.21994632e+00,\n",
       "       -1.32766743e+00,  1.36885889e+00,  7.84054130e-01,  1.41115250e+00,\n",
       "        2.67793493e+00,  2.24584693e+00,  1.61680342e+00,  4.54801013e+00,\n",
       "        2.57161340e+00,  1.19208905e+00,  2.81310749e+00,  1.91728530e+00,\n",
       "        1.64403128e+00,  1.81675679e+00,  1.53176374e+00,  3.56258739e+00,\n",
       "        1.26352624e+00,  3.93782392e+00,  1.86243446e+00,  1.94701856e+00,\n",
       "        1.76764529e+00,  1.70464471e+00,  1.70534471e+00,  2.82976265e+00,\n",
       "        2.47577944e+00,  1.29590555e+00,  3.11427536e-01,  1.00693563e+00,\n",
       "        9.93663479e-01,  1.34838385e+00,  1.46510844e+00,  1.85270108e+00,\n",
       "        1.28423623e+00,  2.09883239e+00,  3.11727282e+00,  2.38524889e+00,\n",
       "        1.75444556e+00,  9.75689632e-01,  6.06321213e-01,  1.61095159e+00,\n",
       "        2.88220383e+00,  9.86235390e-01,  3.16234131e+00,  8.89344795e-01,\n",
       "        1.08691236e+00,  4.93551877e-02,  8.78071364e-01,  8.50220222e-01,\n",
       "        1.36478918e+00,  1.75490883e+00,  1.89294715e+00,  3.06107754e+00,\n",
       "        2.84432794e+00,  1.41849773e+00,  1.29943145e+00,  2.49079925e+00,\n",
       "        2.70290268e-01,  7.34289130e-01,  6.79175421e-01,  1.16571159e+00,\n",
       "        4.13893063e-01,  1.30473967e+00,  8.54697460e-01,  8.75730806e-02,\n",
       "        1.95078780e+00,  5.78177165e-01,  9.15106312e-01,  3.68349351e+00,\n",
       "        2.01485665e+00,  1.67153231e+00,  2.16708127e+00,  2.76400060e+00,\n",
       "        8.31258373e-01,  1.24188600e+00,  1.90260910e+00,  2.77238386e+00,\n",
       "        3.07815366e+00,  2.26626404e+00,  3.30001784e+00,  1.63831001e+00,\n",
       "        1.13023049e+00,  1.57078989e+00,  3.40350727e+00,  2.11943718e+00,\n",
       "        2.64688216e+00, -2.47612757e-02,  8.50794151e-01,  3.46095243e+00,\n",
       "        2.27369236e+00,  2.42799068e-01,  2.67101367e+00,  9.28995655e-01,\n",
       "        1.77330378e+00,  1.59318964e+00,  1.91660234e+00,  9.35305302e-01,\n",
       "        1.32932341e+00,  1.69641374e+00,  2.19023416e+00,  2.33111968e+00,\n",
       "        1.50615018e+00,  1.72972128e+00,  2.36979251e+00,  2.25427783e+00,\n",
       "       -1.30227386e-01,  1.62247577e+00,  2.65361827e+00,  1.44528592e+00,\n",
       "        9.43186821e-01, -1.03730944e-01,  1.44067021e+00,  3.07321500e+00,\n",
       "        1.30278740e+00,  1.97318075e+00,  2.29580474e+00,  1.63120175e+00,\n",
       "        1.22186795e+00,  7.84521180e-01,  8.61344064e-01,  1.97046024e+00,\n",
       "        1.72798555e+00,  1.65550042e+00,  9.95615323e-01, -7.97601920e-01,\n",
       "        8.24927839e-01,  1.24496519e+00,  1.35871648e+00,  2.87150190e+00,\n",
       "        2.95083433e+00,  8.21873974e-01,  2.43784038e+00,  1.56407992e+00,\n",
       "        2.17526976e+00,  2.91452863e+00,  1.47539381e+00,  1.42166037e+00,\n",
       "        3.12407925e+00,  1.15279955e+00,  1.24308270e+00,  2.59403549e+00,\n",
       "        1.65377892e+00,  2.04517105e+00,  3.28095809e+00,  2.75355361e+00,\n",
       "        1.76118925e+00,  1.00335493e+00,  2.57933869e+00,  2.45886767e-01,\n",
       "        2.25728425e+00,  2.02479177e+00,  5.68000832e-01,  2.39799434e+00,\n",
       "        1.67255598e+00,  2.56084060e+00,  3.61040125e+00,  1.08709138e+00,\n",
       "        1.83898915e+00,  1.09284287e+00,  3.39158689e+00,  3.30067214e+00,\n",
       "        1.19287448e+00,  1.82757118e+00,  9.09731414e-01,  1.40692983e+00,\n",
       "        2.15865209e+00,  1.04561442e+00,  1.64538337e+00,  2.90495861e+00,\n",
       "        1.50627880e+00,  2.00487029e+00, -1.30076864e-01,  1.70984824e+00,\n",
       "        1.84230584e-01,  4.88777194e-01,  3.46909181e+00,  3.13204317e+00,\n",
       "        3.44999461e+00,  1.19955735e+00,  9.50957008e-01,  2.09344622e+00,\n",
       "        2.55817567e+00,  2.05905924e+00,  1.80248774e+00,  1.12979027e+00,\n",
       "        1.69536450e+00,  2.88133207e+00,  2.17216831e+00,  1.07887899e+00,\n",
       "       -1.91349099e-01,  1.79309143e+00,  2.59904558e+00,  8.43672164e-01,\n",
       "        1.78754854e+00,  2.24343444e+00,  1.99141748e+00,  1.39810532e+00,\n",
       "        3.89898041e+00,  2.48070205e+00,  9.92790289e-01,  2.48702453e+00,\n",
       "        1.70227064e+00,  7.08288543e-01,  1.98634607e+00,  6.53620729e-01,\n",
       "        3.37671719e+00,  1.32471654e+00,  1.87186061e+00,  7.61245706e-01,\n",
       "        1.83806215e+00,  1.76598850e+00,  1.03256133e+00,  1.95581931e+00,\n",
       "        1.17947244e+00,  6.71021386e-01,  3.70553120e+00,  1.88976112e+00,\n",
       "        1.45170097e+00,  1.47121926e+00,  1.41066978e+00,  6.98061924e-01,\n",
       "        2.77983343e+00,  2.16215124e-01,  4.14690449e-01,  1.01640046e+00,\n",
       "        1.15947196e+00,  3.60687397e-01,  1.60692250e+00,  2.46139383e+00,\n",
       "        2.61635904e+00,  3.77071522e+00,  1.69219637e+00, -5.68216792e-02,\n",
       "        1.62147293e+00,  2.69110995e+00,  1.03906948e+00,  2.81239581e+00,\n",
       "        2.77176428e+00,  1.70159106e+00,  3.86824741e+00,  1.14287668e+00,\n",
       "        2.25233413e+00,  1.80495896e+00,  1.97024189e+00,  1.83131511e+00,\n",
       "        1.56019549e-01,  1.65275053e+00,  3.98937072e-01,  1.89387420e-01,\n",
       "        2.47406786e+00,  1.33762118e+00,  2.18691006e+00,  1.94538985e+00,\n",
       "        5.55105195e-01,  2.15980216e+00,  1.83750338e+00,  2.28177141e+00,\n",
       "        2.26661751e+00,  1.27803569e-02, -6.58749555e-02,  1.32152897e+00,\n",
       "        2.02467635e+00,  1.98996296e+00,  3.53604988e-01,  1.97149036e+00,\n",
       "        3.61093284e+00,  2.36138778e+00,  8.84502870e-01,  2.36168276e+00,\n",
       "        7.91038732e-01,  2.19821646e+00,  2.06019228e+00,  1.85690522e+00,\n",
       "        1.45367982e+00,  2.90359965e+00, -6.68305104e-02,  2.36960275e+00,\n",
       "        4.45642045e-01,  3.06464386e+00,  2.03196112e+00,  2.50042426e+00,\n",
       "        2.19862393e+00,  3.36393280e+00,  9.07452920e-01,  2.03671118e+00,\n",
       "        2.00569766e+00,  9.98974640e-01,  3.00249751e+00,  3.39740360e+00,\n",
       "        2.12902923e+00, -1.79597305e-01,  1.86208565e+00,  4.17041216e-01,\n",
       "        2.33477754e+00,  2.69825164e+00,  1.73979151e+00,  2.06985328e+00,\n",
       "        2.75678681e+00,  3.52604885e-01,  3.56864904e-01,  1.35961677e+00,\n",
       "        2.02733720e+00,  1.42110028e-01, -7.86991131e-01,  1.30899156e+00,\n",
       "        3.81088598e-01, -3.95449211e-01,  2.47037770e+00,  2.35798394e+00,\n",
       "        2.24182945e+00,  1.01064825e+00,  2.78327933e+00,  1.05523418e+00,\n",
       "        1.31312343e+00,  1.94361338e+00,  1.41114239e+00,  2.40511617e+00,\n",
       "        1.00786257e+00, -2.35862979e-01,  1.81354139e+00,  5.08594101e-01,\n",
       "        3.33051513e+00,  2.70730224e+00,  2.19746654e+00,  2.42694415e+00,\n",
       "        1.75386253e+00,  1.30908198e+00,  2.09684943e+00,  3.06133969e-01,\n",
       "        1.18845416e+00,  3.08753323e+00,  1.74312913e+00,  2.57696657e+00,\n",
       "        6.68338523e-01,  2.72385113e+00,  2.60219749e+00,  9.64857004e-01,\n",
       "        1.93552623e+00,  2.70892304e+00,  5.85456058e-01,  1.71129702e+00,\n",
       "        3.30606218e+00,  2.05655501e+00,  1.96540220e+00,  2.53088156e+00,\n",
       "        1.51424840e+00,  2.20376654e+00,  2.06723773e+00,  2.91675150e+00,\n",
       "        4.02305013e+00,  2.29206973e+00,  8.85831764e-01,  1.81537664e+00,\n",
       "        1.44723745e+00,  1.93719446e+00,  7.94632901e-01,  1.89915383e+00,\n",
       "        1.37398282e+00,  2.16440688e+00,  3.58321650e+00,  1.20055655e+00,\n",
       "        1.39304130e+00,  1.94740715e-01,  1.65056561e+00,  2.11292587e+00,\n",
       "        8.69843348e-01,  1.32604154e+00,  1.14278993e+00,  8.09011832e-01,\n",
       "        1.92479832e+00,  1.35051681e+00,  2.21100730e+00,  8.81430858e-01,\n",
       "        1.70717078e+00,  1.69291990e-01,  9.16285458e-01,  2.24121314e-01,\n",
       "        2.16757718e+00,  2.54175914e+00,  2.16824370e+00,  7.90624120e-01,\n",
       "        1.27318434e+00,  2.12722072e+00,  2.30862771e+00,  1.55951067e+00,\n",
       "        2.74943339e+00,  1.68614827e+00,  1.73716806e+00,  1.30496598e+00,\n",
       "        4.10604335e+00,  3.06683476e+00,  1.34196537e+00,  8.09731276e-01,\n",
       "        7.48444869e-01,  3.08961599e+00,  1.73766704e+00,  4.36919646e+00,\n",
       "        1.88013604e+00,  1.60676651e+00,  1.25124314e+00,  2.00809736e+00,\n",
       "        2.22409165e+00,  1.02313182e+00,  8.94919051e-01,  2.97760624e+00,\n",
       "        2.60919269e+00,  1.69660515e+00,  2.23982879e+00,  2.76274889e+00,\n",
       "        1.70061930e+00,  3.14022428e+00,  1.91045317e+00,  7.30479186e-01,\n",
       "        1.31510899e+00,  2.20043726e+00,  1.47006083e+00,  1.77284140e+00,\n",
       "        3.15266015e+00,  2.57769809e+00,  2.59368665e+00,  1.69896377e+00,\n",
       "        2.34099550e+00,  1.91921155e+00,  1.24905157e+00,  1.20469144e+00,\n",
       "       -6.33009766e-01,  6.04368132e-01,  7.78151819e-01,  1.63096142e+00,\n",
       "        1.81336770e+00, -5.82478597e-01,  3.64184477e-01,  4.82159077e-01,\n",
       "        8.98366769e-01,  1.12557888e+00,  1.70844213e+00,  8.82148390e-01,\n",
       "        2.18033826e+00,  2.10456315e+00,  2.68466533e+00,  1.04634974e+00,\n",
       "        2.40086147e+00,  2.69952060e+00,  1.01421938e+00,  8.16153347e-01,\n",
       "        1.00213210e+00,  1.91444342e+00,  3.40743711e+00,  3.77062665e+00,\n",
       "        1.75384996e+00,  1.40097155e+00,  1.03784630e+00,  2.95187544e+00,\n",
       "        1.50495596e+00,  1.35199190e+00,  5.35861795e-01,  2.02043602e+00,\n",
       "        9.37788211e-01,  2.57418448e+00,  1.58889707e+00, -1.94365960e-01,\n",
       "        1.89957662e+00,  1.06392274e+00, -1.15610804e-01,  6.34156734e-01,\n",
       "        2.47658090e+00,  3.90104800e+00,  2.38981577e+00,  1.66094437e+00,\n",
       "        1.59590613e+00,  1.41794084e+00,  1.79643364e+00,  3.15176694e+00,\n",
       "        2.37926327e-01,  2.61811027e+00,  1.14631063e-01,  1.63534132e+00,\n",
       "        2.14752659e+00,  1.45067668e+00,  3.26031773e+00, -9.15236413e-01,\n",
       "        1.52454278e+00,  3.11357055e-01,  2.06830777e+00,  1.22333428e+00,\n",
       "        1.81470164e+00,  1.07582130e+00,  9.59671552e-01,  7.42459940e-01,\n",
       "        2.23713833e+00,  2.32805332e+00,  1.63996873e+00,  1.35208592e+00,\n",
       "        2.15444197e+00,  8.70247670e-01,  3.02451548e+00,  7.44257138e-01,\n",
       "        3.25391115e+00, -3.46802084e-01,  1.47496069e+00,  4.84430382e-01,\n",
       "        9.85342300e-01,  1.25189882e+00,  2.73700670e+00,  2.78918163e+00,\n",
       "        2.31388083e+00,  9.63292091e-01,  7.88791839e-01,  1.87174082e+00,\n",
       "        7.69848772e-01,  2.06704222e+00,  9.76798725e-01,  5.22895222e-01,\n",
       "        1.38774064e+00,  3.12967547e+00,  1.80685483e+00,  1.57789219e-01,\n",
       "        1.81942767e+00,  7.52952030e-01,  2.49440691e+00,  2.39409904e+00,\n",
       "        3.26428923e+00,  2.71267626e+00,  2.11679286e+00,  1.22201818e+00,\n",
       "        4.40596466e-01,  1.43306195e+00,  2.06109070e+00,  1.76472781e-01,\n",
       "       -2.30593953e-01,  2.39111684e+00,  1.80110257e+00,  8.01082763e-01,\n",
       "        3.07113435e+00,  5.15675014e-01,  2.37021158e+00,  2.85532756e+00,\n",
       "        2.30001261e+00,  3.94083061e+00, -1.55769597e+00,  2.79185364e+00,\n",
       "        2.02780726e+00,  1.80928493e+00,  1.60141533e+00,  2.11827137e+00,\n",
       "        2.07676494e+00,  1.74723480e+00,  1.85548266e+00,  1.84572540e+00,\n",
       "        1.83845114e+00,  1.92775778e+00,  3.77293106e+00,  7.52218324e-01,\n",
       "        6.71286962e-01,  3.06140821e+00,  2.61551868e+00, -3.76743613e-02,\n",
       "        1.85040718e+00,  3.65082720e-01,  3.65039330e+00,  2.67863890e+00,\n",
       "        1.54399177e+00,  1.15174271e+00,  1.27272215e+00,  3.02423160e+00,\n",
       "        2.60099830e+00, -1.34844347e-01,  1.79564392e+00,  3.18746840e+00,\n",
       "        1.95351034e+00,  2.76598389e+00,  5.03089445e-02,  2.38619788e+00,\n",
       "       -2.80311589e-01,  1.62280884e+00,  1.97650962e+00,  2.06709799e+00,\n",
       "        2.12055483e+00,  5.40709307e-01,  9.61565312e-01,  1.71141124e+00,\n",
       "        1.53463295e+00,  1.90176459e+00,  2.57366051e+00,  2.70549687e+00,\n",
       "        5.55581273e-01,  7.51217934e-01,  2.55166391e+00,  6.17556038e-01,\n",
       "        2.59860551e+00,  3.66306061e+00,  7.11155967e-01,  2.63774805e+00,\n",
       "        1.25056264e+00, -2.13371249e-01,  1.88406561e+00,  2.10688321e+00,\n",
       "        1.33402987e+00,  5.90927773e-01,  1.68471531e+00,  2.39516533e+00,\n",
       "        2.36514900e+00,  1.98924705e+00,  1.56119634e+00,  1.73032039e+00,\n",
       "        2.33331529e+00,  1.49871041e+00,  2.58137549e+00,  2.54955225e+00,\n",
       "        1.74095381e+00,  9.04911500e-01, -8.59857482e-02,  4.30877160e+00,\n",
       "        3.00366084e+00,  1.83719059e-01,  3.27322275e+00,  2.11199413e+00,\n",
       "        2.47570718e+00,  1.32296117e+00,  2.78846486e+00,  1.32938103e+00,\n",
       "        4.08429502e-01,  1.24883893e+00,  7.01044758e-01,  1.19515296e+00,\n",
       "        1.04320100e+00,  2.18436107e+00,  2.51424115e+00,  3.98860419e+00,\n",
       "        2.17784088e+00,  2.00068275e+00,  1.68425448e+00,  2.53652823e+00,\n",
       "        2.71134203e+00,  9.96225775e-01,  2.31321383e+00,  2.90456773e+00,\n",
       "        1.60972947e+00,  2.16942531e+00,  1.82848945e+00,  9.82008374e-01,\n",
       "        7.45844113e-01,  1.92000338e+00,  3.23152588e+00,  2.49583239e+00,\n",
       "        8.38621061e-01,  1.95637664e+00, -1.31678991e+00,  1.97299480e-01,\n",
       "        2.46665624e+00,  1.77612236e+00,  1.65770417e+00,  2.36364723e+00,\n",
       "        1.50702270e+00,  2.83137942e+00,  2.06806595e+00,  2.08249002e+00,\n",
       "        1.59372036e+00,  2.85833144e+00,  3.06746396e+00,  1.85850482e+00,\n",
       "        1.19815018e+00,  3.34517752e+00,  2.44850225e+00,  5.97657977e-01,\n",
       "        5.73913648e-01,  1.57102102e-01,  1.41436099e+00,  7.17567797e-01,\n",
       "        2.70838313e+00,  2.75043555e+00,  1.88711686e+00,  2.29679392e+00,\n",
       "        3.05459649e+00,  1.49615460e+00,  3.26849349e+00,  1.13359760e+00,\n",
       "        2.44223885e-01,  1.44276345e+00,  1.50963807e+00,  2.11275096e+00,\n",
       "        1.56854565e+00,  1.96760606e+00,  1.62551469e+00,  1.51366137e+00,\n",
       "        1.64632648e+00,  4.23631762e+00,  2.84873139e+00,  1.52450963e+00,\n",
       "        8.70950301e-01,  4.27278859e+00,  1.07907062e+00,  3.08854893e+00,\n",
       "        6.08571960e-01,  8.15182760e-01,  2.14395299e+00,  1.33170488e+00,\n",
       "        8.69818320e-01,  1.52907640e+00,  7.07689067e-01,  5.86819798e-01,\n",
       "        2.19240316e+00, -3.82202511e-02,  3.26569520e-01,  1.41594819e+00,\n",
       "        1.58034185e+00,  2.50734495e+00,  1.29623072e+00,  3.53092914e+00,\n",
       "        1.63388480e+00,  3.30697706e+00,  1.04989545e+00,  3.71005487e-01,\n",
       "        1.92678856e+00,  2.19168884e+00,  6.11554685e-01,  1.96821603e+00,\n",
       "        1.98653979e+00,  1.08874544e+00,  9.36232109e-01,  3.58835591e+00,\n",
       "        2.15126241e+00,  2.96830010e+00,  2.35461934e+00,  2.07147809e+00,\n",
       "        3.31413023e+00,  2.55061057e+00,  1.68573453e+00,  1.57271259e+00,\n",
       "        1.81402227e+00,  1.72798636e+00,  9.35277286e-01,  9.98526330e-01,\n",
       "        2.94587342e-01,  1.30745229e+00,  2.50592529e+00, -2.00562787e-01,\n",
       "        2.12566593e+00,  3.34726517e+00,  1.57292806e+00,  3.33517284e+00,\n",
       "        1.71264802e+00,  1.24724288e+00,  2.07465679e+00,  1.92586654e+00,\n",
       "        1.94205016e+00,  3.62853774e+00,  1.46347516e-01,  2.48222256e+00,\n",
       "        3.30266125e+00,  2.49726980e+00,  2.03425018e+00, -1.29924921e-02,\n",
       "        1.43399251e+00,  2.64094740e+00,  2.00712435e+00,  3.40992662e+00,\n",
       "        8.07763715e-01,  5.63770648e-01,  7.86076925e-01,  5.78659328e-01,\n",
       "        9.96991146e-01, -3.74433734e-01,  1.47483452e+00,  2.12990630e+00,\n",
       "        6.33953696e-01,  1.25830433e+00,  2.29973596e+00,  2.70168078e+00,\n",
       "       -6.60076842e-01,  2.16174739e+00,  2.00634621e+00,  2.38132911e+00,\n",
       "        5.94880944e-01,  9.39729287e-01,  2.43745980e+00,  7.93966421e-01,\n",
       "       -4.11737665e-02, -7.26942161e-01,  3.11873946e+00,  2.06567328e+00,\n",
       "        1.73991171e+00,  1.03252444e+00,  2.16981356e+00,  2.00822279e+00,\n",
       "        1.84504005e+00,  3.10968190e+00,  3.79337197e+00,  1.70874746e+00,\n",
       "        8.64064565e-01,  2.81961764e+00,  2.50015640e+00,  3.03826992e+00,\n",
       "        8.50829078e-01,  1.48724418e+00,  1.93731658e+00,  1.57419274e+00,\n",
       "        3.45174320e+00,  2.15827366e+00,  1.98053943e+00,  1.55223349e+00,\n",
       "        4.66320345e-01,  1.30742238e+00,  2.51195828e+00,  2.24980561e+00,\n",
       "        2.36439473e+00,  2.48566310e+00,  7.63268593e-01,  1.56826783e+00,\n",
       "        2.68278080e+00,  2.48731343e+00,  1.54726742e+00, -2.36274047e-02,\n",
       "        2.23790562e+00,  1.35513454e+00,  2.93514705e+00,  9.52651176e-01,\n",
       "        1.80948982e+00, -1.84661291e-01,  1.71837794e+00,  3.24524001e+00,\n",
       "        2.17032076e+00,  1.68435649e+00,  2.32837008e+00,  1.32362144e+00,\n",
       "        1.95433129e+00,  1.77687319e+00,  1.33011413e+00,  1.38375050e+00,\n",
       "        1.29393518e+00,  6.25201742e-01,  3.21915642e+00,  3.28044745e+00,\n",
       "        2.85628705e+00,  1.09677472e+00,  1.64160994e+00,  1.82648200e+00,\n",
       "        9.15349152e-01,  3.22985963e+00,  1.21326251e+00,  1.31773617e-01,\n",
       "        3.25344015e+00,  2.34371126e+00,  2.84995893e+00,  1.69542926e+00,\n",
       "       -7.42267872e-02,  2.31207606e+00,  1.67526487e+00,  1.04000574e+00,\n",
       "        9.15806334e-01,  2.85993715e+00,  1.65728922e+00,  1.17573393e+00,\n",
       "        8.83643304e-01,  1.95333574e+00,  3.95741264e+00,  2.71556229e+00,\n",
       "        2.67156762e+00,  1.52481441e+00,  1.41105807e+00,  1.52556385e-01,\n",
       "        2.85219471e+00,  2.58890001e+00,  1.08154232e+00,  1.04777849e+00,\n",
       "        1.95177583e-01,  2.67922757e+00,  1.61556526e+00,  1.57138091e+00,\n",
       "        2.63273783e+00,  1.46801548e+00,  2.34463582e+00, -1.66241780e-02,\n",
       "        2.66400900e+00,  3.01301693e+00,  4.88788525e-01,  9.57621302e-01,\n",
       "        2.27998052e+00,  3.26763663e+00,  2.32996918e+00,  2.02507923e+00,\n",
       "        3.73653813e+00,  2.86129559e+00,  2.39556186e-01,  2.91679041e+00,\n",
       "        1.44889613e+00,  1.87377564e+00,  3.62968133e+00,  8.11303367e-01,\n",
       "        2.27679740e+00,  3.20908970e-01,  1.38125405e+00,  2.21247229e+00,\n",
       "        7.21185763e-01,  2.21837354e+00,  1.66286511e+00,  1.83439443e+00,\n",
       "        1.26135531e+00,  2.50691293e+00,  1.34558483e+00,  2.22664768e+00,\n",
       "        3.00267146e-01,  1.60014358e+00,  7.40863594e-01,  1.50319123e+00,\n",
       "        3.01618146e+00,  3.36666842e+00,  1.67112715e+00,  2.73554868e+00,\n",
       "        2.65618453e+00,  2.71580161e+00,  1.08536320e+00,  2.05822303e+00,\n",
       "        1.67723162e+00,  2.63052948e+00,  4.65407161e+00,  3.95698017e-01,\n",
       "        2.66157552e+00,  1.35522999e+00,  1.45831935e+00,  1.58945343e+00,\n",
       "        2.52865927e+00,  5.57924948e-01,  4.25804117e+00, -9.82952510e-01,\n",
       "        8.19864552e-01,  1.12447050e+00,  3.89346446e+00,  1.15224106e+00,\n",
       "        2.90040104e+00, -3.84219421e-01,  1.65092220e+00,  1.61267451e+00,\n",
       "        2.90141676e+00,  2.18509622e-01,  2.33984092e+00,  1.65605969e+00,\n",
       "        2.95578509e+00,  1.72851855e+00, -1.39783787e-01,  4.14871668e-01,\n",
       "       -1.33093855e-02,  1.93685119e+00,  9.85903029e-01,  5.15966640e-01,\n",
       "        2.84316272e-01,  1.99651344e+00,  8.38077170e-01,  2.41912305e+00,\n",
       "        3.28161360e+00,  1.43640257e-01,  1.85227776e+00,  1.47635704e+00,\n",
       "        1.06646136e+00,  5.07707440e-02,  7.18975280e-01,  1.52264932e+00,\n",
       "        1.01462028e+00,  1.23575546e+00,  2.43472892e+00,  2.19961643e+00,\n",
       "        7.39067908e-01,  8.37459919e-01,  2.17133020e+00,  2.31864635e+00,\n",
       "        2.85524034e+00,  2.52278939e+00,  2.00617783e+00,  2.69565128e+00,\n",
       "        1.52799415e+00,  1.16808157e+00,  3.81972242e+00,  2.15018601e+00,\n",
       "        1.07941820e+00,  1.83376687e+00,  1.24055795e+00,  2.10627330e+00,\n",
       "        1.80728402e+00,  2.39384498e+00,  3.20979046e+00,  7.38320480e-01,\n",
       "        1.75027686e+00, -7.73856611e-02,  2.45133182e+00,  6.94041916e-01,\n",
       "        2.28553917e+00,  3.88643040e+00,  1.53551392e+00,  2.36330028e+00,\n",
       "        2.66595900e+00,  1.70039570e+00,  2.54609254e+00,  4.05780457e+00,\n",
       "        1.24099835e+00,  6.74337254e-01,  8.39956382e-01,  1.49981048e+00,\n",
       "        1.21798541e+00,  3.76085649e+00,  1.21248784e+00,  2.00022719e+00,\n",
       "        1.54306896e+00,  2.40108189e+00,  2.39925341e+00,  4.29875907e+00,\n",
       "        2.58258647e+00,  1.40186663e+00,  1.68072191e+00,  1.79911723e+00,\n",
       "        2.21415958e+00,  1.40359734e+00,  2.24143546e+00,  2.84068067e+00,\n",
       "        2.07139021e+00,  1.88143253e+00, -3.03665049e-01,  1.48997848e-01,\n",
       "        3.14154168e+00,  1.52749943e+00,  2.41171890e+00,  1.82042154e+00,\n",
       "        9.12205042e-01,  3.17513526e+00,  9.96676714e-01,  1.62737611e+00,\n",
       "        1.71394955e+00,  1.14814548e+00,  2.19000679e+00,  1.74312761e+00,\n",
       "        1.17013031e+00,  3.74504239e-01,  2.33011384e+00,  2.09842469e+00,\n",
       "        1.72030819e+00,  2.31325437e+00,  6.52622354e-01,  1.97837633e+00,\n",
       "        2.05058634e+00,  2.49472912e+00,  2.75827028e+00,  1.87662877e+00,\n",
       "        9.57635443e-01,  3.24691342e-01,  3.95302815e+00,  4.13774919e+00,\n",
       "        2.07988158e+00,  9.55817327e-01,  1.94936861e+00,  3.06283955e+00,\n",
       "        1.02532815e+00,  2.01162253e+00,  3.56467899e+00,  1.58209435e+00,\n",
       "        4.75624686e-01,  9.15745764e-01,  1.80208575e+00,  1.83517975e+00,\n",
       "        1.66446499e+00,  1.64020270e+00,  1.72569896e+00,  1.24339468e+00,\n",
       "        2.79770660e+00,  2.53423131e+00,  1.89392520e+00, -8.14803347e-01,\n",
       "        3.14543747e+00,  5.25441062e-01,  1.70819779e+00,  8.36812070e-02,\n",
       "        1.34291591e+00,  2.02887574e+00,  2.00208749e+00,  1.97663018e+00,\n",
       "        4.37418177e-01,  9.39611964e-01,  6.37946085e-01,  1.36479765e+00,\n",
       "        9.12889652e-01,  1.19357087e+00,  2.24526646e+00,  5.86107289e-01,\n",
       "        1.96267090e+00,  1.44529855e+00,  3.53909331e+00,  1.09476622e+00,\n",
       "        2.07454196e+00,  7.70389042e-01, -1.18345853e+00,  1.09371159e+00,\n",
       "        1.24427026e+00,  5.35498534e-01,  1.73287185e+00,  1.68677788e+00,\n",
       "        2.05062459e+00,  2.69188163e+00,  3.16708526e+00,  2.97822215e+00,\n",
       "        1.65804477e+00,  2.45396277e+00,  1.17679289e+00,  1.00697868e+00,\n",
       "        1.68646575e+00,  1.28402705e+00,  1.84673968e+00,  1.08129078e+00,\n",
       "        5.09374074e-01,  3.35708579e+00,  1.67277701e+00,  2.15352652e+00,\n",
       "        2.00738572e+00,  4.32117056e-01,  3.07668888e+00,  2.41047269e+00,\n",
       "        9.05137635e-01,  3.51199515e+00,  2.51085262e+00,  2.68425259e+00,\n",
       "        1.56538343e+00,  3.79691866e+00,  1.63166339e+00,  1.66066367e+00,\n",
       "        1.77864450e+00,  1.13477454e+00,  2.19200621e+00,  2.59182076e+00,\n",
       "        2.34012166e+00,  2.52013662e+00,  2.90534340e+00,  2.82851928e+00,\n",
       "        9.12112511e-01,  6.96781461e-01,  2.82295167e+00,  9.43021010e-01,\n",
       "        1.44867250e+00,  2.13268769e+00,  4.15271354e+00,  3.18775126e-01,\n",
       "        1.84108036e+00,  1.73224024e+00,  1.43420497e+00,  1.03953866e+00,\n",
       "        2.08708801e+00,  2.51048617e+00,  3.61701709e+00,  4.52996313e-01,\n",
       "        1.53416327e+00,  1.66521360e+00,  1.45919669e-01,  1.70335991e+00,\n",
       "        2.77272325e+00,  1.30747798e+00,  5.46742132e-02,  2.21496784e+00,\n",
       "        2.67159369e+00,  2.05779912e+00,  1.81205598e+00,  1.47761649e+00,\n",
       "        1.37301206e+00,  2.17063511e+00,  2.95163076e+00,  1.13900179e+00,\n",
       "        1.36911977e+00,  9.31337075e-01,  2.19982458e+00,  2.10578698e+00,\n",
       "        5.59697755e-01,  2.80718380e+00,  1.76168684e+00, -3.82247566e-01,\n",
       "        2.05976164e+00,  3.94022587e+00,  6.41258850e-01,  4.40905414e-01,\n",
       "        1.71306350e+00,  1.90052551e+00,  1.75751088e+00,  1.58639791e+00,\n",
       "        7.13766012e-01,  2.11342093e+00,  2.37298023e+00,  2.86742604e+00,\n",
       "       -2.12581239e-01,  1.31264722e+00,  2.70601272e+00,  1.39259195e+00,\n",
       "        2.12696408e+00,  1.85514101e+00, -9.43142922e-01,  1.71890145e+00,\n",
       "        1.27913529e+00,  2.37048167e+00,  1.48403480e+00,  2.44682182e+00,\n",
       "        2.28632259e+00,  3.50119613e+00,  8.65519722e-01,  2.97092727e+00,\n",
       "        3.62979851e+00,  2.08130543e+00,  2.82601900e+00, -1.23107782e-01,\n",
       "        2.03504847e+00,  2.54119705e+00,  1.36381928e+00,  8.99153905e-01,\n",
       "        1.97816255e+00,  1.72329822e+00,  1.18453867e+00,  1.40348333e+00,\n",
       "        1.36586517e+00,  1.94852067e+00,  3.87258674e+00,  2.95751863e+00,\n",
       "        8.91721227e-01,  7.60168661e-01,  1.82163462e+00,  1.86152215e+00,\n",
       "        2.96417800e+00,  2.00914319e+00,  2.12428451e+00,  7.33519822e-01,\n",
       "        1.48688985e+00,  1.76487027e+00,  1.32923303e+00,  8.78969539e-01,\n",
       "        1.96183273e+00,  1.41986461e+00,  2.53061415e+00,  1.56399661e+00,\n",
       "        1.99215355e+00,  1.04091094e+00,  2.23412809e+00,  1.26147064e+00,\n",
       "        2.27783443e+00,  7.50488500e-01,  3.13102259e+00,  4.27284025e+00,\n",
       "        1.28830145e+00,  2.39350839e+00,  9.30378330e-01, -5.83530252e-01,\n",
       "        7.17535092e-01, -3.08426097e-01,  1.37643293e+00,  8.87607266e-01,\n",
       "        1.66515626e+00,  9.26088091e-01,  3.29425799e+00,  1.52663418e+00,\n",
       "        2.38730822e+00,  2.59504798e+00,  2.62433437e+00,  1.82285154e+00,\n",
       "        7.77703212e-01,  6.66501562e-01,  2.42085122e+00,  7.37979346e-01,\n",
       "        1.06283445e+00,  2.94120812e+00,  1.00287480e+00,  2.48772436e+00,\n",
       "        2.45744100e+00,  1.62819276e+00,  4.54708303e-01,  1.58692885e+00,\n",
       "        1.08051635e+00,  5.24286092e+00,  4.54803444e+00,  1.41270798e+00,\n",
       "        2.27406821e+00,  1.89744897e+00,  1.26100955e+00,  1.90757930e+00,\n",
       "        1.79905863e+00,  5.12803941e-01,  2.31189060e+00,  9.30411487e-01,\n",
       "        4.79454685e+00,  3.17098831e+00,  4.22831817e+00,  1.24097778e-02,\n",
       "        1.83205400e+00, -2.99458555e-02,  1.95135960e+00,  5.36435216e-01,\n",
       "        3.15842148e+00,  3.47145930e+00,  2.37572904e+00,  1.34706969e+00,\n",
       "        1.97228014e+00,  1.40216538e+00,  9.22296170e-01,  1.47107486e+00,\n",
       "        2.74233022e+00,  2.15316414e+00,  2.50419914e-01,  1.78611125e+00,\n",
       "        1.08687763e+00,  2.86161429e+00,  9.04925432e-01,  2.94119327e+00,\n",
       "        3.80329629e-02,  2.46297577e+00,  2.61848540e+00,  3.63509108e-02,\n",
       "        2.21220071e+00,  2.55656366e+00,  3.18107410e+00,  1.52527739e+00,\n",
       "        1.18685052e+00,  1.60943544e+00,  2.78850789e+00,  1.35479901e+00,\n",
       "        3.10281660e+00,  7.69692765e-02,  1.99035511e+00,  2.58507806e+00,\n",
       "        2.53353608e+00,  4.11660835e-01,  1.59704040e+00,  1.88414205e+00,\n",
       "        1.90000151e+00,  3.33846533e+00,  1.73582799e+00,  1.32605170e+00,\n",
       "        2.05934753e+00,  8.32101114e-01,  2.76011990e+00,  2.36018198e+00,\n",
       "        3.68430361e-01,  3.51422639e+00, -5.11708973e-01,  2.71994508e+00,\n",
       "        1.83773452e+00,  1.09606359e+00,  2.35901303e+00,  8.54926850e-01,\n",
       "        2.74243077e+00,  9.98558332e-01, -1.74204341e-01,  1.91682338e+00,\n",
       "        2.40840857e+00,  1.91221777e+00,  1.53807471e+00,  1.76852519e+00,\n",
       "        1.70506862e+00,  2.84518788e+00,  9.76876101e-01,  8.17747519e-02,\n",
       "        2.83901866e+00,  1.94129747e+00,  9.79318413e-01,  8.35413304e-01,\n",
       "        3.60753790e-01,  2.16684795e+00,  2.81630598e+00,  2.32540569e+00,\n",
       "        2.09539082e+00,  1.19753192e+00, -4.17211835e-01,  1.79797505e+00,\n",
       "        2.15613741e+00,  4.66620894e-01,  7.78505064e-01,  3.24242168e-01,\n",
       "        1.49375128e+00,  7.52486443e-01,  1.44204522e+00,  2.53387874e+00,\n",
       "        3.73827691e-01,  1.41800059e+00,  7.23642511e-01,  1.59445336e+00,\n",
       "        3.31227528e+00,  2.62627315e+00,  1.64190447e+00,  1.51807271e+00,\n",
       "        1.59424388e+00,  1.17456381e+00,  2.44779103e+00,  1.68174340e+00,\n",
       "        3.81727384e-01,  8.42913517e-01,  1.09897495e+00,  7.69121763e-01,\n",
       "       -1.08324352e-02, -3.40273235e-01,  6.32143352e-01,  1.71741492e+00,\n",
       "        2.68861977e+00,  1.71318859e+00,  1.34933551e+00,  6.14661559e-01,\n",
       "        1.99379361e+00,  2.10319541e+00,  2.76253356e+00,  2.54496185e+00,\n",
       "        3.22435923e+00,  1.20464230e+00,  4.29404375e-01,  2.20258426e+00,\n",
       "       -2.70713180e-01,  1.80054174e+00,  2.69261758e+00,  3.21828968e+00,\n",
       "        2.76691477e+00,  2.45695427e+00,  1.30801858e+00,  1.64965905e+00,\n",
       "        2.37775197e+00,  5.57390093e-01,  3.19308908e+00,  4.34996730e-01,\n",
       "        1.64285230e+00,  7.93354577e-01,  3.51390015e+00,  3.62824871e-01,\n",
       "        2.00595293e+00,  2.39833786e+00,  1.73737146e+00,  1.66902558e+00,\n",
       "        1.77746654e+00,  2.19877706e+00,  1.79816131e+00,  2.86801469e+00,\n",
       "        6.65856919e-01,  2.36229328e+00, -4.50133871e-01,  2.55646501e+00,\n",
       "        2.97373456e+00,  6.22040604e-01, -3.99007031e-01,  1.55774200e+00,\n",
       "        9.78501274e-01,  9.58217662e-01,  1.27447208e+00,  1.81178183e+00,\n",
       "        1.85560754e+00,  1.53111015e+00,  2.91002245e+00,  1.88292351e+00,\n",
       "        1.44733042e+00,  1.98865516e+00,  2.19058847e+00,  1.42867397e+00,\n",
       "        1.55399384e+00,  2.84524643e+00,  3.21607968e+00,  3.80449786e+00,\n",
       "        2.71492332e+00,  2.56962726e+00,  9.07894281e-01,  1.00244308e+00,\n",
       "        1.55089970e+00,  1.36200078e+00,  1.28288082e+00,  2.17902835e+00,\n",
       "        1.04519408e+00,  1.17034459e+00,  1.45035190e+00,  4.52828895e-02,\n",
       "        2.01953795e+00,  1.26038601e+00,  3.30696226e+00,  2.51183347e+00,\n",
       "        9.96630042e-01,  1.96660553e+00,  2.38490913e+00,  1.52199448e+00,\n",
       "        8.72457285e-01,  3.06926916e+00,  3.17792247e+00,  2.29109841e+00,\n",
       "        7.38554423e-01,  5.10297302e-01,  1.03168620e+00,  1.96698500e+00,\n",
       "        2.07922754e+00,  2.98846506e+00,  1.81156767e+00,  1.34930666e+00,\n",
       "       -9.53194269e-02,  2.18951149e+00,  3.73885837e-01,  2.33525484e+00,\n",
       "        6.03039324e-01,  2.00836441e+00,  1.91259051e+00,  1.08014797e+00,\n",
       "        1.98908679e+00,  1.53281865e+00,  2.18193141e-01,  2.73913272e+00,\n",
       "        9.36362396e-01,  3.00403129e+00,  2.26394384e+00,  1.43102329e+00,\n",
       "        2.50344884e+00,  3.53732612e+00,  1.67893692e+00,  3.55643535e+00,\n",
       "        2.67781447e+00,  2.24018287e+00,  1.47427984e+00,  4.77422656e-01,\n",
       "        1.66098659e+00,  1.85573641e+00,  3.88688358e+00,  1.92684563e+00,\n",
       "        2.28537343e+00,  1.83198840e+00,  9.55913734e-01,  2.45252334e+00,\n",
       "        9.81461310e-01,  2.34056814e+00,  1.46464203e+00,  1.32079093e+00,\n",
       "        2.83304500e+00,  6.37411403e-01,  3.29360290e+00,  1.90721960e+00,\n",
       "        8.05622677e-02,  1.25465008e+00,  2.95835751e+00,  2.05921790e+00,\n",
       "        1.07558428e+00,  1.97398541e+00,  1.70967919e+00,  1.87371773e+00,\n",
       "        1.61099471e+00,  1.19111343e-01,  7.64401020e-01,  1.64608988e+00,\n",
       "        2.31756349e+00,  8.05317562e-01,  1.98699128e+00,  1.31194056e+00,\n",
       "        4.46936044e+00,  2.49577800e+00,  1.51497105e+00,  2.54045066e+00,\n",
       "        2.26083946e+00,  1.46558417e+00,  1.78962642e+00, -1.08849915e-02,\n",
       "       -6.58227542e-01,  1.03748533e+00,  3.95418890e+00,  1.63868416e+00,\n",
       "        9.79344824e-01,  2.94886116e+00,  1.95591805e+00,  5.02133745e-01,\n",
       "        2.84668143e+00,  2.27432209e+00,  1.09690276e+00,  4.34224747e-01,\n",
       "        2.34287733e+00,  1.45278879e+00, -2.95019128e-01,  1.60893490e-01,\n",
       "        2.57358254e+00,  1.79359188e+00,  1.56048552e+00,  1.72074653e+00,\n",
       "        1.01030026e+00,  3.09509775e+00,  1.22772840e+00,  1.75104406e+00,\n",
       "        8.03428905e-01,  3.80800707e+00,  3.64513282e+00,  2.24365838e+00,\n",
       "        1.02541686e+00,  3.62385362e+00,  1.75927686e+00,  4.17603992e+00,\n",
       "        9.15392829e-01,  6.66081139e-01,  2.22176935e+00,  2.36849174e+00,\n",
       "        2.24000661e+00,  9.20832482e-03,  2.75149829e+00,  2.01434897e+00,\n",
       "        2.69167606e+00,  7.00091884e-01,  1.46176528e+00,  8.15505060e-01,\n",
       "        2.97203989e+00,  1.51337017e+00,  2.23986831e+00,  1.33577704e+00,\n",
       "        7.39005925e-01,  2.28685178e+00,  9.28950945e-01,  3.48575208e-01,\n",
       "        1.85304853e+00,  2.20815026e+00,  3.33104827e+00,  1.29170443e+00,\n",
       "        2.05801494e+00,  7.58601441e-01,  1.36436589e+00,  1.80968233e+00,\n",
       "        2.82487391e+00,  8.72233831e-01,  2.85901220e+00,  1.52000504e+00,\n",
       "        4.63140022e+00,  1.45447944e+00,  3.27325469e+00,  1.40188578e+00,\n",
       "        3.31277739e+00,  2.58772744e+00,  7.71997118e-01,  3.61549875e+00,\n",
       "        3.02665881e+00,  1.52592104e+00,  2.74898789e+00,  1.50115252e+00,\n",
       "       -6.19020001e-01,  4.27622698e+00,  1.77802303e+00,  2.07665838e+00,\n",
       "        5.18486406e-01,  2.12858345e+00,  3.81179045e+00,  2.53694444e+00,\n",
       "        3.17086485e+00,  1.79899171e+00,  1.05721159e+00,  5.83718916e-01,\n",
       "        1.00588734e+00,  2.01777669e+00,  4.18665453e-01,  1.96119318e+00,\n",
       "        1.93651523e+00, -4.89480556e-01,  2.07081401e+00,  7.67280444e-01,\n",
       "        1.15984939e+00,  1.75374202e+00,  1.91867692e+00,  6.33605171e-01,\n",
       "        2.72809231e+00,  1.83008168e+00,  2.25432478e+00,  1.64058771e+00,\n",
       "        1.58858532e+00,  8.31759363e-01,  9.91124855e-01,  2.18752088e+00,\n",
       "        1.53468553e+00,  1.61557072e+00,  1.35693047e+00,  4.70952035e+00,\n",
       "        4.63784565e+00,  1.03918381e+00,  8.05542122e-01,  3.41928565e+00,\n",
       "        2.48708347e+00,  2.72451902e+00,  2.79897155e+00, -1.03557495e+00,\n",
       "        2.10342096e+00, -3.97957380e-01,  1.60484810e+00,  3.55068531e-01,\n",
       "        4.93650582e+00,  1.96613891e+00,  1.48393154e+00,  1.45671882e+00,\n",
       "        1.51194503e+00,  2.99869935e+00,  1.89731632e+00,  1.56186915e+00,\n",
       "        8.83518700e-01,  2.68848370e+00,  7.33178263e-01,  2.75141630e+00,\n",
       "        2.53999255e+00,  2.18306229e+00,  2.16924766e+00,  8.53682843e-01,\n",
       "        7.87191719e-01,  1.26980313e+00,  1.39692280e+00,  3.52615133e-01,\n",
       "        1.92876114e+00,  2.43934992e+00,  2.47587048e+00,  2.01403997e+00,\n",
       "        2.50618535e+00,  1.58221327e+00,  2.04309706e+00,  2.70591181e+00,\n",
       "        1.47554642e+00,  1.52333187e+00,  1.64409809e+00,  2.38892502e+00,\n",
       "        3.18976770e+00,  1.56807925e+00,  6.59244464e-01,  2.37731781e+00,\n",
       "        2.54199756e+00,  9.24652983e-01,  1.77542178e+00, -3.12134715e-01,\n",
       "       -4.32544611e-01,  5.91472616e-01,  2.86226641e+00,  2.06013991e+00,\n",
       "        4.23148728e-02,  8.87422951e-01,  1.51835134e+00,  3.15826795e+00,\n",
       "        1.94558277e+00, -5.56019706e-01,  1.41925890e+00,  2.96102155e+00,\n",
       "        1.59977742e+00,  2.36914048e+00,  3.15733295e+00,  1.55068306e+00,\n",
       "        1.81425453e+00,  2.88518848e-02,  1.15892609e+00,  1.12384818e+00,\n",
       "        1.49677641e+00,  1.53678441e+00,  4.08001014e-01,  3.37244858e+00,\n",
       "        2.69084734e+00,  4.89503923e-02,  2.98719938e+00,  1.76269139e+00,\n",
       "        1.10789906e+00,  2.42208635e+00,  6.90907832e-01,  6.64102524e-01,\n",
       "        7.61517381e-01,  1.61108353e+00,  1.96572426e+00,  2.39540192e+00,\n",
       "        2.23472224e+00,  2.81431761e+00,  1.28591821e+00,  1.78069365e+00,\n",
       "        3.52501664e+00,  1.29962722e+00,  2.04218498e+00,  1.10229391e+00,\n",
       "        1.11532287e+00,  1.59633573e+00,  4.52925744e-01,  2.79415097e+00,\n",
       "        1.06923208e+00,  5.05265560e+00,  2.27021791e+00,  3.29964301e+00,\n",
       "        1.02459671e+00,  1.85389201e+00,  9.83388788e-01,  3.45880438e+00,\n",
       "        7.74197242e-01,  7.76754812e-01,  1.83261815e+00,  1.18621890e+00,\n",
       "        1.51331811e+00,  1.24162777e+00,  2.49339727e+00,  3.71407706e+00,\n",
       "        2.46495287e+00, -2.51137814e-01,  3.85527172e+00,  1.63964690e+00,\n",
       "        9.44357429e-01, -3.38229814e-01,  1.97904176e+00,  1.72746394e+00,\n",
       "        1.37513835e+00,  2.30596894e+00,  1.64914988e+00,  2.05924771e+00,\n",
       "        3.84409613e+00,  1.71874516e+00,  7.69354841e-01,  2.43363584e+00,\n",
       "        1.05168538e+00,  1.66817874e+00,  2.43104790e+00,  1.48659499e+00,\n",
       "        3.18544585e-01,  1.22618106e+00,  1.42367098e+00,  1.34520200e+00,\n",
       "        4.22787092e+00,  2.30044681e+00,  4.09821432e+00,  2.71379896e+00,\n",
       "        1.06121943e+00,  1.58336143e+00,  1.75102641e+00,  1.58008584e+00,\n",
       "        1.03363124e+00,  5.07703095e-01, -1.19065542e-01,  1.99410878e+00,\n",
       "        2.15978645e+00,  2.36605512e+00,  2.44097683e+00,  7.12411909e-01,\n",
       "        1.83529657e+00,  3.64422123e+00,  2.66048908e+00,  1.92857292e+00,\n",
       "        8.05780201e-01,  1.57170799e+00,  3.26939881e+00,  2.35206618e+00,\n",
       "        2.77737622e+00,  4.05279881e-02,  1.10484695e+00,  4.61020969e-01,\n",
       "        1.05711915e+00,  1.88747887e-01,  8.72836249e-01,  4.22942668e-02,\n",
       "        9.59559053e-02,  2.49100403e+00,  1.63673005e+00,  1.33286160e+00,\n",
       "        2.23247630e+00,  3.08203530e-01,  2.44732081e+00,  6.81574463e-01,\n",
       "        1.31318615e+00, -5.30139657e-01,  2.82245651e+00,  1.35043031e+00,\n",
       "        3.54026775e+00,  2.80349881e+00,  1.17101904e+00,  9.25357108e-01,\n",
       "        2.02690248e+00,  1.81831856e+00,  2.77855442e+00,  2.56586169e+00,\n",
       "        1.95508571e+00,  1.26742255e+00,  9.49227277e-01,  2.01308503e+00,\n",
       "        9.52613151e-01,  3.03779136e+00,  2.52995342e+00,  1.90064177e+00,\n",
       "        7.66896357e-01,  2.38622150e+00,  1.33269045e+00,  1.92268282e+00,\n",
       "        5.64250912e-01,  1.12335973e+00,  2.26743767e+00,  1.90523198e+00,\n",
       "        3.01979763e+00,  3.46338486e+00,  2.83453337e+00,  2.95263644e+00,\n",
       "        8.88209271e-01,  1.87433075e+00,  1.40074239e+00,  6.90344559e-01,\n",
       "       -1.15242572e+00,  2.81124415e+00,  1.80260544e+00,  4.98970410e-01,\n",
       "        3.42507017e+00,  1.82318702e+00,  1.84424944e+00,  1.95802263e+00,\n",
       "        1.50370229e+00,  2.91549439e+00,  1.75097814e+00,  1.62475494e+00,\n",
       "        2.98158418e+00,  3.07003818e+00,  1.20588169e+00,  2.69103097e+00,\n",
       "        1.41126280e+00,  1.76867514e-01,  2.71409314e+00,  2.23026391e+00,\n",
       "        2.64633275e+00,  6.93425997e-01,  2.33418342e+00,  1.31209546e-01,\n",
       "        1.17172864e+00,  1.72408825e+00,  1.39825515e+00,  1.61756886e+00,\n",
       "        3.99791067e+00,  1.73371836e+00,  2.69052895e+00,  2.44320515e+00,\n",
       "        2.77953915e+00,  2.17539472e+00,  2.09991220e+00,  6.28227017e-01,\n",
       "        1.56753736e+00,  1.28654464e+00,  7.10963017e-01,  2.71052490e+00,\n",
       "        3.05184614e+00,  5.06016647e+00,  3.41270118e+00,  1.58423568e+00,\n",
       "        4.06130092e+00,  3.00616898e-01,  2.50701913e+00,  8.01253892e-01,\n",
       "        2.37144713e+00,  5.94123569e-02,  1.96359771e+00,  2.98064307e+00,\n",
       "        1.38091274e+00,  1.57113074e+00,  1.57080210e+00, -2.04952681e-01,\n",
       "        2.33105225e+00,  3.28636378e+00,  2.11205605e+00,  7.42704396e-01,\n",
       "        3.43413370e+00,  8.06137927e-01,  1.97091102e+00,  1.66775526e+00,\n",
       "        1.83749158e+00,  1.78287022e-01,  1.88745625e+00,  2.13477144e+00,\n",
       "        1.44427096e+00,  1.57223113e+00,  1.26669307e+00,  1.98880465e+00,\n",
       "        1.57995134e+00,  2.12364533e+00,  5.35070765e-01,  1.14948306e+00,\n",
       "        1.28844556e+00,  1.71355629e+00,  2.89778371e-01,  1.02141304e+00,\n",
       "        1.62776740e+00,  1.71838031e+00,  1.45173585e+00,  3.29830435e+00,\n",
       "        2.05355486e+00,  1.69763248e+00,  1.69461689e+00,  2.23135579e+00,\n",
       "        2.42962783e+00,  1.99388472e+00,  2.19006093e+00,  1.42779938e+00,\n",
       "        2.63722624e+00, -4.65788759e-01,  3.24279739e+00,  1.00156066e+00,\n",
       "        2.39793148e+00,  2.05497118e+00,  1.93432271e+00,  4.65132775e-02,\n",
       "        2.91962389e+00,  9.13222269e-01,  1.44240217e+00,  1.83922527e+00,\n",
       "        2.30456828e+00,  2.29626497e-01,  3.42118081e+00,  6.84244280e-01,\n",
       "        2.45255484e+00,  9.12811416e-01,  1.98560502e+00,  2.31423651e+00,\n",
       "        2.65932234e+00,  1.71798942e+00,  2.06374768e+00,  1.52993539e+00,\n",
       "        2.25350946e+00,  1.93285419e+00,  3.02252520e+00,  1.83392203e+00,\n",
       "        2.10458087e+00,  1.02407247e+00,  2.86022000e+00,  6.34575609e-01,\n",
       "        1.30514996e+00,  2.36197940e+00,  4.60378815e-01,  2.25744789e+00,\n",
       "        1.29283589e+00,  6.56931967e-01,  1.31371799e+00,  1.51644872e+00,\n",
       "        2.88625466e+00,  3.11565071e+00, -4.12466261e-01,  1.03354308e+00,\n",
       "        2.50082987e+00,  1.72793120e+00,  3.02875449e+00,  2.11664568e+00,\n",
       "        2.15752079e+00,  2.03101007e+00,  2.71033215e+00,  2.53664881e+00,\n",
       "        1.93318400e+00,  2.26920334e+00,  2.19551537e+00,  3.07978385e-01,\n",
       "        2.55955318e-01,  2.24467397e+00,  2.61695122e+00,  2.84643032e+00,\n",
       "        5.97497350e-01,  2.27434073e+00,  2.27912610e+00,  2.24389411e+00,\n",
       "        3.22666395e+00,  5.12760271e-01,  9.16479369e-01,  3.47202879e+00,\n",
       "        1.24130021e+00,  1.34719300e+00,  1.34898975e+00,  9.57706515e-01,\n",
       "        3.11387573e+00,  3.17753212e+00, -1.16610317e-01,  3.84334575e-01,\n",
       "        1.94244202e+00,  2.68095015e+00,  2.34480391e+00,  1.72892152e+00,\n",
       "        3.68174868e+00,  2.87012606e+00,  4.88212315e+00,  1.40473583e+00,\n",
       "        2.15979549e+00,  3.83855646e-01,  1.34209112e+00,  1.26775750e+00,\n",
       "        2.19686194e+00,  7.29533871e-01,  3.08303899e+00,  2.12711658e+00,\n",
       "        1.33451984e+00, -8.68120949e-01,  1.91521414e+00,  2.54504424e+00,\n",
       "        2.20303909e+00,  3.15744298e+00,  1.23509691e+00,  4.23894438e+00,\n",
       "        3.12338000e+00,  2.61261234e+00,  5.55783994e-01,  1.30775945e+00,\n",
       "        1.07185006e+00,  1.87954656e+00,  1.75294921e+00,  2.89340868e+00,\n",
       "        2.32183868e+00,  3.96341576e+00,  2.07288258e+00,  1.38738797e+00,\n",
       "        6.71557393e-01,  2.20062981e+00,  2.47242234e+00,  2.05704238e+00,\n",
       "        2.83291547e+00,  1.25359789e+00,  1.33951626e+00,  2.47846222e+00,\n",
       "        3.35201735e+00,  7.92681263e-01,  1.88361845e+00,  1.32475191e+00,\n",
       "        1.03105457e+00,  2.35258742e+00,  2.85003309e+00,  3.15442630e+00,\n",
       "        2.81394194e+00,  2.62892385e+00,  2.85009668e+00,  1.76778577e+00,\n",
       "        2.15780737e+00,  1.54936618e+00,  1.50180718e+00,  2.29773995e+00,\n",
       "        1.24042496e+00,  2.07035940e+00,  2.47871932e+00,  7.37585253e-01,\n",
       "        2.04666363e+00,  1.87500095e+00,  2.65576985e+00,  8.19894584e-01,\n",
       "        1.11340314e+00,  4.37623450e-02,  2.58456094e+00,  1.23535325e+00,\n",
       "        1.83306307e+00,  1.29227474e+00,  1.57712291e+00,  1.31915388e+00,\n",
       "        1.47849773e+00,  2.16478128e+00,  1.80568536e-01,  1.43791305e+00,\n",
       "        2.39943669e+00,  1.13859343e+00,  1.26690116e+00,  2.30137797e+00,\n",
       "       -8.10292871e-01,  1.64942029e+00,  1.31819952e+00,  3.32834116e+00,\n",
       "        7.08001500e-01, -3.41004891e-01,  1.79282798e+00,  2.95682625e+00,\n",
       "        3.97370737e+00,  2.38901734e+00,  2.42797087e+00,  2.01001816e+00,\n",
       "        3.32576255e+00,  1.74416762e+00,  2.14135762e+00,  1.93711734e+00,\n",
       "        1.62735393e+00,  2.74445853e+00,  3.35654311e+00,  1.67409971e+00,\n",
       "        3.13617516e+00,  2.19390303e+00,  2.39834054e+00,  5.91145394e-01,\n",
       "        2.20390155e+00,  2.10032263e+00,  1.16897760e+00,  3.52949174e-02,\n",
       "        2.53993507e+00,  1.77539193e+00,  2.36517988e+00,  1.83241671e+00,\n",
       "        1.32944025e+00,  3.01965592e+00,  3.06661622e+00,  2.50335567e+00,\n",
       "        2.67185057e+00,  1.81778250e+00,  2.83810370e+00,  1.14794691e+00,\n",
       "        1.95577564e+00,  1.90289829e+00,  2.49778705e+00,  1.08306018e+00,\n",
       "        2.09566072e+00,  2.98725357e+00,  2.67794562e+00,  2.20366612e+00,\n",
       "        2.54258376e+00,  3.31359335e+00,  2.48520057e+00,  3.17542055e-01,\n",
       "        1.16375822e+00,  8.89832636e-01,  2.77228108e+00,  2.45611568e+00,\n",
       "        2.55226648e+00,  1.58111800e+00,  3.98682015e+00,  1.01348417e+00,\n",
       "        1.60679739e+00,  2.09463690e+00,  2.92719166e+00,  9.76064180e-01,\n",
       "        3.20134961e+00,  9.44490193e-01,  1.99375490e+00,  4.30878411e+00,\n",
       "       -7.32664374e-02,  3.25407450e+00,  1.82005914e+00,  3.93942273e+00,\n",
       "        1.02371446e-01,  4.02956952e-01,  1.92125731e+00,  1.73800100e+00,\n",
       "        1.35859003e+00,  2.79113442e+00,  6.68567749e-01,  1.49783416e+00,\n",
       "        4.06863905e+00,  2.23053929e+00,  1.56590441e+00,  7.34515529e-01,\n",
       "        2.43406182e+00,  1.49142226e+00,  2.86907943e+00,  2.71758633e+00,\n",
       "        2.48941708e+00,  4.42718460e+00,  1.54718620e+00,  1.97132610e+00,\n",
       "        8.50140144e-01,  3.45230859e+00,  2.59954084e+00,  2.94233484e+00,\n",
       "        2.77715315e-02,  3.43019760e+00,  2.94095354e+00,  1.70275833e+00,\n",
       "        2.55293236e+00,  1.59429447e+00,  1.14867765e+00,  1.59107475e+00,\n",
       "        3.41456818e+00,  1.90071456e+00,  1.71030981e+00,  3.17316412e+00,\n",
       "        1.35796662e+00,  3.16060494e+00,  1.61699524e+00,  2.17859372e-01,\n",
       "        2.02125110e-01,  2.31469542e+00,  1.81085032e+00,  1.99947682e+00,\n",
       "        1.88208720e+00,  1.63102465e+00,  2.34597955e+00,  2.77063686e-01,\n",
       "        2.61188762e+00,  2.53201489e+00,  3.34929675e-01,  1.49232917e+00,\n",
       "        1.61836389e+00,  7.91833886e-01,  1.81573134e+00,  3.93920312e+00,\n",
       "        1.30411687e+00,  9.08550975e-01,  2.13324197e+00,  3.14549471e-01,\n",
       "        2.48581733e+00,  2.40016372e+00,  2.25023824e+00, -4.69773719e-01,\n",
       "        1.79626628e+00,  1.33387915e+00,  1.69029128e+00,  9.77605780e-01,\n",
       "        8.86375549e-01,  2.22654053e+00,  1.62426074e+00,  2.85318582e+00,\n",
       "        2.98532481e+00,  1.52010354e+00,  2.63456534e+00,  3.13832550e+00,\n",
       "        3.30367185e+00,  2.82130744e+00,  1.64263111e+00,  2.37520822e+00,\n",
       "        1.97361483e+00,  2.29284961e+00,  8.57230764e-01,  5.97316694e-01,\n",
       "        3.51196275e+00,  1.85331254e+00,  8.51156615e-01,  2.60709421e+00,\n",
       "        2.03356849e+00,  1.91571500e+00,  1.25996495e+00,  1.53827393e+00,\n",
       "        3.31727090e-01,  1.49752908e+00,  3.61947721e+00,  2.00069022e+00,\n",
       "        7.57451729e-01,  2.94709687e+00,  2.82802736e+00,  4.11846406e-01,\n",
       "        2.50743913e+00,  1.00951637e+00,  9.82524809e-01,  3.03100550e+00,\n",
       "        2.80092356e+00,  1.06058022e+00,  1.43586991e+00,  1.31819222e+00,\n",
       "        2.32074290e+00,  8.36779794e-01,  1.09610871e+00,  2.36749941e+00,\n",
       "        9.61128737e-01,  1.82866860e+00,  2.24830858e+00,  2.47545682e+00,\n",
       "        3.46655050e-01,  8.11472416e-01,  2.37403586e+00,  1.71749982e+00,\n",
       "       -1.95493107e-01,  2.92198534e+00,  1.68025568e+00,  3.27153698e+00,\n",
       "        2.77585303e+00,  1.01647264e+00,  2.39111524e+00,  1.73139642e+00,\n",
       "        2.95900896e+00,  2.23948006e+00,  1.71217887e+00,  1.46488854e+00,\n",
       "        1.24150044e+00,  8.73031109e-01,  2.01948930e+00, -4.08037601e-01,\n",
       "        2.28023443e+00,  1.44613109e+00,  1.87917450e+00,  2.19726682e+00,\n",
       "        1.35324845e+00, -3.40642476e-01,  8.72252062e-01,  1.16664977e+00,\n",
       "        3.08882872e+00,  2.83179703e+00,  2.78127219e+00,  1.84937927e+00,\n",
       "        2.98221444e+00,  9.45985208e-01,  2.64876051e+00,  2.08686645e+00,\n",
       "        2.37583768e+00,  2.54930878e+00,  1.21402532e+00,  1.22204438e+00,\n",
       "        1.06387057e+00,  7.48359662e-01,  2.39945539e+00,  2.29243006e+00,\n",
       "        2.03893024e+00,  1.17853456e+00,  2.89734524e+00,  1.34509623e+00,\n",
       "        9.27262826e-01,  2.34304142e+00,  9.17419592e-01,  2.80335162e+00,\n",
       "        4.05728636e+00,  2.33570091e+00,  3.10924886e+00,  2.58128021e+00,\n",
       "        1.76309557e+00,  1.53015327e+00,  3.79230712e+00,  8.38698302e-01,\n",
       "        6.39591477e-01,  1.28670536e+00,  1.43174853e+00,  2.52703356e+00,\n",
       "        7.47541452e-01,  1.21544652e+00,  1.95786369e+00,  3.68221486e+00,\n",
       "        2.18905278e+00,  4.82421964e-01,  2.08773020e+00,  2.88526399e+00,\n",
       "        1.06677114e+00,  2.09718418e+00,  3.17030923e+00, -1.21022501e+00,\n",
       "        9.80142511e-01,  2.43757968e+00,  8.11485608e-01,  1.42893797e+00,\n",
       "        1.31462874e+00,  9.57503803e-01,  1.42931264e+00,  2.02918846e+00,\n",
       "        1.97911195e+00,  1.83027165e+00,  8.74581155e-01,  2.52196011e+00,\n",
       "        1.51919650e+00,  3.83577959e+00,  2.39017781e+00,  1.45078651e+00,\n",
       "        3.35937042e-01,  1.06398183e+00,  1.52254091e+00,  6.42869521e-01,\n",
       "        1.22104543e+00,  6.44125160e-01,  3.23315658e+00,  1.46122492e+00,\n",
       "        4.32978971e+00,  1.88412688e+00,  3.13553280e+00,  1.59961559e+00,\n",
       "        2.46248380e-02,  2.23654462e+00,  2.68876366e+00,  1.82522212e+00,\n",
       "        1.03379648e+00,  2.32858137e+00,  6.81439862e-01,  7.08357660e-01,\n",
       "        1.63306472e+00,  1.41657387e+00,  1.93337347e+00,  3.89666032e+00,\n",
       "        1.13050729e+00,  9.06805480e-01,  1.70043313e+00,  8.19751911e-01,\n",
       "        2.08434163e+00,  8.94621411e-01,  2.18818697e+00,  2.51711475e+00,\n",
       "        2.42786438e+00,  2.83391530e+00,  2.91290523e+00,  1.87332701e+00,\n",
       "        1.54796755e+00,  2.03617679e+00,  6.04406203e-01,  1.43207221e+00,\n",
       "        1.27137058e+00,  1.22041896e+00,  9.11362806e-01,  1.43246060e+00,\n",
       "        6.83495484e-01,  2.84077622e+00,  6.11412172e-01,  4.29407970e-01,\n",
       "        3.56368722e+00,  1.83937556e+00,  1.63477087e+00,  1.49647187e+00,\n",
       "        2.09282612e+00,  1.73856347e+00,  1.81184609e+00,  3.55151152e+00,\n",
       "        2.56546381e+00,  1.47791967e+00,  2.05143235e+00,  2.13720107e+00,\n",
       "        1.01152675e+00,  2.69414184e+00,  3.04082205e+00,  2.51540762e+00,\n",
       "        2.80218794e+00,  1.31959007e+00,  2.37296372e+00,  4.93427383e-01,\n",
       "        2.28601755e+00,  2.83205812e+00,  2.46681953e+00,  1.08185259e+00,\n",
       "        1.93770226e+00,  1.37678527e+00,  1.93396067e+00,  7.68410167e-01,\n",
       "        3.44460147e-02,  3.63711282e+00,  2.42913919e+00,  2.58231854e+00,\n",
       "        2.90423558e+00,  1.58294413e+00,  1.23865636e+00,  8.89503962e-01,\n",
       "        2.26677882e+00,  1.73129321e+00,  3.19798764e+00,  3.27981959e+00,\n",
       "        2.96654163e+00,  1.03978906e+00,  2.64765335e+00,  2.56848619e+00,\n",
       "        2.22583062e+00,  2.70858330e+00,  2.15990842e+00,  7.17358574e-01,\n",
       "        2.23653576e+00,  1.18380921e+00,  1.44312784e+00,  1.69405003e+00,\n",
       "        3.04629035e+00,  2.81924249e+00,  5.75569417e-01,  3.68836762e+00,\n",
       "        3.35000927e+00,  1.50590545e+00,  1.31500204e+00,  2.88152865e+00,\n",
       "        1.20325969e+00,  1.45176739e+00,  3.43526124e-02,  1.93809313e+00,\n",
       "        1.90936886e+00,  2.84808234e+00,  3.55371910e+00,  2.30274011e+00,\n",
       "        6.76325526e-01,  1.40625596e+00,  9.62586244e-01,  5.85845539e-01,\n",
       "        2.24172814e+00,  1.30283119e+00,  1.60525302e+00,  3.74075793e+00,\n",
       "        2.77773057e+00,  2.64537084e+00,  2.67176672e+00,  4.40612817e-01,\n",
       "        1.01912907e+00,  1.73052679e+00,  1.73450893e+00, -1.22719385e-01,\n",
       "        2.26166472e+00,  1.09248253e+00,  1.59494966e+00,  2.20680862e+00,\n",
       "        2.07928054e+00, -8.12710363e-01,  1.97602650e+00,  1.38180895e+00,\n",
       "        1.97367936e+00,  2.58262939e+00,  2.02319736e+00,  3.15017376e+00,\n",
       "        2.27688037e+00,  2.07594808e+00,  2.59620941e+00,  1.61017703e+00,\n",
       "        1.29221367e+00,  1.33750130e+00,  3.17136675e+00,  6.88631628e-01,\n",
       "        2.45238541e+00,  2.62107827e+00,  7.08959675e-01,  2.11740683e-01,\n",
       "        1.15104462e+00,  1.94660413e+00,  1.69173214e+00,  8.72006624e-01,\n",
       "        3.46876298e-01, -4.75114507e-01,  1.58465081e+00,  1.29297251e+00,\n",
       "        2.15687214e+00,  2.82130210e+00,  1.24265627e+00,  1.95176124e+00,\n",
       "        5.69604064e-01,  1.79884881e-01,  1.93973242e+00,  2.36992699e+00,\n",
       "        4.91590216e-01,  1.66186055e+00,  1.50804957e+00,  2.13067816e+00,\n",
       "        1.51996882e+00,  2.63762126e+00,  1.83521479e+00,  3.14621587e+00,\n",
       "        1.99321638e+00,  2.99657582e+00,  2.76634860e+00,  2.70481858e+00,\n",
       "        1.08860439e+00,  2.19283622e+00,  2.00190195e+00,  1.71644100e+00,\n",
       "        2.31487649e+00,  2.27368008e+00, -7.59570281e-01,  2.49198748e+00,\n",
       "        1.29496831e+00,  1.61248596e+00,  1.92081970e+00,  1.10570913e+00,\n",
       "        2.86621528e+00,  1.25883675e+00,  2.53808558e+00,  3.10255767e+00,\n",
       "        1.51039320e+00,  2.45115620e+00,  7.08309805e-01,  9.79668354e-01,\n",
       "        9.06844217e-01,  5.16048188e-01,  5.93773386e-01,  1.87102209e+00,\n",
       "        1.87037075e+00,  2.11931480e+00,  2.08686811e+00,  3.12006446e+00,\n",
       "        1.59448455e+00,  1.68804551e+00,  1.82433186e+00,  3.56392865e+00,\n",
       "        1.14782153e+00,  2.32011431e+00,  3.27117983e+00,  1.67013876e+00,\n",
       "        1.48030636e+00,  6.20516811e-01,  1.10892477e+00,  7.76009605e-01,\n",
       "        2.30515166e+00,  1.49188799e+00,  2.17847988e+00,  2.47523453e+00,\n",
       "        3.13635467e-01,  1.53721630e-02,  2.15877720e+00,  2.07723798e+00,\n",
       "        3.57820252e+00,  3.03528689e+00,  1.17907282e+00,  1.90108324e+00,\n",
       "        1.40205762e+00,  3.08051466e+00,  1.73344555e+00,  1.16365784e+00,\n",
       "        1.00128190e+00,  1.29154725e+00,  1.91273912e+00,  1.53736523e+00,\n",
       "        3.63714505e+00,  1.68894447e+00,  1.81303116e+00,  1.28404887e+00,\n",
       "        1.04426456e+00,  5.40875434e-01,  6.10692518e-01,  1.37302329e+00,\n",
       "        1.47579928e+00,  8.19251261e-01,  8.99323650e-01, -1.12908247e+00,\n",
       "        1.25998944e+00,  1.83669454e+00,  8.18572367e-01,  1.83271149e+00,\n",
       "        1.20849534e+00,  3.75981663e-01,  4.19228679e+00,  8.62878054e-01,\n",
       "        3.07085966e+00,  1.97889537e+00,  1.91859919e+00,  1.91031080e+00,\n",
       "        1.38699815e+00,  1.85520453e+00,  4.46198244e-01, -2.55492207e-01,\n",
       "        2.84836698e+00,  1.04766966e+00,  3.24137322e+00,  1.73411974e+00,\n",
       "        2.78988349e+00,  2.83870261e+00,  8.67626845e-01,  3.09639052e+00,\n",
       "        5.61430775e-01,  2.38948772e+00,  2.63248348e+00,  1.06955188e+00,\n",
       "        1.82424484e+00,  1.67024024e+00,  2.61754232e+00,  1.60885629e+00,\n",
       "        5.81177672e-01,  1.11270586e+00,  5.03760042e-01,  2.07047880e+00,\n",
       "        1.32998977e+00,  2.80035721e+00,  2.81321284e+00,  1.93441083e+00,\n",
       "        4.24750538e+00,  1.78536743e+00,  1.39848648e+00,  2.53778636e+00,\n",
       "        1.90489856e+00,  2.71187253e+00,  2.70512922e+00,  8.69714714e-01,\n",
       "        3.59396330e+00,  3.36092344e+00,  1.77194752e+00,  1.63560342e+00,\n",
       "       -3.21700032e-02,  2.50550209e+00,  1.02400130e+00,  1.70449061e+00,\n",
       "        1.51579524e+00,  3.94147938e-01,  1.67268023e+00,  2.17120398e+00,\n",
       "        1.88128020e+00,  1.84396430e+00,  9.43940646e-01,  1.42493132e+00,\n",
       "        2.84221716e+00,  3.00700353e+00,  6.98999686e-01,  2.51716747e+00,\n",
       "        2.69831588e+00,  1.83381177e+00,  4.33298419e+00,  1.01011766e+00,\n",
       "        1.90598977e+00,  2.58980658e+00,  2.42552473e+00,  4.01323470e+00,\n",
       "       -8.99616857e-01,  2.53845781e+00,  2.38100028e+00, -1.15939410e-01,\n",
       "        2.36113741e+00,  1.22409459e+00,  3.48464975e+00,  1.56818280e+00,\n",
       "        1.10164698e+00,  2.20864882e+00,  4.25831087e+00,  3.82433689e-01,\n",
       "        8.57975710e-01,  2.67793636e+00,  1.19381448e+00,  5.64350202e-01,\n",
       "        2.53240181e+00,  9.38675237e-01,  8.47885976e-01,  2.84685390e+00,\n",
       "        2.33455429e+00,  1.42267385e+00,  1.85500713e+00,  5.05180195e-01,\n",
       "        1.14638394e-01,  2.24158729e+00,  8.09767301e-01,  2.35573133e+00,\n",
       "        2.41534694e+00,  1.35735612e+00,  8.37281935e-01,  1.09595163e+00,\n",
       "        6.58846878e-01,  2.05478369e+00,  1.01891112e+00,  3.34275432e+00,\n",
       "        3.15819860e+00,  2.28736366e+00,  1.49629743e+00, -4.02297279e-02,\n",
       "       -2.04345762e-01,  1.98332568e+00,  9.89787330e-01,  1.96337091e+00,\n",
       "        1.56735800e+00,  2.02584364e+00,  1.62237946e+00, -7.94723132e-01,\n",
       "        2.44324969e+00,  1.38037920e+00,  2.36481009e+00,  6.33575887e-01,\n",
       "        2.55535208e+00,  2.41721830e+00,  2.25151449e+00,  1.62713478e+00,\n",
       "        7.72132736e-01,  2.21385866e+00,  4.39708067e-01,  1.49767542e+00,\n",
       "        2.33315754e+00,  1.04222136e+00,  1.41741618e+00,  3.00032278e+00,\n",
       "        2.11319669e+00, -9.01021591e-01,  1.84682798e+00,  1.63769348e+00,\n",
       "        2.13460524e+00,  8.74821456e-01,  1.91156332e+00,  1.58740441e+00,\n",
       "        2.04461012e+00,  2.54227023e+00,  2.77110808e+00,  1.48738517e-01,\n",
       "        1.52820577e+00,  1.20320055e+00, -9.70764697e-02,  5.77350605e-02,\n",
       "        2.51230846e+00,  1.16770080e+00,  2.83732903e+00,  1.37422735e+00,\n",
       "        3.23166442e-01,  1.61620480e+00,  1.55380830e+00,  3.34341001e+00,\n",
       "        3.11546876e+00,  1.01459541e+00,  3.99378326e-01,  1.59405405e+00,\n",
       "       -2.82798316e-01,  1.08254877e+00,  2.72406017e+00,  2.62353186e+00,\n",
       "        1.29408903e+00,  1.79031931e+00,  2.28235507e+00,  1.39865335e+00,\n",
       "        1.94091028e+00, -4.45277429e-01,  1.25225279e-01,  3.69578138e+00,\n",
       "        3.36477283e+00,  2.06006617e+00,  1.09611730e+00,  2.24431888e+00,\n",
       "        2.79233098e+00,  7.90846963e-01,  2.90670151e+00,  1.36888035e+00,\n",
       "        2.60721778e+00,  1.03224661e+00,  3.06748160e+00,  1.82239214e+00,\n",
       "        9.35927942e-01,  2.21450441e+00,  2.46503752e+00,  3.18504741e+00,\n",
       "        2.50529263e+00,  1.71639028e+00,  2.17779697e+00,  1.65572082e+00,\n",
       "       -3.28531178e-02, -2.57827847e-01,  2.96433537e+00,  3.11626853e+00,\n",
       "        3.04637493e+00,  2.05632204e+00,  1.17558013e+00,  1.19333324e+00,\n",
       "        7.39697506e-01,  2.33311258e+00,  2.02318628e+00,  1.40518690e+00,\n",
       "        2.06626575e+00,  1.66010437e+00,  7.04381915e-01,  1.70872619e+00,\n",
       "        4.49932608e+00,  2.72739495e+00,  2.48024634e+00,  1.15136227e+00,\n",
       "        1.87336252e+00,  1.88283023e+00,  9.87623206e-01,  1.70300712e+00,\n",
       "        2.76403973e+00,  3.57000489e-01,  1.34885396e+00,  1.55652893e+00,\n",
       "        1.40995909e+00,  2.91505180e+00,  3.36114275e+00,  6.68254567e-01,\n",
       "        1.83780080e+00,  1.75855244e+00,  1.60007097e+00,  2.41031500e+00,\n",
       "        1.56022705e+00,  1.64049982e+00,  2.23174504e+00,  3.43895883e-01,\n",
       "        3.29062193e+00,  1.09991806e+00,  1.11266791e+00,  1.40764523e+00,\n",
       "        1.29720549e+00,  1.73038747e+00,  2.33901992e+00,  4.06119162e+00,\n",
       "        2.56220992e+00,  1.15258960e+00,  1.41214372e+00,  4.02967734e-01,\n",
       "        1.38377983e+00,  1.33876962e+00,  3.03205175e+00,  1.28804158e+00,\n",
       "        8.60994506e-01,  1.76777164e+00,  5.26107419e-01,  1.85323420e+00,\n",
       "        2.42062531e+00,  3.58107241e+00,  2.33275423e+00,  1.88563313e+00,\n",
       "       -3.73231618e-02,  1.47689126e+00,  1.09940742e+00,  3.33346331e-01,\n",
       "        2.25829771e+00,  1.09856461e+00,  2.67193839e+00,  2.05037566e+00,\n",
       "        9.27369050e-01,  2.35357233e+00,  1.41938421e+00,  1.99525683e+00,\n",
       "        2.34099886e-01,  2.42558100e+00,  2.74530818e+00,  1.60451184e+00,\n",
       "        3.36055235e-01,  3.45724354e+00,  2.20579367e+00,  3.22018126e+00,\n",
       "        1.95411279e+00,  1.47484054e+00,  9.80716866e-01,  1.85175368e+00,\n",
       "        9.24838213e-01,  6.69178437e-01,  8.98750764e-01,  4.26583835e-01,\n",
       "        5.79508229e-01,  2.62443283e+00,  2.06099970e+00,  2.62631803e+00,\n",
       "        1.35295857e+00, -3.40442292e-01,  1.75650944e+00,  3.52668917e+00,\n",
       "        1.33154034e+00,  8.38966500e-01,  1.97662567e+00,  1.88895416e+00,\n",
       "        1.30695449e+00,  1.93610568e+00,  5.80365159e-01,  3.38885922e+00,\n",
       "        3.09782700e+00,  2.23108428e+00,  2.69963985e+00,  1.91593926e+00,\n",
       "        2.33879930e-01,  3.31357845e+00,  2.19270187e+00,  4.27970787e+00,\n",
       "        1.53688125e+00,  1.90678735e+00,  3.95122208e+00,  2.54631576e+00,\n",
       "        2.05301798e+00,  1.94820992e+00,  1.42994147e+00,  1.04263133e+00,\n",
       "        1.49674231e+00,  1.63653397e-01,  2.78655474e+00,  1.85600101e+00,\n",
       "        1.13963903e+00,  1.93657387e+00,  2.10862994e+00,  2.07075108e+00,\n",
       "        1.89302540e+00, -5.88009225e-02,  7.85320866e-01,  9.89789548e-01,\n",
       "        2.00456562e+00, -5.04078354e-01,  2.75351901e+00,  3.54019887e+00,\n",
       "        1.96859348e+00,  3.19219270e+00,  1.80976031e+00,  2.26165908e+00,\n",
       "        3.00181498e+00,  2.70773310e+00,  1.14203792e+00, -1.69221429e-01,\n",
       "        1.15046179e+00,  3.15952199e-01,  1.46817880e+00,  3.60636674e+00,\n",
       "        2.48755772e+00,  1.33410488e+00,  1.16658422e-01,  1.49752265e+00,\n",
       "        1.56654676e+00,  1.26023118e+00,  1.58832498e+00,  1.22763440e+00,\n",
       "        2.70063972e+00,  4.16560334e-01,  7.67053900e-01,  1.32490245e+00,\n",
       "        2.97170238e+00,  3.21908565e+00,  9.75676242e-01,  9.83890853e-01,\n",
       "        6.07748903e-01,  1.93565059e+00,  2.65724592e+00,  1.86679714e+00,\n",
       "        1.66058402e+00,  1.59888793e+00,  3.11372734e+00,  1.41249046e+00,\n",
       "        1.22315222e+00,  2.30164456e+00,  1.85361445e+00,  1.55467614e+00,\n",
       "        1.35944982e+00,  1.65448842e+00,  3.01484005e+00,  6.90598151e-01,\n",
       "       -2.14320346e-01,  2.65054546e+00,  1.43395661e+00,  1.55289204e+00,\n",
       "        3.29345649e+00,  2.54960173e+00,  1.66481223e+00,  1.88112228e+00,\n",
       "        7.12815633e-01,  1.86882276e+00,  6.25311721e-01,  1.16543598e+00,\n",
       "        1.21423933e+00,  7.72973370e-01,  5.25582590e-01,  2.09720052e+00,\n",
       "        2.10354871e+00,  1.94246089e+00,  5.18251602e-01,  1.71463234e+00,\n",
       "        1.37558929e+00,  2.32194791e+00,  5.00031308e-01,  2.05060141e+00,\n",
       "        1.95345626e+00,  4.16184247e+00,  1.46545025e+00,  9.37266951e-01,\n",
       "        1.27326947e+00,  2.56276149e-01,  4.21658977e-01,  2.15862502e+00,\n",
       "        1.05317927e+00,  2.47869652e+00,  1.97246185e+00,  1.81418781e+00,\n",
       "        1.01934839e+00,  2.59701826e+00,  1.44340498e+00,  1.79045405e+00,\n",
       "        3.68848357e-01,  1.40381704e+00,  2.30458327e+00,  2.98745449e+00,\n",
       "        2.39296511e+00,  5.84569059e-01,  3.61106606e-01,  2.42495360e+00,\n",
       "        2.10023896e+00,  4.89259102e-01,  9.76673282e-01,  1.15294770e+00,\n",
       "        1.88899400e+00,  1.98920669e+00,  1.86250439e+00,  1.96774130e+00,\n",
       "        1.10631015e+00,  2.00443704e+00,  3.43647959e+00,  2.65400422e+00,\n",
       "        1.02362478e+00,  1.30205586e+00,  3.07363027e-01,  3.63517849e+00,\n",
       "        2.90203916e+00,  1.81476035e+00,  2.58861377e+00,  1.42129917e+00,\n",
       "        1.08625868e+00,  8.02296342e-01,  6.20571980e-01,  2.36129239e+00,\n",
       "        1.99511613e+00,  1.40984618e+00,  1.73125380e+00,  2.89772609e+00,\n",
       "        7.50360037e-02,  2.93279623e+00,  9.48934161e-01,  1.12530058e+00,\n",
       "        1.01806729e+00,  1.23336165e+00,  1.76377666e+00,  2.04311904e+00,\n",
       "        1.14187091e+00,  1.99868938e+00,  1.50748142e+00,  2.51499585e+00,\n",
       "        2.54627756e+00,  1.59841532e+00,  2.80409324e+00,  7.52549672e-01,\n",
       "        2.02319389e+00,  2.35410477e+00,  3.34516496e+00,  2.27696435e+00,\n",
       "        2.44538565e+00,  2.14059304e+00,  2.16724568e+00,  1.48000636e+00,\n",
       "        2.63234241e+00,  2.02208142e+00,  2.23414550e+00,  1.62055590e+00,\n",
       "        2.29213772e-01,  2.08725597e+00,  1.93383803e+00,  1.53059434e+00,\n",
       "        4.00569174e+00,  1.36183160e+00,  1.19746401e+00,  2.79735627e+00,\n",
       "        2.36925384e+00,  9.96189120e-01, -3.41872814e-01,  1.30778030e+00,\n",
       "        2.35155428e+00,  2.29024318e+00,  2.94138849e+00,  1.63462500e+00,\n",
       "        1.93622076e+00,  3.33602820e+00, -2.27338391e-01,  1.75431985e+00,\n",
       "        4.77194570e-01,  2.02150485e-01,  2.07626923e+00,  2.99182628e+00,\n",
       "        1.51565313e+00,  1.29667781e+00,  1.11832201e+00,  2.84636006e+00,\n",
       "        1.87862594e+00,  2.08412415e+00,  1.76951400e-01,  1.13252288e+00,\n",
       "        2.91830484e+00, -5.77929062e-01,  2.06391675e+00,  2.39688269e+00,\n",
       "        7.99593491e-01,  1.92618890e+00,  2.01917623e+00,  1.39646945e+00,\n",
       "        1.51806885e+00,  2.07377225e+00,  3.16631261e+00,  1.82022930e+00,\n",
       "        1.91745548e+00,  2.60584367e-01,  2.21367147e+00, -1.86376420e-01,\n",
       "        1.12736615e+00,  2.61666830e+00,  4.39302263e-01,  3.15007392e+00,\n",
       "        2.22055346e+00,  2.73272437e+00,  1.12345180e+00,  1.62413294e+00,\n",
       "        1.21376846e+00,  1.49841939e+00,  1.43138373e-01,  2.00623376e+00,\n",
       "        1.42395821e+00,  2.68487072e+00,  2.61130430e+00,  2.24375391e-01,\n",
       "       -2.48231330e-01,  1.81277133e+00,  2.14237066e+00,  1.35977037e+00,\n",
       "        1.94821561e+00,  3.05369061e+00,  1.47182950e+00,  1.16095406e-01,\n",
       "        7.20712846e-01,  1.96260271e+00,  2.47638746e+00,  1.84387188e+00,\n",
       "        2.89258617e+00,  4.66973091e+00,  1.52552657e+00,  1.23560994e+00,\n",
       "        1.69545814e+00, -3.18095155e-03,  2.44249428e+00,  2.19157989e+00,\n",
       "        1.67303299e+00,  4.67700002e-01,  2.77788177e+00,  1.26721645e+00,\n",
       "        1.80435019e+00,  2.46923847e+00,  1.36521508e+00,  2.11067551e+00,\n",
       "        2.19426313e+00,  2.21215426e+00,  1.67309201e+00,  3.09655714e+00,\n",
       "        1.17998656e+00,  2.55249046e+00,  1.71181664e+00,  1.92524404e+00,\n",
       "        1.99169552e+00,  1.02105779e+00,  7.46982635e-01,  2.04927541e+00,\n",
       "        2.32879402e+00,  8.66785875e-01,  2.22151754e+00,  3.43596503e+00,\n",
       "        3.03360846e+00,  2.73911361e+00,  9.67802766e-01,  1.35136639e+00,\n",
       "        1.25497291e+00,  2.76482493e+00,  3.27152054e+00,  3.74008160e-01,\n",
       "        9.59783530e-01,  2.17829671e+00,  1.75490916e+00,  1.79890023e+00,\n",
       "        1.46237415e+00,  2.93920805e+00,  2.89129606e+00,  3.35853969e+00,\n",
       "        2.53207557e+00,  2.30567053e+00,  1.52412726e+00,  9.03213552e-01,\n",
       "        9.80459167e-01,  2.03446279e+00,  1.26705624e+00,  1.61001592e+00,\n",
       "        2.11633040e+00,  1.20880035e+00,  1.41488140e+00,  2.90129987e+00,\n",
       "        5.08575061e-02, -4.38786020e-01,  9.92016022e-01,  1.32250015e+00,\n",
       "        3.49670998e+00, -1.40427909e-01,  1.41089836e+00,  8.22110432e-01,\n",
       "        5.78177822e-01,  2.34580707e+00,  2.04790962e+00,  1.16338315e+00,\n",
       "        2.32751009e+00,  1.44543266e+00,  1.10594779e+00,  2.24013501e+00,\n",
       "        1.61730746e+00,  5.35826927e-01,  2.40501449e+00,  9.01577121e-01,\n",
       "        2.01305322e+00,  1.62694870e+00,  5.57503014e-01,  1.66903025e+00,\n",
       "        1.66256973e+00,  2.57885031e+00, -4.75009723e-01,  1.79940397e+00,\n",
       "        3.23466526e+00,  2.19129898e+00,  1.89118328e+00,  1.29141175e+00,\n",
       "        3.83870171e+00,  2.50101590e+00,  2.27746671e+00,  2.06731560e+00,\n",
       "        1.83652121e+00,  1.80931524e+00,  1.99041232e+00,  2.44966869e+00,\n",
       "        8.46134466e-01,  4.95331896e-02,  2.39470889e+00,  1.51333131e+00,\n",
       "        1.61729827e+00,  2.67588622e-01,  2.26118675e+00,  5.53580763e-01,\n",
       "        7.71224151e-01,  3.53119709e+00,  1.93434972e+00,  1.76089341e+00,\n",
       "        1.68925184e+00,  4.36406675e-01,  2.18606276e+00,  5.60149883e-01,\n",
       "        7.77782905e-01,  1.50618973e+00,  2.75686425e+00,  1.88027152e+00,\n",
       "        3.50517940e+00,  2.97530234e-01,  1.12795800e+00,  8.77085483e-01,\n",
       "        1.49901376e+00,  4.70355717e-01,  2.24576891e+00,  9.84711107e-01,\n",
       "        1.17264278e+00,  1.89815154e+00,  2.02216944e+00,  2.47694855e+00,\n",
       "        1.11187170e+00,  1.98042976e+00,  1.80128955e+00,  2.27556130e+00,\n",
       "        2.48920903e+00,  2.27405755e+00,  8.36751324e-01,  2.50709100e+00,\n",
       "        3.53870098e+00,  2.22858316e+00,  1.59040437e+00,  1.41095472e+00,\n",
       "        1.61626474e+00,  1.23724574e+00,  1.81248649e+00,  1.28480874e+00,\n",
       "        1.13901392e+00,  2.51185477e+00,  6.68800185e-01,  1.90025990e+00,\n",
       "        3.17754074e+00,  1.59515113e+00,  1.88980282e+00,  2.72445722e+00,\n",
       "        5.78781017e-01,  1.74107957e+00,  1.97978781e+00,  5.06552251e-01,\n",
       "        8.90276286e-01,  5.78685923e-01,  1.82584597e+00,  1.23921480e+00,\n",
       "        5.83668918e-01,  2.08716337e+00,  5.34291523e-01,  2.58907963e+00,\n",
       "        2.87253755e+00,  1.35451129e+00,  3.18987210e+00,  1.30274581e+00,\n",
       "        7.45936146e-01,  2.48873851e+00,  2.61490834e+00,  2.87272350e+00,\n",
       "        3.06012995e+00,  1.85119122e+00,  1.97314230e+00,  1.49557943e+00,\n",
       "        2.56861146e+00,  7.65281418e-01,  1.19956648e+00,  1.64860769e+00,\n",
       "        1.34995972e+00,  2.13170127e+00,  1.28038300e+00,  7.32677939e-01,\n",
       "        1.96011980e+00,  2.01326098e+00,  2.27314813e+00,  2.67567704e+00,\n",
       "        3.04399247e+00, -3.77040841e-02,  2.33470269e+00,  8.66980947e-01,\n",
       "        1.45719942e+00,  1.35492512e+00,  2.41271485e+00,  8.19035777e-01,\n",
       "        2.34969356e+00,  1.67088117e+00,  2.86802352e+00,  1.06793806e+00,\n",
       "        2.33309212e+00,  1.86671408e+00, -3.01073108e-01,  1.27900889e+00,\n",
       "        3.01371663e+00,  1.42850845e+00,  2.81134995e+00,  2.37875493e+00,\n",
       "        2.82380100e+00,  1.09884891e+00,  2.10379567e+00,  1.70101447e+00,\n",
       "        1.29187025e+00, -3.10274909e-01,  1.21275439e+00,  8.35186025e-01,\n",
       "        1.29739667e+00,  1.53028297e+00,  2.09364915e+00,  1.23382036e+00,\n",
       "        1.79158501e+00,  2.72876148e+00,  1.86070337e+00,  2.16101262e-01,\n",
       "        1.84738041e+00,  1.21514921e+00,  3.98245745e+00,  4.90719473e-01,\n",
       "        3.51668201e+00,  1.13465324e+00,  2.38783444e+00,  2.12498748e+00,\n",
       "        1.96424399e+00,  1.64654973e+00,  2.96916725e+00,  2.40555279e+00,\n",
       "        5.64886640e-01,  2.05419237e+00,  1.20437564e+00,  2.97069162e+00,\n",
       "        1.02340117e+00,  4.98362067e-01,  2.60985542e+00,  2.23659492e+00,\n",
       "        9.40435711e-01,  6.97360982e-01,  1.41548985e+00, -4.40954131e-01,\n",
       "        1.31231224e+00,  2.28218405e+00,  2.24811687e+00,  1.74598486e+00,\n",
       "        4.52457325e+00,  1.91911301e+00,  2.54737348e+00,  1.90664134e+00,\n",
       "        1.21642700e+00,  1.61603070e+00,  8.91499370e-01,  1.07376899e+00,\n",
       "        1.40760285e+00,  6.97480987e-01,  2.89342156e+00,  1.98095169e+00,\n",
       "        1.40336510e+00, -1.85864227e-01, -4.97308962e-01,  1.39234838e-01,\n",
       "        1.90434626e+00,  3.39904855e+00,  1.80100665e+00,  7.80053897e-01,\n",
       "        2.08503337e+00,  1.97130036e+00,  3.50105094e+00,  2.90146522e+00,\n",
       "        1.84830365e+00,  2.35302774e+00,  6.38568546e-01,  3.46538959e+00,\n",
       "        1.35448589e+00,  1.05358072e+00, -4.98680370e-01,  1.25334616e+00,\n",
       "        1.81168091e+00,  2.48995650e+00,  2.97680438e+00,  1.89175585e+00,\n",
       "        1.66111714e+00,  3.03721340e+00,  2.19801127e+00,  1.11523489e+00,\n",
       "        2.54530085e+00,  2.25599953e+00,  3.50314150e+00,  3.46891561e+00,\n",
       "        3.63925019e-01,  2.48237543e+00,  1.60978138e+00,  1.20035377e+00,\n",
       "        1.91627176e+00,  2.44745198e+00,  3.14292438e+00,  1.18385365e+00,\n",
       "        1.74177057e+00,  1.19192781e+00,  2.78002580e+00,  3.21622558e+00,\n",
       "        2.45985721e+00,  3.05155360e+00,  1.53568873e+00,  2.75759580e+00,\n",
       "        4.73188670e-01,  2.47038925e+00,  1.69263886e+00,  1.46116050e+00,\n",
       "        2.27300338e+00,  1.96112259e+00,  4.47887735e+00,  3.07555318e+00,\n",
       "        1.85911523e+00,  6.89420955e-01,  2.63013517e+00,  9.85264757e-01,\n",
       "        2.01901374e+00,  2.56957723e+00,  7.19088964e-01,  1.71849240e+00,\n",
       "        3.24407730e+00,  4.14000235e-02,  2.89158302e+00,  1.74609443e+00,\n",
       "        1.82111655e+00,  2.22130013e+00, -1.45434204e-01,  2.78100324e+00,\n",
       "        5.20483513e-02,  2.39619996e+00,  2.02197693e+00,  2.45259364e+00,\n",
       "        2.09872791e+00,  1.52248017e+00,  1.64071090e+00,  2.07913778e+00,\n",
       "        1.11270165e+00,  9.63177323e-01,  3.43323516e+00,  3.32019402e+00,\n",
       "        1.24926175e+00,  2.73859418e+00,  2.44911604e+00,  2.48133008e-01,\n",
       "        2.32207912e+00,  1.30536327e+00,  2.79565647e+00,  1.77910500e+00,\n",
       "        3.81352907e+00,  2.13371374e+00,  2.08066669e+00,  7.45905934e-01,\n",
       "        7.09111738e-01,  1.24446519e+00,  3.93178909e+00,  4.92142832e-01,\n",
       "        1.66527320e+00,  2.04391755e+00,  3.48436354e+00,  3.23012571e+00,\n",
       "        1.48802190e+00,  2.72371612e+00,  2.34282615e+00,  4.69037523e-01,\n",
       "        1.04226781e+00,  1.05829739e+00,  2.04049435e+00,  2.32406519e+00,\n",
       "        2.17405390e+00,  1.38363030e+00,  2.85543512e+00,  2.97802514e+00,\n",
       "        1.88325641e+00,  2.24398014e+00,  2.87345859e+00,  1.35823537e+00,\n",
       "        1.90528345e+00,  8.18620544e-01,  4.82127244e+00,  3.55729329e+00,\n",
       "        1.61247427e+00, -2.14659032e-01,  2.58319938e+00,  1.30656850e+00,\n",
       "        1.69281938e+00,  1.58183497e+00,  5.22501744e-01,  1.18190703e+00,\n",
       "        1.28334082e+00,  1.78998575e+00,  2.20682721e+00,  1.57688015e+00,\n",
       "        8.44244355e-01,  1.73092772e+00,  2.59663684e+00,  1.00635943e+00,\n",
       "        1.07358394e+00,  6.51684827e-01,  2.79741511e+00,  2.65631608e+00,\n",
       "        7.62059243e-01,  1.66221526e+00,  1.64351687e+00,  5.51513781e-01,\n",
       "        1.68092924e+00,  1.99613059e+00,  2.14049851e+00,  1.24338168e+00,\n",
       "        1.87603701e+00,  1.27210863e+00,  1.16368367e+00,  6.34124750e-01,\n",
       "        2.12054343e+00,  1.55011109e+00,  3.73744674e+00,  2.94900373e+00,\n",
       "        2.60011261e+00,  3.38952236e+00,  2.06492717e+00,  1.73666783e+00,\n",
       "        1.78721041e+00,  3.23729252e+00,  1.13813872e+00, -3.17685643e-01,\n",
       "        1.42062235e+00,  1.02209471e+00,  1.03655164e+00,  1.25141141e+00,\n",
       "        8.87936074e-01,  2.62150740e+00,  1.26700723e+00,  6.48326084e-01,\n",
       "        9.51697555e-01, -4.38864367e-01,  2.58177015e+00, -1.48175877e-01,\n",
       "        2.53111384e+00,  2.41257721e+00,  1.26933879e+00,  1.31948103e+00,\n",
       "        5.03518911e-01,  1.91347859e+00,  1.56513414e+00,  1.10390997e+00,\n",
       "        3.16006902e+00,  1.29345871e+00,  1.74363959e+00,  8.09168467e-01,\n",
       "        1.11509978e+00,  2.10099184e+00,  2.48168635e-01,  2.89430304e+00,\n",
       "        1.79673941e+00,  1.75686617e+00,  1.26579812e+00,  1.08513914e+00,\n",
       "        4.07137737e-01,  2.01828124e+00, -4.09758815e-01,  1.00781774e+00,\n",
       "        2.50943018e+00,  3.04896205e-01,  2.63210543e+00,  1.48550977e+00,\n",
       "        9.90853842e-01,  4.33049048e-01,  1.82991444e+00,  1.92267277e+00,\n",
       "        2.26811783e+00,  1.28600322e+00,  9.54192604e-01,  9.67921984e-01,\n",
       "        3.59647154e-01,  7.89917245e-01,  2.53881407e+00,  8.30677525e-01,\n",
       "        1.17728368e+00,  2.75731347e+00,  2.38467027e-01,  1.13337062e+00,\n",
       "        2.83441115e+00,  1.34075762e+00,  2.84013932e+00,  3.53053701e+00,\n",
       "        1.07835376e+00,  2.41936297e+00,  1.23734939e+00,  9.81869548e-01,\n",
       "        2.05181575e+00,  3.95043302e+00,  7.87980908e-01,  1.93645839e+00,\n",
       "        7.46778368e-01,  1.97346094e+00,  3.24813519e+00,  2.36204532e+00,\n",
       "        2.42562161e+00,  2.50126839e+00,  1.63149853e+00, -5.03081534e-01,\n",
       "        3.32976543e+00, -3.27180380e-01,  1.10839996e+00,  2.41845026e+00,\n",
       "        2.32706465e+00,  2.41399086e-01,  7.64971744e-01,  3.50027876e+00,\n",
       "        2.51782461e+00,  1.59845710e+00,  2.59925550e+00,  3.33156876e+00,\n",
       "        1.27985052e+00, -2.77364994e-01,  1.29739472e+00,  2.81363885e+00,\n",
       "        8.56354782e-03,  1.09026328e+00,  1.65956673e+00,  2.06550879e+00,\n",
       "        4.28153460e-01,  2.44344199e+00,  1.32408223e+00,  2.56072618e+00,\n",
       "        1.82163144e+00,  7.67288402e-01,  3.62560384e-01,  2.31763380e+00,\n",
       "        2.20403993e+00,  9.50736366e-01,  1.37101580e+00,  1.62142083e+00,\n",
       "        1.67268230e+00,  2.93574256e+00,  1.49625369e+00,  2.23009814e+00,\n",
       "        8.74244828e-01,  8.97071497e-01,  1.63347922e+00,  1.98439450e+00,\n",
       "        2.59042409e+00,  2.55827492e+00,  1.47139546e+00,  1.12908002e+00,\n",
       "        1.99910157e+00,  1.35652895e+00,  2.75905642e+00,  1.82956330e+00,\n",
       "        2.94602736e+00,  1.89657310e+00,  2.41226798e+00,  2.45602454e+00,\n",
       "        1.99110057e-02,  2.18161179e+00,  1.66684834e+00,  1.82813139e+00,\n",
       "        3.84362822e+00,  1.54351217e+00,  2.66725963e+00,  3.87336040e+00,\n",
       "        3.03711520e+00,  7.64559036e-01,  3.04960338e+00,  3.35170764e+00,\n",
       "        4.85920233e-01,  1.92040717e+00,  2.92860536e+00,  2.22961066e+00,\n",
       "        1.41145928e+00,  2.45016890e+00,  1.93420359e+00,  1.90240841e+00,\n",
       "        1.76150237e+00,  1.96479275e+00,  1.69706482e+00,  2.04434459e+00,\n",
       "        1.32748646e-01,  1.57548709e+00,  2.25382960e+00,  2.76704152e+00,\n",
       "        2.54970175e+00,  2.32776369e+00,  7.29140168e-01,  1.44533107e+00,\n",
       "        1.80183511e+00,  1.04650434e+00,  8.44181687e-02,  2.87808328e+00,\n",
       "        2.51340170e+00,  3.24948483e+00,  1.93109482e+00,  4.92269248e-01,\n",
       "        4.79523527e-01,  4.32650579e+00,  1.18154836e+00,  1.78896994e+00,\n",
       "        7.64389784e-01,  2.81013525e+00,  8.78920650e-01,  2.48406840e+00,\n",
       "        1.50203945e+00,  1.40588105e-01,  4.96086734e+00,  2.32990220e+00,\n",
       "        2.61418499e+00,  2.97709496e+00,  1.69745504e+00,  1.99563443e+00,\n",
       "        4.72539071e-01,  3.01661825e+00,  3.19279731e+00,  1.49782560e+00,\n",
       "        9.75144587e-01,  2.09903275e+00,  2.66418340e+00,  3.28090626e+00,\n",
       "       -1.56832145e-01,  1.33086055e+00,  6.50605372e-01,  1.58803877e+00,\n",
       "        3.52772648e-01,  2.76336126e+00,  2.79972290e+00,  6.35738115e-01,\n",
       "        5.26531091e-01,  2.90900634e+00,  1.30725678e+00,  1.60501619e-01,\n",
       "        2.02100118e+00,  1.04226067e+00,  6.54787355e-01,  1.51918472e+00,\n",
       "        1.95982715e+00,  8.69836580e-01,  1.75646198e+00,  1.89387502e+00,\n",
       "        3.01004480e+00,  6.70180171e-01,  1.31593006e+00,  2.73864414e+00,\n",
       "       -1.66412444e-01,  1.61297243e+00,  1.01038078e+00,  1.58463817e+00,\n",
       "        6.21686103e-01,  9.86695386e-01,  7.47021375e-01,  3.02689353e+00,\n",
       "        2.04256299e+00,  8.00088978e-01,  1.38367182e+00,  1.95909023e+00,\n",
       "        1.43448471e+00, -3.28009918e-01,  2.19865891e+00,  3.09395229e+00,\n",
       "       -2.47738772e-01,  1.45626520e+00,  2.28424224e+00,  1.93652840e-01,\n",
       "        2.39915921e+00,  1.27940932e+00,  1.88998018e+00,  2.10976147e+00,\n",
       "        2.07462696e+00,  8.62483512e-01,  2.32328023e+00,  9.43315811e-01,\n",
       "        7.42406242e-01,  1.79451662e+00,  2.38710631e+00,  1.31963563e+00,\n",
       "        9.07796166e-01,  2.59492875e+00,  1.18806023e+00,  1.35687650e+00,\n",
       "        1.21862189e+00,  2.34883235e+00,  1.88734262e+00,  2.03033870e+00,\n",
       "        2.44426091e+00,  1.24041139e+00,  1.11884332e+00,  1.04203836e+00,\n",
       "        8.77511681e-01,  1.57888045e+00,  3.07214349e+00,  2.54067408e+00,\n",
       "       -3.49084428e-01,  6.54803133e-01,  1.51279359e+00,  4.51907555e-01,\n",
       "        1.24117127e+00,  2.47573090e+00,  3.48709195e+00,  1.35876817e+00,\n",
       "        2.79485398e+00,  2.54891771e+00,  1.86103255e+00,  9.69559264e-01,\n",
       "        1.99691722e+00,  8.84587456e-01,  2.97597329e+00,  1.26501696e+00,\n",
       "        2.95003366e+00,  2.76699481e+00,  1.02212877e+00,  1.91231692e+00,\n",
       "        1.79112831e+00,  6.68392345e-01,  2.41036441e+00,  6.85869318e-02,\n",
       "        2.06985308e+00,  5.91886838e-01,  2.01804631e+00,  6.32583643e-02,\n",
       "        4.34805231e-01,  2.04232600e+00,  1.14858746e+00,  9.24589249e-01,\n",
       "        6.95121791e-01,  1.96566401e+00,  1.60459442e+00,  9.44300612e-01,\n",
       "        4.82802966e-01,  2.65860687e+00,  2.16879746e+00,  1.33897603e+00,\n",
       "        1.24804901e+00,  1.13460836e+00,  3.38589892e+00,  2.24610209e+00,\n",
       "        3.64532354e+00,  1.44718589e+00,  1.23889196e+00,  2.95204409e+00,\n",
       "        2.60364832e+00,  2.82685520e-01,  2.01651744e+00,  2.56806356e+00,\n",
       "        2.93517233e+00,  2.07620415e+00,  3.12686824e+00,  9.21113222e-01,\n",
       "        7.13357426e-01,  1.14611450e+00,  2.11301984e+00,  2.06523662e+00,\n",
       "       -2.16213646e-01,  4.58836843e+00,  4.88887759e-01,  1.51817538e+00,\n",
       "        2.56803249e+00,  1.66035857e+00,  1.64190005e+00,  1.86475485e+00,\n",
       "        1.21770570e+00,  2.81086092e+00,  1.57384112e+00,  2.01654667e+00,\n",
       "        6.21896301e-01,  2.38066356e+00,  1.65184253e+00,  2.77954555e+00,\n",
       "        6.39398034e-01,  1.63224941e+00,  3.01361230e+00,  2.66155910e+00,\n",
       "        2.46931446e-01,  8.06993695e-01,  2.53933371e+00,  1.70953575e+00,\n",
       "        1.98553164e+00,  2.93503425e+00,  1.77371877e+00, -5.22679948e-01,\n",
       "        5.84545851e-02,  3.05789756e+00,  2.04874612e+00,  1.88255232e+00,\n",
       "        2.10588212e+00,  2.09209006e+00,  8.43925326e-01,  4.60636109e-01,\n",
       "        2.88052603e+00,  2.17135359e+00,  3.18317869e+00,  2.13769178e+00,\n",
       "        8.31208684e-01,  2.12918521e+00,  3.10956284e+00,  2.66862588e+00,\n",
       "        1.15101822e+00,  1.45454540e+00,  3.43779823e+00,  2.96228372e+00,\n",
       "        2.44113348e+00, -6.60860980e-01,  9.39814362e-01,  7.18622142e-01,\n",
       "        1.13890513e+00,  1.40683050e+00,  1.98803183e+00,  1.43914878e+00,\n",
       "        1.81303471e+00,  2.73402978e+00,  1.84014307e+00,  2.33770972e+00,\n",
       "        9.73379347e-02,  3.72237894e-01,  2.34066773e+00,  1.33832390e+00,\n",
       "        1.51542120e+00,  2.84928528e+00,  1.39294977e+00,  3.21832088e+00,\n",
       "        1.29447814e+00,  2.04085345e+00,  1.15847260e+00, -8.40435343e-01,\n",
       "        1.31938739e+00,  3.29688847e+00,  9.43980764e-01,  8.19125852e-01,\n",
       "        1.32344402e+00,  8.98278510e-01,  1.42885699e+00,  3.32344483e+00,\n",
       "        2.99999281e+00,  1.03093900e+00,  1.75235442e+00,  1.84334638e+00,\n",
       "        2.13267238e+00,  6.38560038e-01,  2.60448871e+00,  1.37647679e+00,\n",
       "        2.43835156e+00,  3.55993245e+00,  2.55545087e+00,  2.68639983e+00,\n",
       "        1.42084908e+00,  1.41216659e+00,  6.44158609e-01,  1.44789348e+00,\n",
       "        1.90483811e-01,  8.96661934e-01,  2.70255768e+00,  4.70598207e-01,\n",
       "        2.83828955e+00,  3.44533535e+00,  9.75853471e-01,  1.34118898e+00,\n",
       "        2.63395548e+00,  9.59063975e-01,  8.00122031e-01,  2.50497585e+00,\n",
       "        2.63315895e+00,  2.08975196e+00,  7.48019816e-01,  5.97950200e-01,\n",
       "        2.05024821e+00,  3.53307296e+00,  1.21313704e-01,  1.97572012e+00,\n",
       "        7.28669046e-01,  1.58224389e+00, -3.65070132e-01, -4.16023374e-01,\n",
       "        5.44108088e-01,  2.50627041e-01,  3.97387795e+00,  1.72178608e+00,\n",
       "        7.43026533e-01,  2.16106970e+00,  1.19790336e+00,  3.01413846e+00,\n",
       "        2.77582263e+00,  1.27433904e+00,  1.22030383e+00,  1.53300380e-01,\n",
       "        8.34521685e-01,  2.91014794e+00,  1.54061878e+00,  1.05855917e+00,\n",
       "        9.79293826e-01,  1.77186451e+00,  1.44820569e+00,  3.55398991e+00,\n",
       "        1.28283807e+00,  2.26503223e+00,  1.03683453e+00,  5.31396130e-01,\n",
       "        1.02131744e-01,  1.11005141e+00,  1.85816414e+00,  2.98408622e+00,\n",
       "        6.68389744e-01,  3.97779052e-01,  3.60669522e+00,  1.68409592e+00,\n",
       "        3.49486897e-01,  1.82206263e+00,  1.38692745e+00,  3.16839220e+00,\n",
       "        3.78005612e-01,  4.99593579e-01,  7.97221497e-01,  1.80861572e+00,\n",
       "        2.02816346e+00,  1.37548733e-01,  2.08597578e+00,  3.00009534e+00,\n",
       "        5.99589635e-01,  1.36003773e+00,  4.24775785e-01,  2.69689487e+00,\n",
       "        2.69327540e+00,  9.52403440e-01,  1.78978994e+00,  2.32281674e+00,\n",
       "        1.46048712e+00,  1.35107078e+00,  1.44578182e+00,  1.76036425e+00,\n",
       "        4.01872923e-01,  1.22878813e+00,  6.16192589e-01, -6.47661625e-01,\n",
       "        6.00164880e-01,  2.48804250e+00,  1.98847888e+00,  2.13115803e+00,\n",
       "        2.24593948e+00,  2.15403934e+00,  6.87811281e-01,  1.87455069e+00,\n",
       "        2.51693146e+00,  1.17511091e+00,  4.19998048e+00,  3.29970140e+00,\n",
       "        5.26753318e-02,  2.43923639e+00,  3.20841528e+00,  1.75689060e+00,\n",
       "        2.87016551e+00,  1.06112502e+00,  2.86836649e+00,  8.58192631e-01,\n",
       "        1.09514902e+00,  1.35354104e+00,  1.68511871e+00,  3.18063312e+00,\n",
       "        1.93290698e+00,  2.49336798e+00,  1.85523452e+00,  1.98209352e+00,\n",
       "        7.37213846e-02,  2.13354437e+00,  2.07906190e+00,  1.28670681e+00,\n",
       "        3.70365736e+00,  1.96482578e+00,  1.98558871e+00,  3.04386603e+00,\n",
       "        2.46285031e+00,  5.85640098e-01,  2.08413525e+00,  2.24996095e+00,\n",
       "        1.49669530e+00,  2.78442756e+00,  2.06625572e+00,  1.39836965e+00,\n",
       "        1.51559621e+00,  1.11757906e+00,  1.12653351e+00,  2.63046855e+00,\n",
       "        1.39306096e+00,  2.90424115e+00,  3.32614261e-01,  6.79872070e-01,\n",
       "        1.60012617e+00,  2.01777688e+00,  1.53014778e+00,  3.00387452e+00,\n",
       "        5.10828597e-01,  1.57126040e+00,  3.89318696e+00,  1.97951486e+00,\n",
       "        1.92072532e+00,  3.65777546e+00,  1.92074699e+00,  1.35130614e+00,\n",
       "        1.58799823e+00,  2.97302694e+00,  2.74755361e+00,  1.40232293e+00,\n",
       "        2.00965375e+00,  2.35447471e+00,  2.69293305e+00,  2.21783483e+00,\n",
       "        1.39473436e+00,  4.79333261e-01,  8.15151953e-01,  3.07387592e+00,\n",
       "        2.42944924e+00,  7.79424817e-01, -7.84767156e-02,  2.68032880e+00,\n",
       "        4.07014352e+00,  5.56864040e-01,  1.48181437e+00,  3.08910159e+00,\n",
       "        9.25537157e-01,  2.05229216e+00,  3.15520099e+00,  1.06904962e+00,\n",
       "        1.64084229e+00,  2.55466675e+00,  2.03217299e-02,  8.43399471e-02,\n",
       "        5.19590681e-01,  1.26685773e+00,  3.03962802e+00,  1.09076469e+00,\n",
       "        5.28261924e-01, -2.55613909e-01,  1.28294906e+00,  2.72822658e+00,\n",
       "        5.02588683e-01,  1.17269490e+00,  2.73585543e+00,  1.97730868e+00,\n",
       "        2.08630972e+00,  1.33901461e+00,  1.66196016e+00,  2.16133552e+00,\n",
       "        2.59936420e+00,  1.78385026e+00,  2.24546215e+00,  3.83205248e+00,\n",
       "        2.31102916e+00,  8.30111475e-01,  6.51714605e-01, -2.85637144e-01,\n",
       "        1.43513383e+00,  2.21439172e+00,  3.05239979e+00,  2.44471427e+00,\n",
       "        1.03342562e+00,  1.76241004e+00,  1.73879688e+00,  1.25512243e+00,\n",
       "        1.37487512e+00,  6.16857856e-01,  2.59156251e+00,  2.84663129e+00,\n",
       "        2.05644942e+00,  6.69026217e-01,  1.46863007e+00,  2.50075466e-01,\n",
       "        1.71553878e+00,  9.92761475e-02,  1.02036930e+00,  2.92482647e+00,\n",
       "        4.77730841e+00,  2.36933798e+00,  2.79814594e+00,  9.96722467e-01,\n",
       "        2.87082964e-01,  1.49240256e-01,  8.30310128e-01,  2.56050184e+00,\n",
       "        1.87580764e+00,  1.95980880e+00,  6.79084644e-01,  2.17518834e+00,\n",
       "        8.10560855e-01,  2.62335822e+00,  2.27685511e+00, -3.08595089e-01,\n",
       "        2.67657557e+00, -5.56970251e-01,  3.19244498e-01,  3.49291122e-01,\n",
       "        2.24716010e+00,  2.49376954e+00,  1.38925657e+00,  1.46875010e+00,\n",
       "       -3.24490027e-02,  4.49194888e-01,  3.00727503e+00,  7.85703991e-01,\n",
       "        1.25863074e+00,  1.83433481e+00,  3.15027167e-02,  1.77033475e+00,\n",
       "        2.29531555e+00,  1.43332468e+00,  2.78442655e+00, -1.02876835e+00,\n",
       "        8.87906111e-01,  6.67682388e-01,  3.80718909e+00,  6.99243842e-01,\n",
       "        1.19541747e+00,  1.07319599e+00,  1.07625800e+00,  1.61639848e+00,\n",
       "        1.31846330e+00,  2.08587467e+00,  1.70002108e+00,  3.48339531e+00,\n",
       "        2.56940784e+00,  9.43589805e-01,  2.45693525e+00,  1.65399253e+00,\n",
       "        3.10438120e+00, -2.56236872e-01,  2.55394808e+00,  3.63417167e+00,\n",
       "        2.43990283e-03,  1.94757234e+00,  1.42752184e+00,  3.15457854e+00,\n",
       "        3.38263241e-02,  3.11977223e+00,  2.11274825e+00,  1.40669781e+00,\n",
       "        3.53186502e+00,  4.84618368e-01,  2.35190383e-01,  2.58897330e+00,\n",
       "        1.58734634e+00,  2.52906635e+00,  2.22250496e+00,  5.16764700e-01,\n",
       "        3.60010011e+00,  2.75786696e+00,  3.51663772e+00,  2.61551273e-01,\n",
       "        3.34166207e+00,  1.90918442e+00,  1.79383286e+00,  4.24235168e-01,\n",
       "        1.28685487e+00,  1.07755402e+00,  3.12109680e+00,  2.09932443e+00,\n",
       "        1.59315281e+00,  1.96984525e+00,  7.48396368e-01,  9.20959203e-01,\n",
       "        1.95551877e+00,  5.36434934e-01,  3.61037774e+00, -6.27394600e-01,\n",
       "        1.33766428e+00,  1.99738564e+00,  1.47041855e+00,  1.74206084e+00,\n",
       "        1.33120395e+00,  1.25553867e+00,  3.08402909e-01,  1.75891358e+00,\n",
       "       -3.79455089e-02,  5.88952609e-01,  1.46000513e+00,  1.91303233e+00,\n",
       "        2.65125023e+00,  7.63335837e-01,  1.71698724e+00,  2.91708615e+00,\n",
       "        9.74487165e-01,  1.72242502e+00, -8.71106295e-01,  4.34868795e-01,\n",
       "        3.00828602e+00,  3.08051404e+00,  2.08144954e+00,  2.38742544e+00,\n",
       "        9.76165805e-01,  1.64757922e+00,  1.93900601e+00,  2.06418262e+00,\n",
       "        2.94029641e+00,  1.93009848e+00,  8.01193478e-01,  1.76958494e+00,\n",
       "        1.64567910e+00,  1.71213761e+00,  1.81088524e+00,  2.18014505e+00,\n",
       "       -3.43751056e-01,  2.57625623e+00,  6.11990615e-01,  2.18014424e+00,\n",
       "        1.36761219e+00,  2.44898108e+00,  1.89360069e+00,  9.51312550e-01,\n",
       "        7.09960107e-01,  2.54099272e+00,  1.98148861e+00, -6.83088662e-01,\n",
       "        1.60637371e+00,  1.98745748e+00,  3.95170778e-01,  1.49929942e+00,\n",
       "        6.28911813e-02,  1.25574245e+00,  1.94547091e+00,  2.16542589e+00,\n",
       "        2.67824015e+00,  1.08443673e+00,  2.34754648e+00,  1.71701953e-01,\n",
       "        1.54767648e+00,  1.66125916e+00,  6.27304786e-01,  7.31337240e-01,\n",
       "        1.44386734e+00,  1.41005802e+00,  1.16430395e+00, -5.72638538e-01,\n",
       "        1.48805281e+00,  7.07064750e-01,  1.11014186e+00, -7.30044379e-01,\n",
       "        1.68905888e+00,  1.84159048e+00,  2.56655469e+00,  2.63567642e+00,\n",
       "        2.66724323e-01,  3.44549778e+00,  1.42831449e+00,  2.37147568e+00,\n",
       "        8.39663103e-01,  3.97050146e-01,  2.58023246e+00,  1.39467911e+00,\n",
       "        3.47979831e+00,  1.99572407e+00,  1.81767723e+00,  1.51006566e+00,\n",
       "        6.42731235e-01,  2.29844751e+00,  1.65403933e+00,  2.40374434e+00,\n",
       "        1.08961933e+00,  2.15125918e+00,  1.17855048e+00,  2.02628353e+00,\n",
       "        2.80072446e+00,  4.09265984e-01,  9.04017775e-01,  5.77403977e-01,\n",
       "        1.94422988e+00,  6.90651642e-01,  4.29636055e+00,  1.59484959e+00,\n",
       "        1.89781256e+00,  1.24834283e+00,  3.15654975e+00,  2.21682838e+00,\n",
       "        1.64861841e+00,  1.73388208e+00,  2.14056069e+00,  3.54758965e+00,\n",
       "        3.32244681e+00,  2.43043081e+00,  1.98263054e+00,  1.73986113e+00,\n",
       "        2.56973553e+00,  2.07931994e+00,  1.15694680e+00,  1.37248972e+00,\n",
       "        4.46709896e-01,  1.54575948e+00,  2.39137165e+00,  2.35158786e+00,\n",
       "        1.57388534e+00,  3.68776550e-01,  9.66092838e-01,  9.56051334e-01,\n",
       "        3.19675306e+00,  2.00614226e+00, -6.91688906e-01, -1.97509461e-01,\n",
       "        1.64220353e-01,  1.10214816e-01,  1.75034492e+00,  2.07127216e+00,\n",
       "        3.51803487e+00,  1.40123362e+00,  1.05472016e-01,  1.12243743e+00,\n",
       "        1.22506346e+00,  1.73464780e+00,  1.01046119e+00, -8.79603101e-02,\n",
       "        1.86984884e+00,  3.33512000e+00,  3.73730512e+00,  9.53760961e-01,\n",
       "        3.05071468e+00,  1.60518694e+00,  2.10591761e+00, -1.12161822e-01,\n",
       "        1.91503379e+00,  2.89643943e+00,  2.22943857e+00,  2.45364282e+00,\n",
       "        3.74518562e+00,  6.36487301e-01,  5.78341836e-01,  1.27988827e+00,\n",
       "        1.77047542e+00,  2.30561092e+00,  9.53556371e-01,  1.03532990e-01,\n",
       "        1.81121279e+00,  8.90401596e-02,  1.83319511e+00,  1.61364538e+00,\n",
       "        2.56301548e+00,  3.66818532e+00,  1.15812399e+00,  6.53372533e-01,\n",
       "        2.33041654e+00,  2.63088282e+00,  1.37650777e+00,  1.43286410e+00,\n",
       "        1.77982451e+00,  2.71993500e+00,  2.05998534e+00,  8.20220807e-01,\n",
       "        1.96774718e+00,  2.47053413e+00,  2.99271506e+00,  2.24654189e-01,\n",
       "        1.31353155e+00,  1.05445097e+00, -6.72938298e-02,  2.08372347e+00,\n",
       "        1.96199282e+00,  1.04673554e+00,  7.18307026e-01,  6.84117680e-01,\n",
       "       -6.47957731e-01,  1.20712556e+00,  2.89424974e+00,  9.86216058e-01,\n",
       "       -7.20797542e-03,  1.73804403e+00,  1.66502901e+00,  1.92574008e+00,\n",
       "        2.33747956e+00,  1.73093977e+00,  3.27522508e-01,  2.16208586e+00,\n",
       "        3.68749813e-01,  1.46292322e+00,  9.06734807e-01,  3.22930109e+00,\n",
       "        9.97865043e-02,  1.61442922e+00,  3.56894531e+00,  3.51589760e+00,\n",
       "        2.86250694e+00,  2.67712159e+00,  2.89819101e+00,  2.16618761e+00,\n",
       "        2.58915600e+00,  9.86852330e-01,  3.39418273e+00,  1.67463702e+00,\n",
       "        3.04654376e+00,  2.16294841e+00,  4.19334319e+00,  7.82023682e-01,\n",
       "        8.44789253e-01,  2.38705433e+00,  1.56657266e+00,  4.26912519e-01,\n",
       "        1.84567901e+00,  2.74336017e-01,  2.60744883e+00,  1.58643551e-01,\n",
       "        3.79016993e+00,  1.65432111e+00,  7.85364265e-01,  1.68936843e+00,\n",
       "        3.37677286e+00,  2.91602886e+00,  2.50059927e+00,  2.59320995e+00,\n",
       "        1.60743465e+00,  2.39459290e+00,  1.39033639e+00,  1.66438187e+00,\n",
       "        8.12977068e-01,  1.02064751e+00,  1.09929210e+00,  1.70062643e+00,\n",
       "        1.22638019e+00,  1.86817028e+00,  3.29283986e+00,  1.02760244e+00,\n",
       "        2.39166353e+00,  1.07078489e+00,  2.70374821e+00,  2.50386452e+00,\n",
       "        9.20959910e-01,  1.96015675e+00,  3.07983934e+00,  2.14039549e+00,\n",
       "        2.40956093e+00,  2.64178531e+00,  4.18239516e-01,  3.09444194e+00,\n",
       "        1.92223960e+00,  1.03118757e+00,  3.32045281e+00,  7.63462192e-01,\n",
       "        2.05178336e+00,  2.02259906e+00,  7.46586774e-01,  1.09899379e+00,\n",
       "        3.35609916e+00,  3.09962725e+00,  1.60792272e+00,  1.52464208e+00,\n",
       "        3.60361759e+00,  2.99745404e+00,  1.24885622e+00,  2.16041171e+00,\n",
       "        3.57263694e+00,  2.49845693e+00,  2.89880425e+00,  1.08922366e+00,\n",
       "        3.59676220e-01,  4.66568379e-01,  2.47195139e+00,  1.65471715e+00,\n",
       "        2.02084512e+00,  1.08775768e+00,  1.27377262e+00,  2.80859300e-01,\n",
       "       -1.94273671e-01,  2.59140201e+00,  4.70046838e+00,  2.31980436e+00,\n",
       "        1.38005977e+00,  2.34602233e+00,  1.28157299e+00,  1.21029531e+00,\n",
       "        1.20470643e+00,  1.76529592e+00,  1.39314460e+00,  1.40755202e+00,\n",
       "        1.61491417e+00,  2.09389588e+00,  2.45639462e+00,  1.95478157e+00,\n",
       "        1.68766438e+00,  2.47521079e+00, -7.63221540e-01,  2.79508900e+00,\n",
       "        2.62799909e+00,  1.95658545e+00,  1.43927613e+00,  2.19573843e+00,\n",
       "        2.16145985e+00,  3.31001496e+00,  7.66206994e-01,  1.61177847e+00,\n",
       "        1.00045848e+00,  1.35955007e-02,  1.69077881e+00,  1.40286860e+00,\n",
       "        1.29033354e+00,  9.94371829e-01,  1.93425432e+00,  3.85527131e+00,\n",
       "        1.29435805e+00,  3.81065040e+00, -1.65459975e-01,  1.97955067e+00,\n",
       "        1.27947659e+00,  1.36045585e+00,  2.52054808e+00, -6.58250270e-01,\n",
       "        1.67971287e+00,  3.25996619e+00,  6.11783407e-01,  2.83678861e+00,\n",
       "        2.58763885e+00,  1.13800236e+00,  6.60880927e-01,  2.71537947e+00,\n",
       "        8.96478476e-01,  1.51608073e+00,  2.00210330e+00,  1.15461234e+00,\n",
       "        2.48839015e+00,  3.08882299e+00,  9.91706677e-01,  7.93569256e-01,\n",
       "        1.72422601e+00,  4.85034987e-01,  3.41911531e+00,  1.93748747e+00,\n",
       "        3.26975796e+00,  8.61841547e-01,  1.98333376e+00,  2.49162491e+00,\n",
       "        3.14215749e+00,  7.82867729e-01,  2.85372363e+00,  1.22941891e+00,\n",
       "        3.04057216e+00,  2.90932733e+00,  2.84041449e+00,  7.63948849e-01,\n",
       "        2.43369660e+00, -9.53299344e-03,  1.72614581e+00,  2.89665378e+00,\n",
       "        2.65547859e+00,  1.75413711e+00,  3.03301694e+00,  8.40838921e-01,\n",
       "        2.37987634e+00,  1.29755502e+00,  7.82129381e-01,  2.19799336e+00,\n",
       "        3.46574356e+00,  5.38057701e-01,  2.35485647e+00,  2.14102282e+00,\n",
       "        2.41954842e+00, -1.04617931e-01,  1.58452582e+00,  6.59520028e-01,\n",
       "        2.12452459e+00,  1.58959165e-01,  1.41391012e+00,  1.11722627e+00,\n",
       "        7.67796051e-01,  5.72247305e-01,  1.46445488e+00,  1.88194895e+00,\n",
       "        3.09133389e+00,  2.90164276e+00,  1.90420118e+00,  3.08982693e+00,\n",
       "        1.62470663e+00,  7.61453966e-01,  1.36418198e+00,  2.08681729e+00,\n",
       "        2.08841162e+00,  2.69855669e+00, -1.14365630e+00,  3.51888753e-01,\n",
       "        2.24162228e+00,  1.46817272e+00,  3.16710216e+00,  2.08243400e+00,\n",
       "        6.74414371e-01,  2.91466457e+00,  2.14059132e+00,  2.22096146e+00,\n",
       "        2.20204551e+00,  3.01939338e+00,  3.16388143e-01,  1.82792333e+00,\n",
       "        1.04200589e+00,  3.47371545e+00,  2.45036641e+00,  3.82502675e+00,\n",
       "        1.19103765e+00,  2.26050908e+00,  3.50201286e+00,  1.42918458e+00,\n",
       "        1.94579114e+00,  2.22384544e+00,  2.02250743e+00,  1.38479197e+00,\n",
       "        2.06223376e+00,  1.60308073e+00,  2.35051153e+00,  1.37047325e+00,\n",
       "        1.63126461e+00,  2.24744701e+00,  2.08990224e+00,  4.09725006e-01,\n",
       "        1.35359929e+00,  1.65533906e+00,  2.85096237e+00,  8.37586353e-01,\n",
       "        1.77706203e+00,  2.36618290e+00,  1.99348679e+00,  2.18609917e-01,\n",
       "        1.07391838e+00,  1.66000751e+00,  1.43969980e+00,  1.68400163e+00,\n",
       "        3.29806619e+00,  4.18497993e-01,  1.85382157e+00,  3.43616526e+00,\n",
       "        2.46960305e+00,  8.41656988e-01,  3.61355621e+00,  1.27138073e+00,\n",
       "        3.72474818e+00,  2.65260444e-01,  2.23884527e+00,  1.62782780e+00,\n",
       "        8.16799462e-01,  8.86660655e-01,  1.97253881e+00,  1.33714322e-01,\n",
       "        2.50692390e+00,  2.37788987e+00,  2.51608208e+00,  8.58639332e-01,\n",
       "        1.66509449e+00,  1.51234344e+00,  1.48300553e+00,  2.18056179e+00,\n",
       "        2.66409779e+00,  1.65650078e+00,  1.15816640e+00,  2.31272914e+00,\n",
       "        2.68438518e+00,  1.29899616e+00,  2.12872008e+00,  2.69827676e+00,\n",
       "        3.59053367e-01,  8.06355837e-01,  2.18394462e+00,  3.00402929e+00,\n",
       "        2.89795936e+00,  1.43384074e+00,  3.46105358e+00,  2.82653148e+00,\n",
       "        1.79093964e+00,  1.39460767e+00,  8.49511953e-01,  1.01322319e+00,\n",
       "        1.83852342e+00,  3.10743519e+00,  8.47977625e-01,  4.17200467e-01,\n",
       "        1.93824490e+00,  2.59510333e+00,  2.45809316e+00,  1.55606439e+00,\n",
       "        1.13452001e+00,  3.58235798e+00,  1.77194327e+00,  5.04478734e-01,\n",
       "        1.50907574e+00,  2.20942058e+00,  1.51681837e+00,  8.15337743e-01,\n",
       "        1.78813516e+00,  2.44369563e+00,  3.28077943e-01,  1.70860251e-02,\n",
       "        1.47504562e+00,  1.42284768e+00,  1.10585288e+00,  1.95550274e+00,\n",
       "        2.47642904e+00,  1.68722043e+00,  3.58150816e-01,  2.95653117e-01,\n",
       "        3.01335329e+00,  3.00608579e-01,  2.29198328e+00,  1.50943158e+00,\n",
       "        8.12011613e-01,  1.43921528e+00,  1.98325605e+00,  7.18423595e-01,\n",
       "        3.88790277e-01,  2.06763525e+00,  6.47732542e-01,  3.45530560e+00,\n",
       "        8.06232955e-01,  1.20594217e+00,  8.72730349e-01,  1.02724876e+00,\n",
       "        2.47802061e+00,  2.58998886e+00,  2.21939873e+00,  1.24451664e+00,\n",
       "        1.73353444e+00,  2.28419257e+00,  2.50315039e+00,  1.25376185e+00,\n",
       "        2.02276806e+00,  1.70313714e+00,  2.43099430e+00,  3.40020805e+00,\n",
       "        3.51518826e+00,  2.54234189e+00,  1.23132997e+00,  8.08871230e-02,\n",
       "        9.66502329e-01,  1.07853823e+00,  1.26286396e+00,  1.90220217e+00,\n",
       "        4.58436637e+00,  1.58003027e+00,  2.45781350e+00,  1.85232547e+00,\n",
       "        3.26615782e+00,  2.90934684e+00,  2.60660939e+00,  1.13151862e+00,\n",
       "        2.46783937e+00,  1.94658738e+00,  6.51904610e-01,  3.99684685e+00,\n",
       "        1.81462135e+00,  2.79532017e+00,  1.48362335e+00,  9.03275581e-01,\n",
       "        8.23775318e-01,  2.75179804e+00,  2.48059717e+00,  1.06820814e+00,\n",
       "        1.10150366e+00,  1.28227516e+00,  1.57773902e+00,  1.93422955e+00,\n",
       "       -1.25152562e+00, -2.27479603e-01,  7.72513521e-01,  2.56654447e+00,\n",
       "       -1.26616346e+00,  1.40992799e+00,  2.98097401e+00,  2.10869088e+00,\n",
       "        1.56928141e+00,  1.86155589e+00,  1.40865783e+00,  1.06952430e+00,\n",
       "        3.21699074e+00,  2.67435286e-01,  2.25461391e+00,  2.65438069e+00,\n",
       "        7.59124013e-01,  9.45545668e-01,  2.24756699e+00,  1.43432694e+00,\n",
       "        1.56988756e+00,  9.51203199e-01,  1.25014285e-01, -6.15092964e-01,\n",
       "        2.55782547e+00, -9.29263310e-03,  1.14144154e+00,  3.05430030e+00,\n",
       "        1.86795875e+00,  3.06758699e+00,  2.26311701e+00,  4.14697511e+00,\n",
       "        2.02036843e-01,  1.38537227e+00,  3.05422073e+00,  1.04598722e+00,\n",
       "        6.45582773e-01,  2.65530243e+00,  1.42236370e+00,  1.88426748e+00,\n",
       "        5.59106742e-01,  2.90870117e+00,  2.56436561e+00,  2.42401113e+00,\n",
       "        1.13075125e+00,  2.00090652e+00,  2.22262625e+00,  3.30540868e+00,\n",
       "        1.61486751e+00,  1.31358120e+00, -2.48598551e-01,  1.53165659e+00,\n",
       "        6.83322536e-01, -2.72470914e-01,  3.17757579e+00,  3.88475296e+00,\n",
       "        1.28884213e+00,  2.06759923e+00,  2.05046659e+00,  7.92759698e-01,\n",
       "        1.71811454e+00,  1.79205114e+00,  2.41406974e+00,  1.59872469e+00,\n",
       "        1.75422868e+00,  1.69265777e+00,  3.50073542e-01,  3.28724108e+00,\n",
       "        1.19023190e+00,  7.19689995e-01,  2.80191448e+00,  1.39538733e+00,\n",
       "        1.98417273e-01,  2.09044103e+00,  1.91677418e+00,  1.86354169e+00,\n",
       "        2.73549764e+00,  2.34537764e+00,  5.10411149e-01,  1.38531146e+00,\n",
       "        2.04191282e+00,  2.20030634e+00,  3.46524080e+00,  1.56207930e+00,\n",
       "        7.73860571e-01,  3.04429864e+00,  2.07700143e+00,  2.83035312e+00,\n",
       "        2.17084667e+00,  1.68673585e+00,  5.55172492e-01,  1.47286137e+00,\n",
       "        2.99734088e+00,  2.46960370e+00,  4.49319277e+00,  1.61196172e+00,\n",
       "        1.91824396e+00,  4.09475949e-01,  3.46503072e+00,  2.46168684e+00,\n",
       "        8.32554340e-01,  1.41238502e+00,  7.12355186e-01,  3.09697969e+00,\n",
       "        1.89389647e+00,  1.27890844e+00,  3.80089506e-01,  2.98648325e+00,\n",
       "        2.37614509e+00,  1.01951296e+00,  4.12940258e+00,  1.27797637e+00,\n",
       "        5.10682011e-01,  3.16409327e+00,  3.22269280e+00,  5.59870256e-01,\n",
       "        2.06081514e+00,  2.81294316e+00,  1.85513701e+00,  4.12633780e+00,\n",
       "        1.70847710e-01,  3.45428752e-01,  4.14610012e-01,  1.35731887e+00,\n",
       "        2.69929182e+00,  2.91337609e+00,  2.84270648e+00,  2.97070835e+00,\n",
       "        1.24906810e+00,  2.51622596e+00,  3.94787942e+00,  2.75386247e+00,\n",
       "        1.88450057e+00,  4.23578201e-01,  1.16556247e-01,  1.94471285e+00,\n",
       "        1.39379043e+00,  1.37010829e+00,  9.92165382e-01,  6.45977799e-01,\n",
       "        1.05577084e+00,  1.77485240e-01,  8.33116776e-01,  3.24174042e+00,\n",
       "        1.03824570e-01,  3.35348885e+00,  9.40304205e-01,  6.33221931e-01,\n",
       "        7.81577031e-01,  3.61822954e+00,  8.67323206e-01,  6.21002304e-01,\n",
       "        2.62153199e+00,  6.51633045e-01,  4.10270596e+00,  2.92052931e+00,\n",
       "        2.23550674e+00,  5.63876855e-01,  3.91160242e+00,  1.85466444e+00,\n",
       "        1.99491810e+00,  1.18422806e+00,  9.11788965e-01,  4.97618134e-01,\n",
       "        5.87858549e-01,  1.42500396e+00,  2.54351959e+00,  2.46186155e+00,\n",
       "        1.14191070e+00,  2.52746564e+00,  2.07391078e+00,  2.58072276e+00,\n",
       "        3.38769455e+00,  1.96853712e-01,  1.58222162e+00,  3.43252103e+00,\n",
       "        1.01263629e+00,  1.67377352e+00,  1.67722718e+00,  4.11109140e+00,\n",
       "        2.07202858e+00,  2.20682167e+00,  3.20209916e+00,  1.79082617e+00,\n",
       "        2.12316043e+00,  2.27879337e+00,  1.25756623e+00,  1.33086734e+00,\n",
       "        1.64461486e+00,  7.91193982e-01,  6.82212022e-01,  1.91659059e+00,\n",
       "        2.01739883e+00,  1.46203342e+00,  1.03013240e+00,  2.22715510e+00,\n",
       "        3.55147738e+00,  2.61753422e+00,  2.99188509e+00,  2.82787053e+00,\n",
       "        3.49345763e-01,  3.15773524e+00,  1.73121306e+00,  1.02541036e+00,\n",
       "        9.71434550e-01,  8.25833371e-01,  3.56621199e+00,  3.09783881e+00,\n",
       "        3.53186544e+00,  5.13841978e-01,  3.63904296e+00,  3.44806388e+00,\n",
       "       -1.38458090e-01,  3.25501420e+00,  2.12034570e+00, -8.25189962e-01,\n",
       "        3.47155411e+00,  2.60844148e+00,  5.97109876e-01,  2.84781427e+00,\n",
       "        6.90074100e-01,  1.83593953e+00,  2.81635312e+00,  1.08322740e+00,\n",
       "        2.15676366e+00,  1.80600588e+00,  1.92571301e+00,  3.66722595e+00,\n",
       "        5.14107060e-01,  1.65864037e+00,  1.14727812e+00, -7.09661422e-02,\n",
       "        1.19044175e+00,  2.33821997e+00,  3.00550623e+00,  1.04073895e+00,\n",
       "        3.61406838e+00,  2.24476910e+00,  2.75403663e+00,  1.82707858e+00,\n",
       "        4.01326108e-01,  1.22261831e+00,  2.08951398e+00,  1.53278434e+00,\n",
       "        1.50398981e+00, -4.68682509e-01,  2.54813047e+00,  2.15999445e+00,\n",
       "        2.03314518e+00,  5.83599606e-01,  1.43647308e+00,  1.84331389e+00,\n",
       "        1.75671123e+00,  1.97723105e+00,  2.73330102e+00,  1.26347567e+00,\n",
       "        3.40873291e+00,  2.41918134e+00,  3.05780805e+00,  6.78652910e-01,\n",
       "        2.61340623e+00,  1.52700870e+00,  2.73512292e+00,  2.90741809e+00,\n",
       "        1.18481664e+00,  3.51788460e-01,  2.44842749e+00,  1.19222233e+00,\n",
       "        2.18851641e+00,  3.17001360e+00,  3.06384181e+00,  5.45331388e-01,\n",
       "        2.63812856e+00,  3.02438880e+00,  1.71435322e+00,  1.79544649e+00,\n",
       "        2.18993005e+00,  2.14388746e+00,  8.33895629e-01,  1.05067482e+00,\n",
       "        1.60940463e+00,  2.01050726e+00,  6.92042369e-01,  8.12335216e-01,\n",
       "       -6.23492534e-01,  8.94872493e-01,  1.78370967e+00,  1.86388082e+00,\n",
       "        2.58418269e+00, -1.51157280e-02,  1.08312057e+00,  2.32194602e+00,\n",
       "        2.96211234e+00,  1.36252669e+00,  3.86358598e-01,  2.16321305e+00,\n",
       "        1.94372799e+00,  9.26968725e-01,  2.60106788e+00,  2.65734468e+00,\n",
       "        9.61726450e-01,  3.45878879e+00,  2.57541229e+00,  3.81910168e+00,\n",
       "        1.60889637e+00,  4.40252782e-01,  1.23809510e+00,  1.24328897e+00,\n",
       "        1.62379958e+00,  1.84493558e+00,  9.78848463e-01,  1.68333494e+00,\n",
       "        1.58662469e+00,  2.90522903e+00,  1.30263755e+00,  1.17507657e+00,\n",
       "        1.62593030e+00,  2.19650453e+00,  1.84019549e+00,  6.77079875e-01,\n",
       "        7.99613329e-01,  1.32540435e+00,  2.69888776e+00,  8.93367819e-01,\n",
       "        3.53828925e+00,  1.93338986e+00,  3.26974387e+00,  2.31117851e+00,\n",
       "        2.17369336e+00,  1.53136229e+00,  9.79233208e-01,  1.17360376e+00,\n",
       "        2.51181591e+00,  1.07899996e+00,  2.95431979e+00,  1.19584075e+00,\n",
       "        1.67372048e+00,  1.02748696e+00,  2.52009616e+00,  3.38339890e+00,\n",
       "        2.31163613e+00,  6.31216469e-01,  2.34112704e+00,  6.77919842e-01,\n",
       "       -6.91640964e-01,  2.55662087e+00,  2.18500237e+00,  1.05149965e+00,\n",
       "        1.82627047e+00,  5.49109554e-01,  2.34540092e+00,  1.83970469e+00,\n",
       "        1.86494491e+00,  1.29025487e+00,  1.37971992e+00,  2.25062204e+00,\n",
       "        2.15805008e+00,  6.24125200e-01,  2.09001699e+00,  1.31796175e+00,\n",
       "        8.54651130e-01, -3.65024827e-02,  7.74543156e-01,  1.55555905e+00,\n",
       "        2.53219543e+00,  2.37283246e+00,  2.14731274e-01,  3.30541252e+00,\n",
       "        2.36077643e+00,  1.87984148e+00,  3.16936928e-01,  2.26429129e+00,\n",
       "        5.10979822e-01,  2.55292493e+00,  1.67179053e+00,  1.34786028e+00,\n",
       "        1.84026055e+00,  1.94101379e+00,  2.18354116e+00,  1.43900744e+00,\n",
       "        1.90871594e+00,  2.42064574e-01,  2.73082114e+00,  7.72470264e-01,\n",
       "       -1.94671704e-01,  3.53126137e+00,  4.83975503e-01,  1.70238503e+00,\n",
       "        1.73325899e+00,  1.58172315e+00,  4.21380410e+00,  2.52691562e+00,\n",
       "        2.41159536e+00,  1.97727107e+00,  1.22164851e+00, -2.11888790e-01,\n",
       "        4.46975955e-01,  1.29558056e+00,  2.08787699e+00,  1.20881672e+00,\n",
       "        2.41611308e+00,  2.13559252e+00,  1.10090548e+00,  6.62537304e-01,\n",
       "        4.10819647e+00,  1.52714805e+00,  2.57614605e+00,  1.59071172e-01,\n",
       "        6.85052021e-01,  1.84686435e+00,  1.86260919e+00,  6.19515391e-01,\n",
       "        1.18640199e+00, -1.24659361e-02,  2.02136009e+00,  8.31012148e-01,\n",
       "        9.57806572e-01, -4.79941270e-01,  2.36918937e+00,  2.12169255e+00,\n",
       "        1.03685330e+00,  2.46009457e+00,  2.43361537e+00,  3.93794635e+00,\n",
       "        3.25976399e+00,  1.49860960e+00,  2.83231710e+00,  2.73660275e+00,\n",
       "        1.48743468e+00,  1.47882851e+00,  2.02038686e+00,  1.12599802e+00,\n",
       "        1.87781232e+00,  1.63686156e+00,  1.78683867e+00,  1.90735701e+00,\n",
       "        1.27436490e+00,  1.93133480e+00,  2.42202179e+00,  9.62274079e-01,\n",
       "        3.07759781e+00,  1.95285170e+00,  2.62605463e+00,  5.23858879e-01,\n",
       "        1.08456772e-01,  1.13068165e+00,  1.58555424e+00,  1.11458833e+00,\n",
       "       -1.51397475e-01,  2.06916784e+00, -1.67208458e-01,  1.27971792e+00,\n",
       "        2.25936725e+00,  5.37671450e-01,  1.74207644e+00,  5.87322386e-01,\n",
       "        1.91319759e+00,  2.32418366e+00,  1.94947495e+00,  2.14858178e+00,\n",
       "        1.49415425e+00,  7.11932551e-01,  1.32617522e+00,  1.95145015e+00,\n",
       "        1.98192542e+00,  3.03387062e+00,  1.64332250e+00,  2.94507022e+00,\n",
       "        1.50820803e+00, -1.75479651e-01,  1.28608286e-02,  2.05957499e+00,\n",
       "        2.30975077e+00,  1.52621477e+00,  3.19458030e+00,  2.68053432e+00,\n",
       "        8.88448433e-01,  2.04118920e+00,  9.36009848e-01,  1.32314397e+00,\n",
       "        3.23345840e+00,  2.43068694e+00,  1.19444213e+00,  1.25916409e+00,\n",
       "        1.59150208e+00,  1.74535251e+00,  2.04409818e+00,  2.15321839e+00,\n",
       "        2.54769957e+00,  2.66062016e-01,  1.64485947e+00,  1.69014125e+00,\n",
       "        1.52445200e+00,  7.69058987e-01,  2.29198268e+00,  1.12246774e+00,\n",
       "        1.84808225e+00,  3.23205828e+00,  2.87807302e+00,  3.15370521e+00,\n",
       "        5.49925470e-01,  6.97678002e-01,  1.85508400e+00,  1.73145156e+00,\n",
       "        8.61529683e-01,  1.59768260e+00,  5.91053401e-01,  7.54124823e-01,\n",
       "        1.62775416e+00,  3.23845075e+00,  1.43609683e+00,  2.36453891e+00,\n",
       "        1.63640864e+00,  2.52084460e+00,  3.23452565e+00,  5.14483043e-01,\n",
       "        1.72549564e+00,  2.25269670e+00,  3.11343510e+00,  1.20761174e+00,\n",
       "        3.34852090e+00,  1.54647579e+00,  6.24095687e-01,  9.50943014e-01,\n",
       "        1.16457003e+00,  1.13599097e+00,  2.46949418e+00, -1.21518769e-01,\n",
       "        4.22288605e+00,  1.73153700e+00,  3.92431380e+00,  1.42399676e+00,\n",
       "        4.11350595e+00,  1.57756736e+00,  2.12650302e+00,  2.58831471e+00,\n",
       "        2.44916155e+00,  1.96061203e+00,  1.13190543e+00,  4.02166138e-01,\n",
       "        2.04775855e+00,  2.08952684e+00,  1.96416807e+00,  1.48629805e+00,\n",
       "        2.24325935e+00,  1.87953971e+00,  9.50797098e-02,  1.18411933e+00,\n",
       "        1.88493069e+00,  2.86502777e+00,  7.32375502e-01,  1.82051140e+00,\n",
       "        1.72192811e+00,  2.70882250e+00,  2.92467887e+00,  1.35554419e+00,\n",
       "        1.74557308e+00,  1.07322783e+00,  2.59913907e+00,  2.52101113e+00,\n",
       "        2.03739850e+00,  2.06622460e+00,  1.91292204e+00,  3.08832432e-01,\n",
       "        1.99282258e+00,  3.26743911e+00, -3.33777211e-01,  1.55548749e+00,\n",
       "        1.91830652e+00,  1.79195336e+00,  2.30688695e+00, -6.92725497e-01,\n",
       "        2.26201740e+00,  2.29378480e-01,  2.82891697e+00,  1.56252701e+00,\n",
       "        2.46239725e+00,  3.53224803e+00,  8.67577307e-01,  3.54406857e+00,\n",
       "        1.41649086e+00,  2.49655206e+00,  1.67572267e+00,  3.93215121e+00,\n",
       "        3.73036125e+00, -1.27004615e-01,  1.71429775e+00,  1.69483224e+00,\n",
       "        2.46148935e+00,  1.90850446e+00, -1.09512749e+00,  9.68697957e-01,\n",
       "        2.25523399e+00,  2.36875446e+00,  2.42374485e+00,  1.07782988e+00,\n",
       "        8.79488601e-01,  1.84580452e+00,  3.57990638e-01,  2.24131090e+00,\n",
       "        4.75478321e-01,  1.48997830e+00,  3.01307789e+00,  8.38084344e-01,\n",
       "        1.57575307e+00,  3.33034364e+00,  1.05789569e+00,  1.66979973e+00,\n",
       "        1.57373489e+00,  2.98311874e+00,  1.46190533e+00,  3.07073576e+00,\n",
       "        1.33242418e+00,  2.05306385e+00,  3.15650295e+00,  3.04911053e+00,\n",
       "        3.43451930e+00,  1.98646215e+00,  2.10840140e+00,  3.03170635e+00,\n",
       "        1.91741892e+00,  2.27523320e+00,  1.55340457e+00,  1.36961510e+00,\n",
       "       -6.88513194e-02,  2.79029638e+00,  2.10674614e+00,  2.49031479e+00,\n",
       "        2.56510537e+00,  1.92783382e+00,  1.79478411e+00,  1.40104151e+00,\n",
       "        2.34779363e+00,  2.61743509e-01,  1.34823897e+00,  2.96351469e+00,\n",
       "        1.65259437e+00,  1.66668354e+00,  1.44058341e+00,  2.19929300e+00,\n",
       "        1.52817632e+00,  3.83404990e+00,  1.14953929e+00,  1.37822118e+00,\n",
       "        7.89898835e-01,  1.35427190e+00,  3.17252324e+00,  1.22661940e+00,\n",
       "        1.83204668e+00,  1.73750369e+00,  3.41663100e-01,  1.59784667e+00,\n",
       "        1.00032394e-01,  1.19858364e+00,  2.93263097e+00,  1.33168583e+00,\n",
       "        3.11792909e+00,  2.04726230e+00,  1.07552737e-01,  3.26785222e+00,\n",
       "        2.18264658e+00,  2.17230980e+00,  1.37875057e+00,  1.96630235e+00,\n",
       "        1.93352914e+00,  2.39865366e+00,  1.84172397e+00,  2.34476902e+00,\n",
       "        2.00155682e-01,  8.27973145e-01,  4.43881785e-01,  3.28164988e+00,\n",
       "        1.64602602e+00,  1.31307411e+00,  1.31006737e+00,  2.59506331e+00,\n",
       "        1.23260312e+00,  2.82048256e+00,  1.34327042e+00,  8.28711288e-01,\n",
       "        2.08469259e+00,  1.06879932e+00,  1.67458067e+00,  6.50742253e-01,\n",
       "        5.81636735e-01,  3.68980351e+00,  2.10737448e+00,  1.35538933e+00,\n",
       "        4.15394353e+00,  2.51659210e-01,  2.53030080e+00,  6.81130181e-01,\n",
       "        4.00009635e-02,  2.12686558e+00,  1.82914378e+00,  1.04668536e+00,\n",
       "        2.27489898e+00,  5.05139227e+00,  2.04766531e+00,  1.44568100e+00,\n",
       "        1.36414631e+00,  4.07664247e+00,  4.99085427e-01,  2.82116047e+00,\n",
       "        1.87743487e+00,  9.89264294e-01, -2.62393309e-01,  3.88356196e+00,\n",
       "        1.81703572e+00,  2.34389913e+00,  2.05986999e+00,  5.06767243e-01,\n",
       "        2.78259628e+00,  2.50859841e+00,  9.38468132e-01,  1.64339129e+00,\n",
       "        1.32699868e+00,  1.47556090e+00,  9.51764636e-01,  9.00055066e-01,\n",
       "        2.70507658e+00,  5.80422329e-01,  1.12839498e+00,  1.40492584e+00,\n",
       "        1.63785899e-01,  2.07342782e+00,  2.45774393e+00,  1.60493533e+00,\n",
       "       -1.34295866e-01,  9.31588698e-01,  1.28738329e+00,  3.33983483e+00,\n",
       "        1.62156089e+00,  1.95069752e+00, -5.07052119e-01,  8.02922466e-01,\n",
       "        1.39152852e+00,  1.72276747e+00,  1.31281157e+00,  3.72814391e-01,\n",
       "        1.07987945e+00,  1.62051689e+00,  2.96400738e+00,  1.20838080e+00,\n",
       "        5.44002569e-01,  3.07472105e+00,  3.26731352e+00,  3.25094775e+00,\n",
       "        1.07602867e+00,  4.56178983e-01,  1.89121555e+00,  2.51391004e+00,\n",
       "        2.17238516e+00,  1.40393538e+00,  7.63418423e-01,  2.10940055e+00,\n",
       "        1.46079982e+00,  2.32704763e+00,  8.62199519e-01,  7.73739553e-01,\n",
       "        9.95082850e-01,  1.54956104e+00,  2.07023932e+00,  1.21363804e+00,\n",
       "        4.15714641e+00,  1.97509113e+00,  1.51903461e+00,  1.34562760e+00,\n",
       "       -1.99753355e-02,  2.80684174e+00,  2.55968910e+00,  2.87674521e+00,\n",
       "       -2.09391329e-01,  7.41099317e-01,  2.94135912e-01,  2.10745738e+00,\n",
       "        1.02771510e+00,  1.62126177e+00,  1.38124937e+00,  1.25222539e+00,\n",
       "        7.76749513e-01,  1.11814703e-01,  2.49179574e+00,  2.76700769e+00,\n",
       "        2.29893069e+00,  1.77296544e+00,  6.08578979e-01,  2.18374385e+00,\n",
       "        1.33928203e+00,  9.13159443e-01,  3.23970485e-01,  1.64093675e+00,\n",
       "        1.97473683e+00,  2.23210448e+00,  1.26574216e+00,  2.60791422e+00,\n",
       "        1.69168395e+00,  2.44402289e+00,  3.69668456e-01,  2.78105854e+00,\n",
       "        2.56818367e+00,  3.42373874e+00,  1.96323007e+00,  2.90960506e+00,\n",
       "        1.24571828e+00,  1.78462912e+00,  1.86671557e+00,  2.15039504e+00,\n",
       "        6.28588236e-01,  1.76793116e+00,  3.34354852e+00,  3.26471524e-01,\n",
       "        3.00954304e+00,  2.60457591e+00,  1.44204429e+00,  5.53242797e-01,\n",
       "        2.27653624e+00,  1.74409526e+00,  1.74686428e+00,  1.57781004e+00,\n",
       "        1.73925100e-01,  6.64529234e-01,  4.53456860e-01,  1.78721059e+00,\n",
       "        6.78474392e-01,  1.12156403e+00,  6.89810106e-01,  1.69193695e+00,\n",
       "        1.09515958e+00,  9.66551204e-01,  1.91018755e+00,  2.91631853e+00,\n",
       "        3.89365398e+00,  1.71425111e+00,  1.60465553e+00,  1.96300482e+00,\n",
       "        3.33514291e+00,  1.59071126e+00,  2.48004823e+00,  3.00814085e+00,\n",
       "        1.86216956e+00,  2.60766807e+00,  3.77947346e+00,  6.59579642e-01,\n",
       "        5.68159119e-01,  2.48001698e+00,  8.30880341e-01,  9.90775461e-01,\n",
       "        1.94604779e+00,  2.49440608e+00,  2.57993193e+00,  2.54514106e+00,\n",
       "        1.79393089e+00,  1.61790034e+00,  2.70275653e+00,  1.62082782e+00,\n",
       "        1.94288730e+00,  2.26057337e-01,  1.65885192e-01,  1.73828400e+00,\n",
       "        2.20155587e+00,  1.13413183e+00,  1.97569822e+00,  2.08982732e+00,\n",
       "        3.27768133e+00,  8.16763862e-01,  1.74704964e+00,  2.48259003e+00,\n",
       "        1.04447281e+00,  3.68585577e+00,  3.21284099e+00,  3.20439991e+00,\n",
       "        1.27864650e+00,  2.54238062e+00,  1.58322905e+00,  2.09785672e+00,\n",
       "        1.64670081e+00,  2.46867616e+00,  1.35728052e+00,  2.72929312e+00,\n",
       "        1.03995652e+00,  2.25009493e+00,  2.38538559e+00,  1.79453208e+00,\n",
       "        1.76824624e+00,  2.08118174e+00,  2.14777734e+00,  1.47819414e+00,\n",
       "        1.16426926e+00,  1.85584885e+00,  1.07271028e+00,  2.38785086e+00,\n",
       "        1.30661108e+00,  2.05874207e+00,  1.80119224e+00,  2.13963824e+00,\n",
       "        1.07245097e+00,  2.56070363e+00,  2.77711703e+00,  2.43631580e+00,\n",
       "        5.80297298e-01,  1.07631684e+00,  1.80315961e+00,  2.41173847e+00,\n",
       "        1.09499552e+00,  1.64772348e+00,  2.92699341e+00,  1.87228827e+00,\n",
       "        2.32790862e+00,  9.77157313e-01,  1.88377287e+00,  4.95204412e-01,\n",
       "        2.36705834e+00,  1.29543581e+00,  1.31880778e+00,  2.96948190e+00,\n",
       "        9.96667477e-01,  5.19038228e-01,  2.06035508e+00,  2.46945631e+00,\n",
       "        2.06497074e+00,  2.31899101e+00,  4.34972874e-01,  4.78733668e-01,\n",
       "        1.35692082e+00,  8.40204981e-01,  3.32892292e+00,  2.47312428e+00,\n",
       "        2.84835001e+00,  2.09403026e+00,  2.85769078e+00,  5.70794268e-01,\n",
       "       -2.41508899e-01,  2.76879126e+00,  2.36150408e+00,  1.23582417e+00,\n",
       "        2.98375077e+00,  9.59040046e-01,  2.57437679e+00,  1.40167965e+00,\n",
       "       -3.10386809e-01,  1.27891423e+00,  1.49295645e+00, -3.73284965e-01,\n",
       "        2.77372237e+00,  1.66328777e+00,  2.29452376e+00,  1.98743705e+00,\n",
       "        1.62862226e+00,  1.43954470e+00,  2.22448582e+00,  1.49314142e+00,\n",
       "       -8.57606717e-02,  2.72739959e+00,  9.10460774e-01,  3.38114181e+00,\n",
       "        1.63100777e+00,  1.48559215e+00,  1.05923167e+00,  1.57697893e+00,\n",
       "        3.64998386e+00,  2.70990961e+00,  2.08661852e+00,  1.69269168e+00,\n",
       "        3.33651255e+00,  1.50363753e+00,  2.18443930e+00, -1.55325174e-01,\n",
       "        2.54533190e+00,  3.66591518e-01,  1.78213257e+00,  1.85896559e+00,\n",
       "        3.53023175e+00,  9.19668316e-01,  1.46006417e+00,  1.43476198e+00,\n",
       "        2.25536546e+00,  2.55533917e+00,  4.21407249e+00,  1.20579854e+00,\n",
       "        3.20766138e+00,  2.89571218e+00,  8.00957380e-01,  7.79641845e-01,\n",
       "        4.11056743e-01,  1.36608860e+00,  1.18815446e+00,  1.75520087e+00,\n",
       "        1.21570690e+00,  1.34015198e+00,  4.18951749e-01,  9.71024427e-01,\n",
       "        1.19107564e+00,  4.16842038e+00,  3.35092857e+00,  2.07719707e+00,\n",
       "        2.25429979e+00,  3.12838033e+00,  1.85764604e+00,  1.14944877e+00,\n",
       "        2.14735544e+00,  1.68347812e+00,  1.24868851e+00,  2.92479553e+00,\n",
       "        4.58016740e-01,  2.44847296e+00,  2.83853339e+00,  7.81584320e-01,\n",
       "        3.16608986e+00,  2.37673518e+00,  2.21641427e+00,  2.79770983e+00,\n",
       "        1.43641847e+00,  2.35541376e+00,  3.21147046e+00,  1.14021362e+00,\n",
       "        1.86064290e+00,  1.69245130e+00,  2.64463680e+00,  3.38910687e+00,\n",
       "        4.61203654e-01, -1.86433471e-01,  1.78623108e+00,  1.89189992e+00,\n",
       "        9.30549822e-01,  2.51670390e+00,  2.41742932e+00,  2.30836687e+00,\n",
       "        2.36053000e+00,  5.49919300e-02,  1.08089592e+00,  1.02209266e+00,\n",
       "        1.92920131e+00,  1.94208019e+00,  1.85832605e+00,  2.12594897e+00,\n",
       "        1.82560572e+00, -1.09150959e+00,  3.24922246e+00,  4.34032802e+00,\n",
       "        2.71965203e+00,  1.17320818e+00,  1.26763837e+00, -4.85263225e-01,\n",
       "        1.84979577e+00,  1.31953688e+00,  1.27509419e+00,  1.60379148e+00,\n",
       "        2.47109807e+00,  1.64784252e+00,  1.29671230e+00,  2.06006009e+00,\n",
       "        7.11435968e-01,  1.86987571e+00,  7.66593717e-01,  3.04349447e-01,\n",
       "        1.39546445e+00,  4.37102180e-01,  2.03031138e+00,  2.45055000e+00,\n",
       "        1.99245854e+00, -6.94934221e-01,  1.03595097e+00, -1.43458078e-01,\n",
       "        1.45019173e+00,  1.17596461e+00,  1.30707336e+00,  3.16262220e+00,\n",
       "        1.12573708e+00,  1.22651408e+00,  1.19264470e+00,  2.58494214e+00,\n",
       "        1.12646413e-01,  1.20204222e+00,  2.09680705e+00,  1.82144506e-01,\n",
       "        2.89594912e+00,  4.02070804e+00,  1.28677677e+00,  1.77016421e+00,\n",
       "        1.45778509e+00,  2.65550252e+00,  3.11878947e+00,  1.54608607e-01,\n",
       "        2.73484527e+00,  1.83581735e+00,  1.41573055e+00, -2.83879906e-01,\n",
       "        2.35616661e+00,  1.87916765e+00,  1.47196473e+00,  1.88207000e+00,\n",
       "        1.18251814e+00,  5.26293187e-01,  1.00185802e+00,  1.46162268e+00,\n",
       "        2.16604268e+00,  2.10044505e+00,  6.97827063e-01,  2.89340413e+00,\n",
       "        7.26465789e-01,  3.50843100e+00,  8.18390166e-01,  2.81771502e+00,\n",
       "        1.41451228e+00,  1.90065321e+00,  9.72375414e-01,  2.19390994e+00,\n",
       "        1.84189034e-01,  1.45942620e+00,  2.05427275e+00,  3.48169573e-01,\n",
       "        1.65432666e+00,  2.34321855e+00,  1.21021709e+00,  1.79487230e+00,\n",
       "        1.47683838e+00,  2.08070138e+00,  8.45812458e-01,  1.17974592e+00,\n",
       "        1.82215681e+00,  1.02390281e+00,  9.50194471e-01,  3.67592874e+00,\n",
       "        1.17014945e+00,  8.84051445e-01,  1.68894378e+00,  3.17405933e+00,\n",
       "        1.31726050e+00, -2.54668591e-01,  6.20442206e-01,  2.63639743e+00,\n",
       "        1.74975239e+00,  3.43259739e+00,  3.08010906e-01,  1.23722414e+00,\n",
       "       -5.10166337e-01,  9.16304667e-01,  2.02533766e+00,  3.20337849e+00,\n",
       "        1.61938455e+00,  1.19148683e+00,  1.30380187e+00, -5.72767937e-01,\n",
       "        2.22498861e+00,  1.30793180e+00,  1.52908116e+00,  1.22338969e+00,\n",
       "        1.22616228e+00,  3.84358660e+00,  2.50414643e+00,  1.08143217e+00,\n",
       "        1.32768603e+00,  8.40204597e-01,  2.07729145e+00,  1.49729933e+00,\n",
       "        3.11943848e+00,  3.65572661e+00,  1.75419392e+00,  6.96327997e-01,\n",
       "        3.03350266e+00,  1.22913027e+00,  1.59492056e+00,  1.89326733e+00,\n",
       "        2.77417144e+00,  1.96190139e+00,  8.60743521e-01,  1.87716226e+00,\n",
       "        1.83881630e+00,  8.48890482e-01,  2.23075962e+00,  4.13442791e-01,\n",
       "       -1.01394754e+00,  1.56145791e+00,  8.78630978e-01,  1.74279808e+00,\n",
       "        1.40856294e+00,  1.76875328e+00,  1.66032043e+00,  2.28871377e+00,\n",
       "        1.90988434e+00,  1.82215491e+00,  1.75611040e+00,  1.34749664e+00,\n",
       "        2.78901948e+00,  1.42018259e+00,  2.17346503e+00,  2.62036947e+00,\n",
       "        1.54277708e+00,  8.72405085e-01,  1.64506921e+00,  3.15031433e+00,\n",
       "        3.23562710e+00,  2.55271524e+00,  1.48688094e+00,  2.95921617e+00,\n",
       "        1.65244756e+00,  1.47398028e+00,  2.33999183e+00,  2.78462757e+00,\n",
       "        2.33874457e+00,  3.07710031e+00,  7.91138252e-01,  1.88067761e+00,\n",
       "        1.62959415e+00, -3.53994148e-01,  3.23270755e+00,  1.01646247e+00,\n",
       "        1.28655058e+00,  1.37651958e+00,  2.99268943e+00,  7.15710461e-01,\n",
       "       -6.87540076e-01,  2.20786996e+00,  3.84498323e+00,  2.69069229e+00,\n",
       "        1.19431748e+00,  1.32594081e-01,  2.15562140e-01,  1.36001486e+00,\n",
       "        1.43534291e+00,  2.85902380e+00, -5.77030762e-02,  1.81122043e+00,\n",
       "        2.40325467e+00,  6.54608483e-01,  2.16018266e+00,  2.40124183e+00,\n",
       "        1.64332821e+00,  3.05274768e+00,  6.16690561e-01,  2.33563788e+00,\n",
       "        8.53292903e-01,  1.34258214e+00,  2.39219106e+00,  3.33105367e+00,\n",
       "        1.84824437e+00,  2.78422956e+00, -2.54095122e-01,  3.08895263e+00,\n",
       "        9.57618718e-01,  9.10382850e-01,  2.14503991e+00,  1.10748929e+00,\n",
       "        2.91858835e+00,  2.31555333e+00,  2.63860260e+00,  3.15528262e+00,\n",
       "        1.64962462e+00,  1.64001902e+00,  1.90036487e+00,  1.79584003e+00,\n",
       "        2.13357963e+00,  2.99815941e+00,  2.03446534e+00,  4.06888439e+00,\n",
       "        9.54467251e-01,  2.66614307e+00,  1.21677309e+00,  1.59741456e+00,\n",
       "        2.36063965e+00,  1.12623039e+00,  2.77697997e+00,  1.92357648e+00,\n",
       "        1.74862264e+00,  1.46066718e+00,  1.41638737e+00,  1.84179453e+00,\n",
       "        2.59656627e+00,  1.31901250e+00,  1.04278177e+00,  1.66348712e+00,\n",
       "        2.29434384e+00,  2.54544091e+00,  3.71074850e+00,  2.81244633e+00,\n",
       "        1.60846164e+00,  1.58704221e+00,  3.92836446e+00,  1.02752543e+00,\n",
       "       -5.22867487e-01,  2.55437376e+00,  2.77026531e+00,  6.64883243e-01,\n",
       "        9.64782696e-01,  3.00770466e+00,  2.94739931e-01,  1.98996792e+00,\n",
       "       -2.93241290e-01,  8.94492519e-01,  2.26011647e+00,  1.26721049e+00,\n",
       "        1.60619352e+00,  1.85800802e+00,  3.03832823e+00,  1.12153567e+00,\n",
       "        2.17593027e+00,  2.63049912e-01,  3.07169374e+00,  2.62373042e+00,\n",
       "        1.33146768e+00, -1.87107930e-01,  2.70189358e+00,  3.41844326e+00,\n",
       "        2.24392020e+00,  1.76289254e+00,  2.70272998e+00,  2.60492941e+00,\n",
       "        4.22127191e-01,  1.38858951e+00,  3.03830820e+00, -2.99359495e-01,\n",
       "        1.29342313e+00,  1.28979939e+00,  3.32709041e+00,  1.79180194e-01,\n",
       "        1.59811020e+00,  2.54189312e+00,  6.89453106e-01,  2.61482123e+00,\n",
       "        2.22149316e+00,  3.59400631e+00,  1.39316928e+00,  6.79263597e-01,\n",
       "        1.44595672e+00,  2.68276254e-01,  1.51722110e+00,  3.27618417e+00,\n",
       "        1.31388129e+00,  1.23451699e+00,  1.38301416e+00,  1.52484087e+00,\n",
       "       -4.06726133e-01,  1.23748958e+00,  2.68111115e+00,  2.72773018e+00,\n",
       "        2.61247385e+00,  3.46360211e-01,  1.01265633e+00,  1.99636625e+00,\n",
       "        3.09527695e+00,  3.09627875e+00,  2.37709599e+00,  9.76565016e-01,\n",
       "        1.81820289e+00,  3.60191254e+00,  1.13717939e+00,  1.48290681e+00,\n",
       "        5.83338397e-01,  2.58175341e+00,  8.93891692e-01,  2.34250673e+00,\n",
       "        2.02519432e+00,  1.03795986e+00,  1.52341275e+00,  1.95317676e+00,\n",
       "        4.47649841e-01,  1.58594387e+00,  2.20543051e+00,  1.23635111e+00,\n",
       "       -7.31412756e-01,  2.15408480e+00,  1.52868489e+00,  2.13426381e+00,\n",
       "        1.55309946e+00,  3.50982034e+00,  1.73389921e+00,  1.72798811e+00,\n",
       "        1.87611333e+00,  9.06824322e-01,  2.53349766e+00,  2.43959203e+00,\n",
       "        2.97202839e+00,  2.48074338e+00,  1.57380969e+00,  1.48727262e+00,\n",
       "        3.49217819e+00,  1.55717586e+00,  3.12822353e+00,  1.45755015e+00,\n",
       "        2.69062840e+00,  1.71605243e+00,  1.25248846e+00,  6.63704911e-01,\n",
       "        9.30216331e-01,  2.42318161e+00,  2.63905412e-01,  1.91457628e+00,\n",
       "        1.26423757e+00,  3.32597848e+00,  1.36820245e+00,  5.23727935e-02,\n",
       "        7.40190196e-01,  9.84138352e-01,  1.68238357e+00,  2.17429272e+00,\n",
       "        2.26059268e+00,  6.87613441e-01, -3.46873668e-01,  2.20984657e+00,\n",
       "        2.09536264e+00,  8.44651607e-01,  2.56712952e+00,  1.39488371e+00,\n",
       "        1.72486081e+00,  1.76988604e+00,  7.62925681e-01,  3.36570039e+00,\n",
       "        2.52031878e+00,  2.20882539e+00,  1.02360876e+00,  8.11827169e-01,\n",
       "        1.55742329e+00,  1.13414654e+00,  9.05227648e-01,  2.63579018e+00,\n",
       "        2.23594602e+00,  3.74495601e+00,  1.42037082e+00,  1.36461436e+00,\n",
       "        9.80043118e-01,  6.14467051e-01,  1.43977549e+00,  7.69731276e-01,\n",
       "        2.65146032e+00,  3.07886480e+00,  2.10642542e+00,  1.02107255e+00,\n",
       "        3.36981686e+00,  3.45505103e+00,  3.06811577e+00,  3.23631851e+00,\n",
       "       -2.10609929e-01,  3.17373470e+00,  6.35261156e-01, -3.31365179e-02,\n",
       "        1.79161378e+00,  1.84429840e+00,  1.42594229e+00,  1.38668125e+00,\n",
       "        1.63977214e+00,  3.00314367e+00,  5.13431343e-01,  5.02737514e+00,\n",
       "        2.45958026e+00,  5.27403421e-01,  1.08905251e+00,  4.53177246e-01,\n",
       "        1.08709188e+00,  1.49507538e+00,  2.25142383e+00,  2.58445347e+00,\n",
       "       -1.62155332e-01,  2.93238201e+00,  2.83329150e+00,  1.66328151e+00,\n",
       "        2.26174551e+00,  1.30060033e+00,  3.15504046e+00,  2.88174947e+00,\n",
       "        5.76834625e-01,  3.08472438e+00,  2.23767934e+00,  1.02626365e+00,\n",
       "        2.86555250e+00,  2.86286233e-01,  2.27633409e+00,  1.43105757e+00,\n",
       "        3.93484131e-01,  2.82397281e+00,  1.42977243e+00,  6.68791476e-01,\n",
       "        1.48389514e+00,  7.12258621e-01,  9.51596071e-01,  3.18880896e+00,\n",
       "        1.87878944e+00,  8.93640704e-01,  1.47476597e+00,  1.90631121e+00,\n",
       "        2.47028509e+00,  2.28207766e+00,  3.11196498e-03,  1.01183514e+00,\n",
       "       -1.69656810e+00,  1.42064187e+00,  3.04845389e+00,  2.88278407e+00,\n",
       "        1.96851169e+00, -2.73791842e-01,  2.00496970e-01,  1.72649977e+00,\n",
       "        6.27388244e-01,  6.51737412e-01,  8.89734886e-01,  5.98685219e-01,\n",
       "        1.32391316e+00,  3.19398454e+00,  2.22359812e+00,  1.61041561e+00,\n",
       "        1.52718851e+00,  1.27415484e+00,  8.28592516e-01,  1.27873312e+00,\n",
       "        2.59464051e+00,  1.28838563e+00,  1.33573210e+00,  2.20027530e+00,\n",
       "        2.16119922e+00,  2.83338859e+00, -2.30178060e-01,  1.40289815e+00,\n",
       "        1.07777871e+00,  2.57354919e+00,  1.00921377e+00,  1.69687532e+00,\n",
       "        1.29694159e+00,  2.10491938e+00,  1.19299247e+00,  1.50665061e+00,\n",
       "        3.35675271e+00,  8.63758323e-01,  1.77619086e+00,  2.63179453e+00,\n",
       "        1.28598181e+00,  1.26071022e+00,  8.22931312e-01,  1.77760520e+00,\n",
       "        2.49456157e+00,  1.38136516e+00,  1.32729602e+00,  3.03784088e+00,\n",
       "        3.02883425e+00,  1.49537853e+00,  3.26008387e+00,  1.81096880e+00,\n",
       "        1.93024564e+00,  1.84432470e+00,  2.64768454e+00,  1.84354247e+00,\n",
       "        2.16684476e+00,  1.19227856e+00,  1.80744329e+00,  2.54590107e-01,\n",
       "        6.87827503e-01,  3.48560524e+00,  3.31103435e-01,  9.94360023e-01,\n",
       "        3.09140839e-01,  3.24176430e+00,  2.82478281e+00,  1.43757935e+00,\n",
       "        3.68159146e+00,  3.29612276e+00,  5.94482459e-01,  2.71125117e+00,\n",
       "        6.19659553e-01,  5.44774736e-01,  1.79444907e+00,  1.71159867e+00,\n",
       "        4.71439209e-01,  9.42957911e-01,  1.33779639e+00,  2.25261041e+00,\n",
       "        1.78873893e+00, -4.17520009e-01,  2.73499388e+00,  1.57222072e+00,\n",
       "       -1.91648614e-01,  2.60522384e+00,  1.62602025e+00,  2.24209841e+00,\n",
       "        8.71903351e-01,  2.23912649e+00,  1.28874047e+00,  1.47037551e+00,\n",
       "        2.08403561e+00,  1.97722505e+00,  2.26174277e+00,  2.16228588e+00,\n",
       "        8.92405702e-01,  2.51414198e+00,  1.74415977e+00,  9.34021338e-01,\n",
       "        2.33938351e-01,  1.23786351e+00,  4.72312662e-01,  1.03056148e+00,\n",
       "        3.57010333e+00,  1.99716111e+00,  2.85161528e+00,  5.98669510e-01,\n",
       "        2.67594940e+00,  1.43481654e+00,  2.93455154e+00,  1.81550825e+00,\n",
       "        2.29186411e+00,  1.47032999e+00, -5.28521534e-01,  1.93314565e+00,\n",
       "        2.08270233e+00,  1.00756707e+00,  2.29273512e+00,  2.04564839e+00,\n",
       "        1.91060248e+00,  2.23918670e+00,  1.05586939e+00,  1.48260159e+00,\n",
       "        4.25564469e-01,  1.76120972e+00,  1.58269546e+00,  8.85145513e-01,\n",
       "        1.66012601e+00,  1.50884548e+00,  2.99203650e+00,  2.11173896e+00,\n",
       "        2.93082237e+00, -1.66937241e+00,  1.77358228e-02,  2.47474225e+00,\n",
       "        1.65611978e+00,  1.44533444e+00,  6.08536580e-01,  1.51946682e+00,\n",
       "        1.37594976e+00,  1.57650774e+00,  1.95761236e+00,  2.72185725e+00,\n",
       "        2.01385329e+00,  1.97233112e+00,  3.43945047e+00,  2.01065748e+00,\n",
       "        6.13237514e-01,  3.66351039e+00,  6.79258474e-01,  3.08205211e+00,\n",
       "        2.18238034e+00,  1.51524608e+00,  9.67331210e-01,  2.67589191e+00,\n",
       "        1.47096514e+00,  2.83614256e+00,  1.58455239e+00,  6.30324974e-01,\n",
       "        2.69431761e+00,  9.85104279e-01,  3.19240822e+00,  1.74808137e+00,\n",
       "        5.63932678e-01,  2.56204662e+00,  1.11397971e+00,  3.31880969e+00,\n",
       "        2.09445587e+00,  3.57027991e+00,  2.68804859e+00,  1.98023108e+00,\n",
       "        5.74639731e-01,  2.10830032e+00,  1.11933720e+00,  3.36185761e+00,\n",
       "        4.84577047e-02,  3.37048942e+00,  1.96033135e+00,  1.03512371e+00,\n",
       "        9.90892010e-01,  2.20293192e+00,  8.41524266e-01,  3.89229231e-01,\n",
       "        2.11884939e+00,  2.88123873e+00,  1.49113092e+00,  1.07173324e-01,\n",
       "        2.91668322e+00,  3.45213949e+00,  3.52155797e-01,  2.39903210e+00,\n",
       "        1.14836416e+00,  4.79248915e-01,  3.30702842e+00,  3.52383378e+00,\n",
       "        2.18216837e+00,  9.59906619e-01,  3.06844954e-01,  1.51419167e+00,\n",
       "        1.29967837e+00,  1.38231253e+00,  2.14996399e+00,  5.04685383e+00,\n",
       "       -1.30618492e-01,  2.39692379e+00,  1.67692924e+00,  7.43962240e-01,\n",
       "        1.41131200e+00,  2.76624648e+00,  3.30961877e-01,  4.12328322e+00,\n",
       "        1.86834972e+00,  2.04873186e+00,  1.39157359e+00,  1.32764397e+00,\n",
       "        2.41504371e+00,  9.07816619e-02,  3.34740706e+00,  8.77149207e-01,\n",
       "        2.67286951e+00,  3.20398250e+00,  1.72368980e+00,  5.62519272e-01,\n",
       "        1.77021693e+00,  1.07794079e-01, -3.67074344e-01,  2.43299220e+00,\n",
       "        1.16223101e+00,  1.69706382e+00,  1.67157863e+00,  1.61001328e+00,\n",
       "        6.90712071e-01,  1.25470829e+00,  3.20874255e+00,  2.76153054e+00,\n",
       "        1.08539299e+00,  1.90953297e+00,  9.67000875e-02,  2.68437864e+00,\n",
       "        1.02659898e+00,  1.40997174e+00,  3.75282998e+00,  3.01410138e+00,\n",
       "        2.26166406e+00,  2.32442194e+00,  2.30231655e+00,  3.60426553e+00,\n",
       "        3.01573778e+00,  3.97623753e-01,  3.96628334e+00,  1.87162284e+00,\n",
       "        7.94788404e-01,  2.01638226e+00,  1.39337954e+00,  1.49106289e+00,\n",
       "        1.88736737e+00,  1.90944169e+00,  1.59980697e+00, -2.56069192e-01,\n",
       "        3.17436166e+00,  2.72955728e+00,  3.45262752e+00,  1.32099011e+00,\n",
       "        1.49720412e+00,  2.46812626e+00,  1.81689821e+00,  1.14636691e+00,\n",
       "        3.15495267e+00,  7.93748552e-01,  1.59707102e+00,  3.39583896e-01,\n",
       "        4.91377373e-01,  2.83610572e+00,  2.48506295e-01,  2.25508142e+00,\n",
       "        1.85384377e+00,  1.04000908e+00,  1.95618878e+00,  8.53118390e-01,\n",
       "        2.07537887e+00,  1.56525653e+00,  6.35522550e-01,  2.24783089e+00,\n",
       "        8.74577990e-01,  2.93874406e+00,  1.73807746e+00,  2.84633257e+00,\n",
       "        1.72999776e+00,  1.54211072e+00,  1.36845652e+00,  1.56767637e+00,\n",
       "        2.81864879e+00,  1.18723216e+00,  1.56672230e+00,  1.87727887e+00,\n",
       "        3.38546465e+00,  1.14872590e+00,  1.00439114e+00,  2.93713411e+00,\n",
       "        1.61455408e+00,  1.97483996e+00,  1.73193466e+00,  9.11357811e-01,\n",
       "       -7.58351872e-01,  6.82175848e-01,  3.42227610e+00,  2.86399697e+00,\n",
       "        5.35839205e-01,  2.70331552e+00,  1.48866441e+00,  1.89621881e+00,\n",
       "        1.22051222e+00,  1.92114943e+00,  1.81777240e+00,  2.51906024e+00,\n",
       "        1.22396591e+00,  1.19770706e+00,  1.85212578e+00,  5.41896024e-01,\n",
       "        1.23447751e+00,  1.57730649e+00,  2.10532933e+00, -1.04128858e-01,\n",
       "        2.32916612e+00,  1.67923766e+00,  7.49359635e-01,  2.97171063e+00,\n",
       "        7.97489235e-01,  1.39955923e+00,  4.05370263e+00,  2.58851504e+00,\n",
       "        3.11109240e+00,  6.92922514e-01,  8.00291556e-01,  2.01194440e+00,\n",
       "        1.47576401e+00,  2.67682344e+00,  1.98567156e+00, -7.23564949e-01,\n",
       "        2.66583251e+00,  2.25832588e+00,  1.04376777e+00,  1.37838614e+00,\n",
       "        2.67741198e+00,  1.38416656e+00,  2.30276066e+00,  1.24265323e+00,\n",
       "        1.69725139e+00,  9.19877397e-01,  1.38275479e+00,  1.98974395e+00,\n",
       "        2.17186612e+00,  2.17489265e+00,  6.43388135e-01,  1.70591767e+00,\n",
       "        1.04844069e+00,  1.28762582e+00,  1.20212830e+00,  2.28662581e+00,\n",
       "        2.54331467e-01,  2.01046458e-01,  2.11319119e+00,  1.57083005e+00,\n",
       "        4.10400999e-01,  2.72806838e+00,  1.05287451e+00,  3.55201522e+00,\n",
       "        1.69505315e+00,  1.51206378e+00,  1.05807773e+00,  1.97482468e+00,\n",
       "        1.47290989e+00,  1.50634754e+00,  2.01199785e-01,  3.49155065e-01,\n",
       "        1.82820686e+00,  1.17816858e+00,  2.27885423e+00,  1.74337372e+00,\n",
       "        5.49539698e-01,  1.06938856e+00,  1.86483214e+00,  1.67158130e+00,\n",
       "        1.56171630e+00,  1.60304132e+00,  1.79099510e+00,  8.40766679e-01,\n",
       "        2.67149029e+00,  1.79725962e-01,  7.11334437e-01,  1.49590044e+00,\n",
       "        4.26437785e+00,  2.46307117e+00,  8.10435345e-01,  1.30565113e+00,\n",
       "        3.34713333e+00,  3.54662395e+00,  3.14989689e+00,  5.69705379e-01,\n",
       "        1.28670526e+00, -1.70430657e-01,  1.69472419e+00,  1.97625219e+00,\n",
       "        1.60497236e+00,  1.25922195e+00,  2.60879540e-01,  1.82407525e+00,\n",
       "        7.71911255e-01,  1.92568481e+00,  2.26820242e+00,  9.12928367e-01,\n",
       "        2.34798919e+00,  1.79494056e+00,  1.92836581e+00,  1.75200712e+00,\n",
       "        3.26559732e+00,  1.72110497e+00,  2.26585856e+00,  3.45923457e+00,\n",
       "        1.04201040e+00,  1.90493126e+00,  3.95485191e+00,  6.52166385e-01,\n",
       "        2.84131244e+00,  4.54264553e-01, -6.50530635e-01,  1.18590058e+00,\n",
       "        1.12915027e+00,  2.56759694e+00,  1.44305263e+00,  1.45736885e+00,\n",
       "        3.63648958e-01,  1.35818809e+00,  9.93055292e-01,  5.87518856e-01,\n",
       "        1.03062025e+00,  1.76641707e+00,  1.94306868e+00,  4.16907103e+00,\n",
       "        1.46410343e+00,  1.53607362e+00,  2.03834141e+00,  1.71702432e+00,\n",
       "        3.04622588e+00,  2.45515021e+00,  1.68388844e+00, -5.61792802e-02,\n",
       "        1.52440855e+00,  1.51425014e+00,  9.14420044e-01,  1.55925913e+00,\n",
       "        2.24895248e+00,  2.81674893e+00,  2.20243426e+00,  5.54056333e-01,\n",
       "        1.67553010e+00,  2.39036566e+00,  1.62209672e+00,  1.54715382e+00,\n",
       "        1.67770998e+00,  6.30777975e-02,  3.32094634e+00,  2.52467820e+00,\n",
       "        2.50842111e+00,  6.55511444e-01,  1.15864387e+00,  1.34111223e+00,\n",
       "        2.85562742e-01,  1.34951773e+00,  3.68185113e+00,  4.19848002e-02,\n",
       "        1.45531077e+00,  2.14709822e+00,  2.11985946e+00,  3.12350680e+00,\n",
       "        2.19900574e+00,  4.02513528e+00,  4.67682702e-01,  1.47003550e+00,\n",
       "        1.16340249e+00,  1.45484485e+00,  1.60312708e+00,  5.10444885e+00,\n",
       "        2.53662008e+00,  1.40067112e+00,  2.09189898e+00,  5.62904641e-01,\n",
       "        2.19521950e+00,  1.45515885e+00,  9.44705289e-01,  7.04478797e-01,\n",
       "        2.73714627e+00, -4.91422225e-01,  1.23864646e+00,  1.05411423e+00,\n",
       "        1.75558149e+00,  8.78723420e-01,  9.91879931e-01,  2.28048663e+00,\n",
       "        1.07092627e+00,  1.89425996e+00,  3.25700573e+00,  1.30808470e+00,\n",
       "        2.54911150e+00,  5.28826735e-01,  3.90279538e-01,  5.95096417e-01,\n",
       "        3.27333073e+00,  1.84764598e+00, -5.30253301e-01,  8.51236578e-01,\n",
       "        8.49033189e-01,  2.54547986e+00,  3.38337829e+00,  8.26583173e-01,\n",
       "        1.56373818e+00,  2.47511255e+00,  2.61361679e+00,  1.36162678e+00,\n",
       "        2.25133247e+00,  2.44113993e+00,  3.27151466e+00,  2.15124743e+00,\n",
       "       -7.78573343e-01,  1.30052977e+00,  1.27421375e+00,  4.75144497e-01,\n",
       "        2.07871557e+00,  2.78131618e+00,  2.06552595e+00,  9.05557267e-01,\n",
       "        9.79534722e-01,  1.52600151e+00,  2.08940002e+00,  1.72914091e+00,\n",
       "        1.94085933e+00,  1.51124187e+00,  1.51441090e+00,  1.87394157e+00,\n",
       "        8.05153578e-01,  2.30049740e+00,  3.67776450e-01,  2.98499839e+00,\n",
       "        2.77418908e+00,  3.10901514e+00,  2.63446477e+00,  1.40845440e+00,\n",
       "        1.13633505e+00,  9.23292017e-01,  9.39676263e-01,  4.69065954e-01,\n",
       "        1.63895447e+00,  3.11206912e+00,  2.03140039e+00,  3.98581713e-01,\n",
       "        1.22083383e+00, -7.53884089e-01,  1.57693317e+00,  1.22173582e+00,\n",
       "        1.55556736e+00,  1.76480773e+00,  9.16300094e-01,  1.12026301e+00,\n",
       "        1.35464601e+00,  5.91975550e-01,  2.36949069e+00,  2.31682557e+00,\n",
       "        3.97679400e-01,  1.77175469e+00,  4.73237310e+00,  1.48630621e+00,\n",
       "        8.47721112e-01,  3.82795041e+00,  2.44831308e+00,  1.89603258e+00,\n",
       "        1.50329639e+00,  2.19686904e+00,  1.90674717e+00,  1.23998020e+00,\n",
       "       -1.36894111e-01,  7.24834283e-01,  1.40474386e+00,  2.41288905e+00,\n",
       "        3.56814524e+00,  2.05843253e+00,  2.46289001e+00,  6.48878397e-01,\n",
       "        2.50079677e+00,  2.24722864e+00,  1.94031899e+00,  2.67221014e+00,\n",
       "        2.55580526e+00,  3.25161250e+00,  1.45074120e+00,  1.79746473e+00,\n",
       "       -1.10813108e-01,  5.56371125e-01,  3.05553838e-01,  3.36072882e+00,\n",
       "        2.34801841e+00, -3.16118985e-01,  1.03775927e+00,  2.05390053e+00,\n",
       "        1.46956858e+00,  2.58689369e+00,  1.02382437e+00,  7.74412328e-01,\n",
       "        1.31630009e+00,  2.05872068e+00,  1.19478711e+00,  3.32521151e+00,\n",
       "        1.06212618e+00,  2.57603492e+00,  2.91915009e+00,  2.99058072e+00,\n",
       "        2.62528323e+00,  1.68427069e+00,  8.99679646e-01,  2.57101196e+00,\n",
       "        2.06150610e+00,  1.09741892e+00,  1.45270227e+00,  2.05311217e+00,\n",
       "       -9.67263590e-03,  2.30830750e+00,  2.73825624e+00,  3.91491468e+00,\n",
       "        1.17577292e+00,  2.95752517e+00,  2.50923594e+00,  2.73048827e+00,\n",
       "        1.23589657e+00,  2.86803717e+00,  2.09597824e+00, -2.45941309e-01,\n",
       "        2.10248255e+00,  2.43357915e+00,  1.62539485e+00,  4.30247522e-01,\n",
       "        1.91037992e+00,  7.00534941e-01, -1.42495106e-02,  2.95780244e+00,\n",
       "        4.22621410e-01,  2.54242467e+00,  2.04272590e+00,  3.09007923e+00,\n",
       "        1.42219837e+00,  2.31978241e+00,  9.71387467e-01,  2.76599665e+00,\n",
       "        3.61060984e+00,  2.34272686e+00,  2.58321398e+00,  2.44978799e+00,\n",
       "        1.70872067e+00,  2.32014782e+00,  6.19994016e-01,  1.63348146e-01,\n",
       "        2.23795776e+00,  6.65115234e-01,  7.36780785e-01,  1.74677138e+00,\n",
       "        3.45712181e+00,  3.87256467e-01,  5.85696576e-01,  3.77069802e+00,\n",
       "        2.51489457e+00,  1.25185338e+00,  1.48718461e+00,  3.42963362e+00,\n",
       "        2.21503852e+00,  1.83213658e+00,  2.66957761e+00,  1.52714445e+00,\n",
       "        2.66703952e+00,  2.21764552e+00,  2.45272028e+00,  3.04846589e+00,\n",
       "        2.51724317e+00,  1.42396492e+00,  1.19205943e+00,  2.28314971e+00,\n",
       "        3.08495631e+00, -8.84690031e-01,  1.26955835e+00,  5.63124247e-01,\n",
       "        1.64604294e+00,  9.44964606e-01,  4.15336751e-01,  1.68547850e+00,\n",
       "        2.40778108e+00,  3.99168336e-01,  1.84243897e+00,  1.91845321e+00,\n",
       "        1.75781878e+00,  4.66194362e-01,  1.43194226e+00,  1.69711561e+00,\n",
       "        7.06629333e-01,  1.31214037e+00,  3.99358763e+00,  5.50626642e-01,\n",
       "        6.94800168e-01,  1.66288419e+00,  2.22935450e+00,  4.58012897e-01,\n",
       "        2.48440661e+00,  2.92422807e+00,  8.63245766e-01,  3.27896824e+00,\n",
       "        1.40152603e+00,  1.64235227e+00,  1.34701342e+00,  8.15784653e-01,\n",
       "        1.57016109e+00,  2.09169376e+00,  2.31881120e+00,  3.50601405e-01,\n",
       "        2.17531065e+00,  1.07605709e+00,  2.06604063e+00,  2.65389934e+00,\n",
       "        1.58432403e+00,  1.16101372e+00,  2.96435022e+00,  3.05340949e+00,\n",
       "        1.17354883e+00,  1.70619526e+00,  1.66883952e+00,  7.23045749e-01,\n",
       "        2.91425666e+00,  7.81699838e-01,  1.09707472e+00,  4.86733578e-01,\n",
       "        2.15133184e+00,  1.65369241e+00,  1.52822776e+00,  1.66535441e+00,\n",
       "        2.57543574e+00, -1.04707541e-01,  8.84018218e-01,  1.60338481e+00,\n",
       "        2.31286715e+00,  1.21230862e+00,  1.62479279e+00,  2.16717417e+00,\n",
       "        2.24867873e+00,  1.84049024e+00,  1.66272611e+00, -5.20271556e-01,\n",
       "        3.43251768e+00,  7.07188131e-01,  2.10892969e+00,  2.34020771e+00,\n",
       "        2.02662948e+00,  1.65036409e+00,  2.84542057e+00,  1.94121032e+00,\n",
       "        1.44409291e+00,  7.20358378e-01,  3.35990662e+00,  1.91379842e+00,\n",
       "        3.90673179e+00,  3.29667560e+00,  2.36658497e+00,  2.11622873e+00,\n",
       "        1.68666908e+00,  2.27647426e+00,  2.35738385e+00,  1.73336699e+00,\n",
       "        1.97235947e+00,  1.78248286e-01,  5.74575695e-01,  1.45106201e+00,\n",
       "        2.04004004e+00,  2.40078344e+00,  2.43136771e+00,  1.66959730e+00,\n",
       "        3.32419793e+00,  2.10530258e+00,  2.53023907e+00,  1.55216590e+00,\n",
       "        2.81922421e+00,  2.61968356e+00,  2.80376000e+00,  1.76831361e+00,\n",
       "       -8.95555410e-02,  1.09278461e+00,  1.38888306e+00,  2.38335984e+00,\n",
       "        1.46993824e+00,  8.37519108e-01,  3.02960049e+00,  2.07526481e+00,\n",
       "        2.31549130e+00,  1.80920913e+00,  1.85519494e+00,  8.62237546e-02,\n",
       "        1.09901152e+00,  2.86230090e-01,  5.51841254e-01,  1.58443430e+00,\n",
       "        1.95297444e+00,  1.49694976e+00,  5.63857246e-01,  1.10970708e+00,\n",
       "        8.33584046e-01,  1.33639227e+00,  2.65852182e+00,  6.85923906e-01,\n",
       "        2.78203065e+00,  8.39701493e-01,  1.45184000e+00,  1.53880916e+00,\n",
       "        1.50834268e+00,  2.42872799e+00,  1.19870897e+00,  1.92426027e+00,\n",
       "        1.12719054e+00,  1.73197496e+00,  1.94550668e+00,  2.00869648e+00,\n",
       "        1.70226972e+00,  3.80558818e+00,  9.51846310e-01,  1.88590709e+00,\n",
       "        1.89169880e+00,  1.37752005e+00,  1.42484050e+00,  1.86743614e+00,\n",
       "        2.30909778e+00,  2.21682105e+00,  2.10946327e-01,  2.84786165e-01,\n",
       "       -1.08990341e-03,  1.05712953e+00,  7.88110398e-01,  1.43020250e+00,\n",
       "        2.87472697e+00,  7.34843842e-01,  8.74630247e-01,  3.01052421e-02,\n",
       "        1.63487383e+00,  9.24869485e-01,  1.06792656e+00,  3.76500589e+00,\n",
       "        4.00264633e-01,  1.41780803e+00,  1.47949557e+00,  2.20407047e+00,\n",
       "        2.06153638e+00,  2.15877726e+00,  1.16574159e+00,  2.52281740e+00,\n",
       "        2.61835553e+00,  1.50608259e+00,  1.08633420e-01,  1.36819502e+00,\n",
       "        9.60986871e-01,  8.34205950e-01,  6.50072897e-01,  2.69515942e+00,\n",
       "        2.06423025e-01,  1.18503258e+00,  1.78102853e+00,  1.45256890e+00,\n",
       "        2.54556707e+00,  1.69151992e+00,  3.17585368e+00,  2.57351548e+00,\n",
       "        1.94879031e-01,  2.07902305e+00,  2.36409992e+00, -7.41382151e-01,\n",
       "        2.35175328e+00,  8.57459218e-01,  6.37756924e-01, -7.65376035e-01,\n",
       "        2.46166559e+00,  2.90287806e+00,  1.96272416e+00,  1.98722926e+00,\n",
       "        1.42116747e-01,  1.87022514e+00,  1.12555273e+00,  1.17496944e+00,\n",
       "        1.29106817e+00,  7.46612493e-02,  3.05955313e+00,  2.08199656e+00,\n",
       "        1.31279299e+00,  2.09037689e+00,  1.43989648e+00,  9.54448474e-02,\n",
       "        1.71497734e+00,  2.38539525e+00,  6.57119425e-01,  1.60526857e+00,\n",
       "        7.20454322e-01,  1.88557023e+00,  1.86147245e+00,  1.92465033e+00,\n",
       "        2.45418396e+00,  2.03300320e+00,  1.72533815e+00,  1.46068693e+00,\n",
       "        3.06716925e+00,  1.42020358e+00,  1.11153573e+00,  2.49562933e+00,\n",
       "       -8.46077487e-01,  1.40042191e+00,  1.43421290e+00,  2.32226153e+00,\n",
       "        9.32532383e-01,  2.87870883e+00,  2.72894803e+00,  4.52543689e-01,\n",
       "        6.95569481e-01,  1.98365036e+00,  1.98291922e+00,  2.48990984e+00,\n",
       "        2.38999121e+00,  5.38634453e-01,  8.89621797e-01,  3.08779358e+00,\n",
       "        2.16443884e+00,  1.25814534e+00,  2.17530376e+00,  8.36141951e-01,\n",
       "        3.38267706e+00,  1.16967136e+00,  1.30243204e+00,  2.18512432e+00,\n",
       "        3.05438742e+00,  9.04458361e-01,  2.09012197e+00,  2.02759875e+00,\n",
       "        4.11520151e-01,  1.99337685e+00,  2.16409422e+00,  2.11084305e+00,\n",
       "        1.47614718e+00,  1.71668828e+00,  1.79607276e+00,  2.20948186e+00,\n",
       "        2.14652561e+00,  1.92982582e+00,  3.41183552e-01,  2.84652514e+00,\n",
       "        1.47263259e+00,  1.60290930e+00, -4.94120547e-01,  2.30615239e+00,\n",
       "        2.02810561e+00,  2.18176022e-01,  1.36161303e+00, -6.73266068e-01,\n",
       "        2.92310184e+00,  1.17197429e+00,  8.98280693e-01,  2.84187061e+00,\n",
       "        2.56196221e+00,  2.77588614e+00,  2.31103987e+00,  1.94447108e+00,\n",
       "        2.91865220e+00,  2.34792108e+00,  3.33398864e-01,  7.75230342e-01,\n",
       "        1.10899883e+00,  3.19699001e+00,  2.41025375e+00,  2.10746208e+00,\n",
       "        2.06305968e+00,  2.88277683e+00,  2.48958389e+00,  2.13475828e+00,\n",
       "        2.54055883e+00,  1.96929624e+00,  1.18423597e+00,  1.63029751e+00,\n",
       "        2.65860465e+00,  2.61005297e+00,  1.58662419e+00,  1.44210699e+00,\n",
       "        2.58492367e+00,  5.46091327e-01,  1.57338866e+00,  2.76377667e+00,\n",
       "        7.35038282e-01,  3.27001040e+00,  4.07156986e-01,  2.20860380e+00,\n",
       "        9.95861279e-01,  5.00530661e-01,  1.84221561e+00,  3.53234105e+00,\n",
       "        1.25202756e+00,  3.39792841e+00,  2.73369777e+00,  2.12286779e+00,\n",
       "        5.84453969e-01,  2.09129965e+00,  3.84301243e+00,  4.28240897e-01,\n",
       "        6.10327827e-01,  4.53675963e-02,  1.70836902e+00,  1.81990451e+00,\n",
       "        1.21695322e+00,  2.87580512e+00,  1.00548692e+00, -9.35637419e-02,\n",
       "        1.11621391e+00,  1.67755133e+00,  6.21228122e-01,  1.61082341e+00,\n",
       "        1.43252518e+00,  1.56714595e+00,  1.39734725e-01,  1.69528200e+00,\n",
       "        1.86537670e+00,  1.90618469e+00,  1.46847933e+00, -4.02094119e-01,\n",
       "        9.06450985e-01,  1.98006221e+00,  3.71416606e+00,  1.72971137e+00,\n",
       "        3.67586823e+00,  2.62720172e+00,  3.69415130e+00,  1.78256495e+00,\n",
       "        1.72771124e+00,  2.47468302e+00,  4.16522485e+00,  2.04624947e+00,\n",
       "        2.60385610e+00,  3.28219571e+00,  1.64427882e+00,  1.13907307e+00,\n",
       "        1.60625221e+00,  2.44626799e+00, -5.84618784e-01,  2.32936428e+00,\n",
       "        2.23724493e+00,  7.77707295e-01,  1.18182571e+00,  2.50799046e+00,\n",
       "        2.10086318e+00,  1.69868623e+00,  2.97632143e+00,  1.76201849e+00,\n",
       "        3.04810830e+00,  2.73363075e+00,  1.02191315e+00,  3.05297799e+00,\n",
       "        1.84250624e+00,  1.48166412e+00,  2.07658577e+00,  2.59419813e+00,\n",
       "        1.64347905e+00,  1.26186364e+00,  2.03190832e-01,  1.67895078e+00,\n",
       "        2.10252325e+00,  6.93446729e-01,  2.89898111e+00,  1.86185746e+00,\n",
       "        2.32983447e+00,  8.30443167e-01,  2.91750579e+00,  9.31568107e-01,\n",
       "        2.16131818e+00,  2.05732266e+00, -1.55202943e-01,  2.27893034e+00,\n",
       "        9.74820063e-01,  1.64001090e+00,  2.60073614e+00,  1.69891573e+00,\n",
       "        2.80940952e+00,  1.10250642e+00,  3.18732512e+00, -5.57825249e-01,\n",
       "        3.38385953e+00,  1.94976536e+00,  5.31485806e-01,  1.48009062e+00,\n",
       "        2.52896501e+00,  1.58851040e+00,  1.50615059e+00,  2.08060447e+00,\n",
       "        1.90231609e+00,  1.92794326e+00,  1.48574165e+00,  1.42387385e+00,\n",
       "        2.92240700e-01,  1.47086397e+00,  2.93835730e+00,  1.09720546e+00,\n",
       "        5.16226922e-01,  1.02166015e+00,  3.85898720e+00,  2.01831032e+00,\n",
       "        1.13173761e-01,  9.61881285e-01,  2.53436530e+00,  2.76173451e+00,\n",
       "        1.92302198e+00,  2.43753832e+00,  2.84594333e+00,  2.33648524e+00,\n",
       "        2.07209167e+00,  2.48292184e+00,  2.06071057e+00,  3.36309666e+00,\n",
       "        2.49678794e+00,  2.29808191e+00,  4.73005279e-01,  1.40224051e+00,\n",
       "        8.96471039e-01,  1.33712423e+00,  2.02104827e+00,  1.65038278e+00,\n",
       "        1.77597539e+00,  1.73692488e+00,  1.70040694e+00,  2.73108090e+00,\n",
       "        1.76051064e+00,  1.22563819e+00,  2.62478824e+00,  2.12644236e+00,\n",
       "        1.74032140e+00,  3.46066885e-01,  2.09853220e+00,  1.94881259e+00,\n",
       "        1.59428326e+00,  1.90356775e+00,  2.98143288e+00,  2.96242159e+00,\n",
       "        1.69930454e+00,  3.07657099e-01,  2.15436858e+00,  3.35355480e+00])"
      ]
     },
     "execution_count": 31,
     "metadata": {},
     "output_type": "execute_result"
    }
   ],
   "source": [
    "x2=np.random.normal(loc=1.75,scale=1.0,size=10000)\n",
    "np.set_printoptions(threshold=10000)\n",
    "x2"
   ]
  },
  {
   "cell_type": "code",
   "execution_count": 32,
   "id": "ccab7102",
   "metadata": {},
   "outputs": [
    {
     "data": {
      "text/plain": [
       "array([[-2.0029244 , -0.51575023],\n",
       "       [-0.09349079,  0.22921268]])"
      ]
     },
     "execution_count": 32,
     "metadata": {},
     "output_type": "execute_result"
    }
   ],
   "source": [
    "np.random.standard_normal(size=(2,2))"
   ]
  },
  {
   "cell_type": "code",
   "execution_count": 33,
   "id": "8aa9dbea",
   "metadata": {},
   "outputs": [
    {
     "data": {
      "image/png": "[encoded data removed]",
      "text/plain": [
       "<Figure size 1000x1000 with 1 Axes>"
      ]
     },
     "metadata": {
      "needs_background": "light"
     },
     "output_type": "display_data"
    }
   ],
   "source": [
    "x2=np.random.normal(loc=1.75,scale=1.0,size=100000000)\n",
    "plt.figure(figsize=(10,10),dpi=100)\n",
    "plt.hist(x=x2,bins=1000)\n",
    "plt.show()"
   ]
  },
  {
   "cell_type": "markdown",
   "id": "568464fe",
   "metadata": {},
   "source": [
    "### 5 数组的索引、切片"
   ]
  },
  {
   "cell_type": "code",
   "execution_count": 34,
   "id": "ab380ccc",
   "metadata": {},
   "outputs": [
    {
     "data": {
      "text/plain": [
       "array([[ 0.35563805, -0.57551305, -1.35414135, -0.63580099,  0.64676027,\n",
       "        -2.4921136 ,  1.70984476,  0.0094096 , -0.59572403, -0.65237252],\n",
       "       [-1.01629114,  0.50694966,  0.46168683,  1.38752235, -0.20542201,\n",
       "        -2.16780536,  0.40510697, -0.91878666,  0.95638481,  1.04049612],\n",
       "       [-0.2461895 ,  0.4727082 , -0.89248393,  0.55636809, -0.96737673,\n",
       "        -0.48578777,  0.64770581,  0.46587343,  0.25066043,  0.274426  ],\n",
       "       [ 0.47698822,  0.11626794,  0.71477415,  1.60774029,  0.9709961 ,\n",
       "         0.48690154,  0.41345529,  0.61174589,  1.2875013 , -1.11247215],\n",
       "       [ 0.68698782,  1.16680617,  0.85497171,  0.14003586,  0.75232263,\n",
       "         1.31461376, -0.53962997,  0.01526627, -1.23674991, -0.29925207],\n",
       "       [-0.80977336, -0.77793957,  0.13141015, -1.28545012,  1.65885629,\n",
       "         1.57051555,  0.93011954, -0.03612155,  1.20343834, -0.14275079],\n",
       "       [ 1.44659993,  0.65808033, -0.27100662, -1.17482462, -0.48684137,\n",
       "        -0.48257439,  0.36906396,  0.94922442, -0.56847428,  0.69752113],\n",
       "       [-0.90182051,  0.1556242 ,  0.35532335,  0.30464708, -0.82768744,\n",
       "         0.5979639 ,  0.63768741, -0.17837712,  0.50259423,  0.36992814]])"
      ]
     },
     "execution_count": 34,
     "metadata": {},
     "output_type": "execute_result"
    }
   ],
   "source": [
    "#\n",
    "stock_change=np.random.normal(0,1,(8,10))\n",
    "stock_change"
   ]
  },
  {
   "cell_type": "code",
   "execution_count": 35,
   "id": "e62c29c8",
   "metadata": {},
   "outputs": [
    {
     "data": {
      "text/plain": [
       "array([ 0.35563805, -0.57551305, -1.35414135])"
      ]
     },
     "execution_count": 35,
     "metadata": {},
     "output_type": "execute_result"
    }
   ],
   "source": [
    "#获取第一行前三列\n",
    "stock_change[0,0:3]"
   ]
  },
  {
   "cell_type": "code",
   "execution_count": 36,
   "id": "5e6f61e5",
   "metadata": {},
   "outputs": [
    {
     "data": {
      "text/plain": [
       "array([[ 0.35563805, -0.57551305, -1.35414135],\n",
       "       [-1.01629114,  0.50694966,  0.46168683]])"
      ]
     },
     "execution_count": 36,
     "metadata": {},
     "output_type": "execute_result"
    }
   ],
   "source": [
    "stock_change[0:2,0:3]\n",
    "#前两行，前三列"
   ]
  },
  {
   "cell_type": "code",
   "execution_count": 37,
   "id": "684d473b",
   "metadata": {},
   "outputs": [
    {
     "data": {
      "text/plain": [
       "array([[[ 1,  2,  3],\n",
       "        [ 4,  5,  6]],\n",
       "\n",
       "       [[12,  3, 34],\n",
       "        [ 5,  6,  7]]])"
      ]
     },
     "execution_count": 37,
     "metadata": {},
     "output_type": "execute_result"
    }
   ],
   "source": [
    "a1=np.array([[[1,2,3],[4,5,6]],[[12,3,34],[5,6,7]]])\n",
    "a1"
   ]
  },
  {
   "cell_type": "code",
   "execution_count": 38,
   "id": "38921b93",
   "metadata": {},
   "outputs": [
    {
     "data": {
      "text/plain": [
       "4"
      ]
     },
     "execution_count": 38,
     "metadata": {},
     "output_type": "execute_result"
    }
   ],
   "source": [
    "a1[0,1,0]"
   ]
  },
  {
   "cell_type": "code",
   "execution_count": 39,
   "id": "bb2a6c57",
   "metadata": {},
   "outputs": [
    {
     "data": {
      "text/plain": [
       "12"
      ]
     },
     "execution_count": 39,
     "metadata": {},
     "output_type": "execute_result"
    }
   ],
   "source": [
    "a1[1,0,0]"
   ]
  },
  {
   "cell_type": "code",
   "execution_count": 40,
   "id": "644ba6fa",
   "metadata": {},
   "outputs": [
    {
     "data": {
      "text/plain": [
       "3"
      ]
     },
     "execution_count": 40,
     "metadata": {},
     "output_type": "execute_result"
    }
   ],
   "source": [
    "a1[0,0,2]"
   ]
  },
  {
   "cell_type": "markdown",
   "id": "782ff591",
   "metadata": {},
   "source": [
    "### 6 形状修改\n",
    "1..reshape()\n",
    "2..resize()\n",
    "3..T"
   ]
  },
  {
   "cell_type": "code",
   "execution_count": 41,
   "id": "dcebcf16",
   "metadata": {},
   "outputs": [
    {
     "data": {
      "text/plain": [
       "array([[-0.24590642, -0.04811207, -1.84790152, -0.41255587,  0.42934316],\n",
       "       [ 0.09719373,  1.36410677,  0.63963089, -0.43124228,  0.2610679 ],\n",
       "       [-0.0831259 , -0.87069598,  0.87841446,  1.17697388, -0.37025048],\n",
       "       [ 0.71630399,  1.77072643,  0.10927366, -0.17765527,  0.77582328]])"
      ]
     },
     "execution_count": 41,
     "metadata": {},
     "output_type": "execute_result"
    }
   ],
   "source": [
    "stock_change=np.random.normal(0,1,(4,5))\n",
    "stock_change"
   ]
  },
  {
   "cell_type": "code",
   "execution_count": 42,
   "id": "f43e57fa",
   "metadata": {},
   "outputs": [
    {
     "data": {
      "text/plain": [
       "array([[-0.24590642, -0.04811207, -1.84790152, -0.41255587],\n",
       "       [ 0.42934316,  0.09719373,  1.36410677,  0.63963089],\n",
       "       [-0.43124228,  0.2610679 , -0.0831259 , -0.87069598],\n",
       "       [ 0.87841446,  1.17697388, -0.37025048,  0.71630399],\n",
       "       [ 1.77072643,  0.10927366, -0.17765527,  0.77582328]])"
      ]
     },
     "execution_count": 42,
     "metadata": {},
     "output_type": "execute_result"
    }
   ],
   "source": [
    "stock_change.reshape(5,4)#不进行行列互换，产生新变量"
   ]
  },
  {
   "cell_type": "code",
   "execution_count": 43,
   "id": "fb0bec7b",
   "metadata": {},
   "outputs": [
    {
     "data": {
      "text/plain": [
       "array([[-0.24590642, -0.04811207, -1.84790152, -0.41255587,  0.42934316,\n",
       "         0.09719373,  1.36410677,  0.63963089, -0.43124228,  0.2610679 ],\n",
       "       [-0.0831259 , -0.87069598,  0.87841446,  1.17697388, -0.37025048,\n",
       "         0.71630399,  1.77072643,  0.10927366, -0.17765527,  0.77582328]])"
      ]
     },
     "execution_count": 43,
     "metadata": {},
     "output_type": "execute_result"
    }
   ],
   "source": [
    "stock_change.reshape(-1,10)#(-1,n)表示一个[]里有n个数"
   ]
  },
  {
   "cell_type": "code",
   "execution_count": 44,
   "id": "d999d519",
   "metadata": {},
   "outputs": [
    {
     "data": {
      "text/plain": [
       "array([[-0.24590642, -0.04811207, -1.84790152, -0.41255587,  0.42934316],\n",
       "       [ 0.09719373,  1.36410677,  0.63963089, -0.43124228,  0.2610679 ],\n",
       "       [-0.0831259 , -0.87069598,  0.87841446,  1.17697388, -0.37025048],\n",
       "       [ 0.71630399,  1.77072643,  0.10927366, -0.17765527,  0.77582328]])"
      ]
     },
     "execution_count": 44,
     "metadata": {},
     "output_type": "execute_result"
    }
   ],
   "source": [
    "stock_change"
   ]
  },
  {
   "cell_type": "code",
   "execution_count": 45,
   "id": "d45d8ab3",
   "metadata": {},
   "outputs": [],
   "source": [
    "stock_change.resize(5,4)\n",
    "#进行行列互换后再对原值进行更改"
   ]
  },
  {
   "cell_type": "code",
   "execution_count": 46,
   "id": "37611dec",
   "metadata": {},
   "outputs": [
    {
     "data": {
      "text/plain": [
       "array([[-0.24590642, -0.04811207, -1.84790152, -0.41255587],\n",
       "       [ 0.42934316,  0.09719373,  1.36410677,  0.63963089],\n",
       "       [-0.43124228,  0.2610679 , -0.0831259 , -0.87069598],\n",
       "       [ 0.87841446,  1.17697388, -0.37025048,  0.71630399],\n",
       "       [ 1.77072643,  0.10927366, -0.17765527,  0.77582328]])"
      ]
     },
     "execution_count": 46,
     "metadata": {},
     "output_type": "execute_result"
    }
   ],
   "source": [
    "stock_change"
   ]
  },
  {
   "cell_type": "code",
   "execution_count": 47,
   "id": "4a2bbfe0",
   "metadata": {},
   "outputs": [
    {
     "data": {
      "text/plain": [
       "array([[-0.24590642,  0.42934316, -0.43124228,  0.87841446,  1.77072643],\n",
       "       [-0.04811207,  0.09719373,  0.2610679 ,  1.17697388,  0.10927366],\n",
       "       [-1.84790152,  1.36410677, -0.0831259 , -0.37025048, -0.17765527],\n",
       "       [-0.41255587,  0.63963089, -0.87069598,  0.71630399,  0.77582328]])"
      ]
     },
     "execution_count": 47,
     "metadata": {},
     "output_type": "execute_result"
    }
   ],
   "source": [
    "stock_change.T#行列互换"
   ]
  },
  {
   "cell_type": "markdown",
   "id": "bc80b6c5",
   "metadata": {},
   "source": [
    "### 7 类型修改"
   ]
  },
  {
   "cell_type": "code",
   "execution_count": 48,
   "id": "4c4c83c5",
   "metadata": {},
   "outputs": [
    {
     "data": {
      "text/plain": [
       "array([[-0.24590642, -0.04811207, -1.84790152, -0.41255587],\n",
       "       [ 0.42934316,  0.09719373,  1.36410677,  0.63963089],\n",
       "       [-0.43124228,  0.2610679 , -0.0831259 , -0.87069598],\n",
       "       [ 0.87841446,  1.17697388, -0.37025048,  0.71630399],\n",
       "       [ 1.77072643,  0.10927366, -0.17765527,  0.77582328]])"
      ]
     },
     "execution_count": 48,
     "metadata": {},
     "output_type": "execute_result"
    }
   ],
   "source": [
    "stock_change"
   ]
  },
  {
   "cell_type": "code",
   "execution_count": 49,
   "id": "97bad3b7",
   "metadata": {},
   "outputs": [
    {
     "data": {
      "text/plain": [
       "array([[ 0,  0, -1,  0],\n",
       "       [ 0,  0,  1,  0],\n",
       "       [ 0,  0,  0,  0],\n",
       "       [ 0,  1,  0,  0],\n",
       "       [ 1,  0,  0,  0]])"
      ]
     },
     "execution_count": 49,
     "metadata": {},
     "output_type": "execute_result"
    }
   ],
   "source": [
    "stock_change.astype(np.int32)"
   ]
  },
  {
   "cell_type": "code",
   "execution_count": 50,
   "id": "1d8ad076",
   "metadata": {},
   "outputs": [
    {
     "name": "stderr",
     "output_type": "stream",
     "text": [
      "<ipython-input-50-ca096041f4e6>:2: DeprecationWarning: tostring() is deprecated. Use tobytes() instead.\n",
      "  arr.tostring()\n"
     ]
    },
    {
     "data": {
      "text/plain": [
       "b'\\x01\\x00\\x00\\x00\\x02\\x00\\x00\\x00\\x03\\x00\\x00\\x00\\x04\\x00\\x00\\x00\\x05\\x00\\x00\\x00\\x06\\x00\\x00\\x00\\x0c\\x00\\x00\\x00\\x03\\x00\\x00\\x00\"\\x00\\x00\\x00\\x05\\x00\\x00\\x00\\x06\\x00\\x00\\x00\\x07\\x00\\x00\\x00'"
      ]
     },
     "execution_count": 50,
     "metadata": {},
     "output_type": "execute_result"
    }
   ],
   "source": [
    "arr=np.array([[[1,2,3],[4,5,6]],[[12,3,34],[5,6,7]]])\n",
    "arr.tostring()"
   ]
  },
  {
   "cell_type": "markdown",
   "id": "8f6601ee",
   "metadata": {},
   "source": [
    "### 8 数组去重"
   ]
  },
  {
   "cell_type": "code",
   "execution_count": 51,
   "id": "14ed9805",
   "metadata": {},
   "outputs": [
    {
     "data": {
      "text/plain": [
       "array([1, 2, 3, 4, 6, 8])"
      ]
     },
     "execution_count": 51,
     "metadata": {},
     "output_type": "execute_result"
    }
   ],
   "source": [
    "temp=np.array([[1,2,3,4],[3,6,2,8]])\n",
    "np.unique(temp)"
   ]
  },
  {
   "cell_type": "code",
   "execution_count": 52,
   "id": "bb308756",
   "metadata": {},
   "outputs": [],
   "source": [
    "#temp2=np.array([[1,2,3,4],[3,6,2]])\n",
    "#np.unique(temp2)\n",
    "#这样是不行的"
   ]
  },
  {
   "cell_type": "markdown",
   "id": "8340509f",
   "metadata": {},
   "source": [
    "### 9 ndarray运算\n",
    "#### 9.1 逻辑运算"
   ]
  },
  {
   "cell_type": "code",
   "execution_count": 53,
   "id": "495bb5b6",
   "metadata": {},
   "outputs": [
    {
     "data": {
      "text/plain": [
       "array([[-0.87947598, -1.01408841, -1.69056493, -0.84415523,  1.44444657,\n",
       "        -0.41508793,  1.11521105,  1.31149775,  1.62086347,  0.72718296],\n",
       "       [ 0.79040682, -0.1578337 ,  0.45219963,  0.29279018,  0.37126698,\n",
       "        -1.94153109,  0.54510792, -1.13942028, -0.99159791, -0.74107723],\n",
       "       [ 0.01776119,  0.42323466,  0.9775266 ,  0.60532859, -0.71500109,\n",
       "        -2.1925368 , -0.28267491,  1.66444572,  0.07673865,  0.52027938],\n",
       "       [ 1.18178296, -2.2842049 ,  0.35078627,  2.58980362,  1.04021635,\n",
       "        -0.62675888,  0.04874275,  1.69074818,  0.42003078,  0.93351149],\n",
       "       [-0.94398748,  0.11100619, -0.44188907,  0.38064843, -1.49000853,\n",
       "        -0.66837325, -0.83352376,  0.07090264,  0.1983174 ,  0.25505338],\n",
       "       [ 1.40905676, -0.82122738,  0.59224245, -1.64558299, -1.17365956,\n",
       "        -1.87022859, -1.54004051,  1.41065934, -0.47659303, -0.57351736],\n",
       "       [-0.09556106,  0.02471312, -0.11358277,  0.30368908,  0.14543794,\n",
       "        -0.37446802, -1.8438913 , -1.78266686,  0.56549818,  0.91707142],\n",
       "       [ 1.20946438,  0.30314476, -1.69479337,  0.81982272,  0.89124121,\n",
       "        -1.0521466 , -0.43313163,  0.05688025,  2.48747407,  1.13197227]])"
      ]
     },
     "execution_count": 53,
     "metadata": {},
     "output_type": "execute_result"
    }
   ],
   "source": [
    "stock_change=np.random.normal(0,1,(8,10))\n",
    "stock_change"
   ]
  },
  {
   "cell_type": "code",
   "execution_count": 54,
   "id": "18574906",
   "metadata": {},
   "outputs": [
    {
     "data": {
      "text/plain": [
       "array([[-0.87947598, -1.01408841, -1.69056493, -0.84415523,  1.44444657],\n",
       "       [ 0.79040682, -0.1578337 ,  0.45219963,  0.29279018,  0.37126698],\n",
       "       [ 0.01776119,  0.42323466,  0.9775266 ,  0.60532859, -0.71500109],\n",
       "       [ 1.18178296, -2.2842049 ,  0.35078627,  2.58980362,  1.04021635],\n",
       "       [-0.94398748,  0.11100619, -0.44188907,  0.38064843, -1.49000853]])"
      ]
     },
     "execution_count": 54,
     "metadata": {},
     "output_type": "execute_result"
    }
   ],
   "source": [
    "stock_c=stock_change[0:5,0:5]\n",
    "stock_c"
   ]
  },
  {
   "cell_type": "code",
   "execution_count": 55,
   "id": "16b6951b",
   "metadata": {},
   "outputs": [
    {
     "data": {
      "text/plain": [
       "array([[False, False, False, False,  True],\n",
       "       [False, False, False, False, False],\n",
       "       [False, False, False, False, False],\n",
       "       [ True, False, False,  True,  True],\n",
       "       [False, False, False, False, False]])"
      ]
     },
     "execution_count": 55,
     "metadata": {},
     "output_type": "execute_result"
    }
   ],
   "source": [
    "stock_c>1"
   ]
  },
  {
   "cell_type": "code",
   "execution_count": 56,
   "id": "c8f4fb66",
   "metadata": {},
   "outputs": [],
   "source": [
    "stock_c[stock_c>1]=2"
   ]
  },
  {
   "cell_type": "code",
   "execution_count": 57,
   "id": "7d6d3bad",
   "metadata": {},
   "outputs": [
    {
     "data": {
      "text/plain": [
       "array([[-0.87947598, -1.01408841, -1.69056493, -0.84415523,  2.        ],\n",
       "       [ 0.79040682, -0.1578337 ,  0.45219963,  0.29279018,  0.37126698],\n",
       "       [ 0.01776119,  0.42323466,  0.9775266 ,  0.60532859, -0.71500109],\n",
       "       [ 2.        , -2.2842049 ,  0.35078627,  2.        ,  2.        ],\n",
       "       [-0.94398748,  0.11100619, -0.44188907,  0.38064843, -1.49000853]])"
      ]
     },
     "execution_count": 57,
     "metadata": {},
     "output_type": "execute_result"
    }
   ],
   "source": [
    "stock_c"
   ]
  },
  {
   "cell_type": "code",
   "execution_count": 58,
   "id": "d0971c8f",
   "metadata": {},
   "outputs": [
    {
     "ename": "TypeError",
     "evalue": "'>' not supported between instances of 'list' and 'int'",
     "output_type": "error",
     "traceback": [
      "\u001b[1;31m---------------------------------------------------------------------------\u001b[0m",
      "\u001b[1;31mTypeError\u001b[0m                                 Traceback (most recent call last)",
      "\u001b[1;32m<ipython-input-58-ae00ab96c89f>\u001b[0m in \u001b[0;36m<module>\u001b[1;34m\u001b[0m\n\u001b[0;32m      1\u001b[0m \u001b[0mtest_a\u001b[0m\u001b[1;33m=\u001b[0m\u001b[1;33m[\u001b[0m\u001b[1;36m1\u001b[0m\u001b[1;33m,\u001b[0m\u001b[1;36m2\u001b[0m\u001b[1;33m,\u001b[0m\u001b[1;36m3\u001b[0m\u001b[1;33m]\u001b[0m\u001b[1;33m\u001b[0m\u001b[1;33m\u001b[0m\u001b[0m\n\u001b[1;32m----> 2\u001b[1;33m \u001b[0mtest_a\u001b[0m\u001b[1;33m>\u001b[0m\u001b[1;36m2\u001b[0m\u001b[1;33m\u001b[0m\u001b[1;33m\u001b[0m\u001b[0m\n\u001b[0m",
      "\u001b[1;31mTypeError\u001b[0m: '>' not supported between instances of 'list' and 'int'"
     ]
    }
   ],
   "source": [
    "#test_a=[1,2,3]\n",
    "#test_a>2\n",
    "#需要注意列表无法进行该项运算"
   ]
  },
  {
   "cell_type": "markdown",
   "id": "6fb984b5",
   "metadata": {},
   "source": [
    "#### 9.2 通用判断函数"
   ]
  },
  {
   "cell_type": "code",
   "execution_count": 59,
   "id": "8e143e85",
   "metadata": {},
   "outputs": [
    {
     "data": {
      "text/plain": [
       "array([[-0.87947598, -1.01408841, -1.69056493, -0.84415523,  2.        ],\n",
       "       [ 0.79040682, -0.1578337 ,  0.45219963,  0.29279018,  0.37126698],\n",
       "       [ 0.01776119,  0.42323466,  0.9775266 ,  0.60532859, -0.71500109],\n",
       "       [ 2.        , -2.2842049 ,  0.35078627,  2.        ,  2.        ],\n",
       "       [-0.94398748,  0.11100619, -0.44188907,  0.38064843, -1.49000853]])"
      ]
     },
     "execution_count": 59,
     "metadata": {},
     "output_type": "execute_result"
    }
   ],
   "source": [
    "stock_c"
   ]
  },
  {
   "cell_type": "code",
   "execution_count": 61,
   "id": "4eebb781",
   "metadata": {},
   "outputs": [],
   "source": [
    "stock_d=stock_change[0:2,0:5]"
   ]
  },
  {
   "cell_type": "code",
   "execution_count": 62,
   "id": "14dbd5be",
   "metadata": {},
   "outputs": [
    {
     "data": {
      "text/plain": [
       "array([[-0.87947598, -1.01408841, -1.69056493, -0.84415523,  2.        ],\n",
       "       [ 0.79040682, -0.1578337 ,  0.45219963,  0.29279018,  0.37126698]])"
      ]
     },
     "execution_count": 62,
     "metadata": {},
     "output_type": "execute_result"
    }
   ],
   "source": [
    "stock_d"
   ]
  },
  {
   "cell_type": "code",
   "execution_count": 66,
   "id": "db4e3c7a",
   "metadata": {},
   "outputs": [
    {
     "data": {
      "text/plain": [
       "False"
      ]
     },
     "execution_count": 66,
     "metadata": {},
     "output_type": "execute_result"
    }
   ],
   "source": [
    "np.all(stock_d>0)#有一个不满足->False"
   ]
  },
  {
   "cell_type": "code",
   "execution_count": 65,
   "id": "372afe10",
   "metadata": {},
   "outputs": [
    {
     "data": {
      "text/plain": [
       "True"
      ]
     },
     "execution_count": 65,
     "metadata": {},
     "output_type": "execute_result"
    }
   ],
   "source": [
    "np.any(stock_d>0)#有一个满足就是True"
   ]
  },
  {
   "cell_type": "markdown",
   "id": "da39563b",
   "metadata": {},
   "source": [
    "#### 9.3 np.where"
   ]
  },
  {
   "cell_type": "code",
   "execution_count": 68,
   "id": "686828d4",
   "metadata": {},
   "outputs": [
    {
     "data": {
      "text/plain": [
       "array([[-0.87947598,  2.        ,  1.62086347],\n",
       "       [-0.94398748, -1.49000853,  0.1983174 ]])"
      ]
     },
     "execution_count": 68,
     "metadata": {},
     "output_type": "execute_result"
    }
   ],
   "source": [
    "temp=stock_change[::4,::4]\n",
    "temp"
   ]
  },
  {
   "cell_type": "code",
   "execution_count": 69,
   "id": "d896f826",
   "metadata": {},
   "outputs": [
    {
     "data": {
      "text/plain": [
       "array([[0, 1, 1],\n",
       "       [0, 0, 1]])"
      ]
     },
     "execution_count": 69,
     "metadata": {},
     "output_type": "execute_result"
    }
   ],
   "source": [
    "np.where(temp>0,1,0)#三元运算符相当于“？ ：”"
   ]
  },
  {
   "cell_type": "code",
   "execution_count": 71,
   "id": "416d371b",
   "metadata": {},
   "outputs": [
    {
     "data": {
      "text/plain": [
       "array([[0, 0, 0],\n",
       "       [0, 0, 0]])"
      ]
     },
     "execution_count": 71,
     "metadata": {},
     "output_type": "execute_result"
    }
   ],
   "source": [
    "np.where(np.logical_and(temp>0.5,temp<1),1,0)\n"
   ]
  },
  {
   "cell_type": "code",
   "execution_count": 72,
   "id": "67a33153",
   "metadata": {},
   "outputs": [
    {
     "data": {
      "text/plain": [
       "array([[1, 1, 1],\n",
       "       [1, 1, 0]])"
      ]
     },
     "execution_count": 72,
     "metadata": {},
     "output_type": "execute_result"
    }
   ],
   "source": [
    "np.where(np.logical_or(temp>0.5,temp<-0.5),1,0)"
   ]
  },
  {
   "cell_type": "markdown",
   "id": "d2828237",
   "metadata": {},
   "source": [
    "#### 9.4 统计运算\n",
    "\n",
    "如果想知道涨幅或跌幅最大的数据应该怎么做？\n",
    "\n",
    "##### 9.4.1 统计指标\n",
    "```\n",
    "min()\n",
    "max()\n",
    "median()\n",
    "mean()\n",
    "std()标准差\n",
    "var()方差\n",
    "\n",
    "```\n",
    "##### 9.4.2 案例：股票涨跌幅统计运算"
   ]
  },
  {
   "cell_type": "code",
   "execution_count": 73,
   "id": "56effc14",
   "metadata": {},
   "outputs": [
    {
     "data": {
      "text/plain": [
       "2.487474069148083"
      ]
     },
     "execution_count": 73,
     "metadata": {},
     "output_type": "execute_result"
    }
   ],
   "source": [
    "stock_change.max()#求全局的最大值"
   ]
  },
  {
   "cell_type": "code",
   "execution_count": 74,
   "id": "8f737c84",
   "metadata": {},
   "outputs": [
    {
     "data": {
      "text/plain": [
       "array([ 2.        ,  0.42323466,  0.9775266 ,  2.        ,  2.        ,\n",
       "       -0.37446802,  1.11521105,  1.69074818,  2.48747407,  1.13197227])"
      ]
     },
     "execution_count": 74,
     "metadata": {},
     "output_type": "execute_result"
    }
   ],
   "source": [
    "stock_change.max(axis=0)#求每列的最大值"
   ]
  },
  {
   "cell_type": "code",
   "execution_count": 75,
   "id": "d59adea3",
   "metadata": {},
   "outputs": [
    {
     "data": {
      "text/plain": [
       "array([2.        , 0.79040682, 1.66444572, 2.        , 0.38064843,\n",
       "       1.41065934, 0.91707142, 2.48747407])"
      ]
     },
     "execution_count": 75,
     "metadata": {},
     "output_type": "execute_result"
    }
   ],
   "source": [
    "stock_change.max(axis=1)#求每行的最大值"
   ]
  },
  {
   "cell_type": "markdown",
   "id": "0edd2c5c",
   "metadata": {},
   "source": [
    "```\n",
    "np.argmin(temp,axis=)\n",
    "np.argmax(temp,axis=)#求最大值下标\n",
    "```"
   ]
  },
  {
   "cell_type": "code",
   "execution_count": 76,
   "id": "65bb6b20",
   "metadata": {},
   "outputs": [
    {
     "data": {
      "text/plain": [
       "array([[-0.87947598, -1.01408841, -1.69056493, -0.84415523,  2.        ],\n",
       "       [ 0.79040682, -0.1578337 ,  0.45219963,  0.29279018,  0.37126698],\n",
       "       [ 0.01776119,  0.42323466,  0.9775266 ,  0.60532859, -0.71500109],\n",
       "       [ 2.        , -2.2842049 ,  0.35078627,  2.        ,  2.        ],\n",
       "       [-0.94398748,  0.11100619, -0.44188907,  0.38064843, -1.49000853]])"
      ]
     },
     "execution_count": 76,
     "metadata": {},
     "output_type": "execute_result"
    }
   ],
   "source": [
    "stock_c"
   ]
  },
  {
   "cell_type": "code",
   "execution_count": 78,
   "id": "96e32139",
   "metadata": {},
   "outputs": [
    {
     "data": {
      "text/plain": [
       "4"
      ]
     },
     "execution_count": 78,
     "metadata": {},
     "output_type": "execute_result"
    }
   ],
   "source": [
    "stock_c.argmax()"
   ]
  },
  {
   "cell_type": "markdown",
   "id": "4ec6591b",
   "metadata": {},
   "source": [
    "### 10 矩阵和向量\n",
    "略"
   ]
  },
  {
   "cell_type": "markdown",
   "id": "55e812a2",
   "metadata": {},
   "source": [
    "### 11 数组间运算\n",
    "\n",
    "矩阵乘法遵循*广播机制*:\n",
    "1.维度相等\n",
    "2.shape(其中一个为一)\n",
    "如图\n",
    "![broad](imgs/broad.png)"
   ]
  },
  {
   "cell_type": "code",
   "execution_count": 83,
   "id": "8cb1a9b6",
   "metadata": {},
   "outputs": [
    {
     "ename": "TypeError",
     "evalue": "Field elements must be 2- or 3-tuples, got '1'",
     "output_type": "error",
     "traceback": [
      "\u001b[1;31m---------------------------------------------------------------------------\u001b[0m",
      "\u001b[1;31mTypeError\u001b[0m                                 Traceback (most recent call last)",
      "\u001b[1;32m<ipython-input-83-e99b30dd5751>\u001b[0m in \u001b[0;36m<module>\u001b[1;34m\u001b[0m\n\u001b[0;32m      1\u001b[0m \u001b[0marr1\u001b[0m\u001b[1;33m=\u001b[0m\u001b[0mnp\u001b[0m\u001b[1;33m.\u001b[0m\u001b[0marray\u001b[0m\u001b[1;33m(\u001b[0m\u001b[1;33m[\u001b[0m\u001b[1;36m1\u001b[0m\u001b[1;33m,\u001b[0m\u001b[1;36m2\u001b[0m\u001b[1;33m,\u001b[0m\u001b[1;36m3\u001b[0m\u001b[1;33m]\u001b[0m\u001b[1;33m)\u001b[0m\u001b[1;33m\u001b[0m\u001b[1;33m\u001b[0m\u001b[0m\n\u001b[1;32m----> 2\u001b[1;33m \u001b[0marr2\u001b[0m\u001b[1;33m=\u001b[0m\u001b[0mnp\u001b[0m\u001b[1;33m.\u001b[0m\u001b[0marray\u001b[0m\u001b[1;33m(\u001b[0m\u001b[1;33m[\u001b[0m\u001b[1;36m1\u001b[0m\u001b[1;33m,\u001b[0m\u001b[1;36m2\u001b[0m\u001b[1;33m,\u001b[0m\u001b[1;36m3\u001b[0m\u001b[1;33m]\u001b[0m\u001b[1;33m,\u001b[0m\u001b[1;33m[\u001b[0m\u001b[1;36m1\u001b[0m\u001b[1;33m,\u001b[0m\u001b[1;36m3\u001b[0m\u001b[1;33m,\u001b[0m\u001b[1;36m3\u001b[0m\u001b[1;33m]\u001b[0m\u001b[1;33m)\u001b[0m\u001b[1;33m\u001b[0m\u001b[1;33m\u001b[0m\u001b[0m\n\u001b[0m\u001b[0;32m      3\u001b[0m \u001b[0marr1\u001b[0m\u001b[1;33m*\u001b[0m\u001b[0marr2\u001b[0m\u001b[1;33m\u001b[0m\u001b[1;33m\u001b[0m\u001b[0m\n",
      "\u001b[1;31mTypeError\u001b[0m: Field elements must be 2- or 3-tuples, got '1'"
     ]
    }
   ],
   "source": [
    "arr1=np.array([1,2,3])\n",
    "arr2=np.array([1,2,3],[1,3,3])\n",
    "arr1*arr2"
   ]
  },
  {
   "cell_type": "markdown",
   "id": "756cf7da",
   "metadata": {},
   "source": [
    "#### 11.1 矩阵乘法\n",
    "```\n",
    "np.matmul\n",
    "np.dot\n",
    "```"
   ]
  },
  {
   "cell_type": "code",
   "execution_count": 84,
   "id": "c06842a1",
   "metadata": {},
   "outputs": [],
   "source": [
    "a=np.array([[80,86],\n",
    "           [82,80],\n",
    "           [85,78],\n",
    "           [90,90],\n",
    "           [86,82],\n",
    "           [78,80],\n",
    "           [82,90],\n",
    "           [92,94]\n",
    "           ])\n",
    "b=np.array([[0.7],[0.3]])"
   ]
  },
  {
   "cell_type": "code",
   "execution_count": 85,
   "id": "f917b7b4",
   "metadata": {},
   "outputs": [
    {
     "data": {
      "text/plain": [
       "array([[81.8],\n",
       "       [81.4],\n",
       "       [82.9],\n",
       "       [90. ],\n",
       "       [84.8],\n",
       "       [78.6],\n",
       "       [84.4],\n",
       "       [92.6]])"
      ]
     },
     "execution_count": 85,
     "metadata": {},
     "output_type": "execute_result"
    }
   ],
   "source": [
    "np.matmul(a,b)"
   ]
  },
  {
   "cell_type": "code",
   "execution_count": 86,
   "id": "f5a84886",
   "metadata": {},
   "outputs": [
    {
     "data": {
      "text/plain": [
       "array([[81.8],\n",
       "       [81.4],\n",
       "       [82.9],\n",
       "       [90. ],\n",
       "       [84.8],\n",
       "       [78.6],\n",
       "       [84.4],\n",
       "       [92.6]])"
      ]
     },
     "execution_count": 86,
     "metadata": {},
     "output_type": "execute_result"
    }
   ],
   "source": [
    "np.dot(a,b)"
   ]
  },
  {
   "cell_type": "code",
   "execution_count": 87,
   "id": "1980d4fd",
   "metadata": {},
   "outputs": [
    {
     "data": {
      "text/plain": [
       "array([[800, 860],\n",
       "       [820, 800],\n",
       "       [850, 780],\n",
       "       [900, 900],\n",
       "       [860, 820],\n",
       "       [780, 800],\n",
       "       [820, 900],\n",
       "       [920, 940]])"
      ]
     },
     "execution_count": 87,
     "metadata": {},
     "output_type": "execute_result"
    }
   ],
   "source": [
    "np.dot(a,10)"
   ]
  },
  {
   "cell_type": "code",
   "execution_count": 88,
   "id": "22146a99",
   "metadata": {},
   "outputs": [
    {
     "ename": "ValueError",
     "evalue": "matmul: Input operand 1 does not have enough dimensions (has 0, gufunc core with signature (n?,k),(k,m?)->(n?,m?) requires 1)",
     "output_type": "error",
     "traceback": [
      "\u001b[1;31m---------------------------------------------------------------------------\u001b[0m",
      "\u001b[1;31mValueError\u001b[0m                                Traceback (most recent call last)",
      "\u001b[1;32m<ipython-input-88-4564418e3ebb>\u001b[0m in \u001b[0;36m<module>\u001b[1;34m\u001b[0m\n\u001b[1;32m----> 1\u001b[1;33m \u001b[0mnp\u001b[0m\u001b[1;33m.\u001b[0m\u001b[0mmatmul\u001b[0m\u001b[1;33m(\u001b[0m\u001b[0ma\u001b[0m\u001b[1;33m,\u001b[0m\u001b[1;36m10\u001b[0m\u001b[1;33m)\u001b[0m\u001b[1;33m\u001b[0m\u001b[1;33m\u001b[0m\u001b[0m\n\u001b[0m",
      "\u001b[1;31mValueError\u001b[0m: matmul: Input operand 1 does not have enough dimensions (has 0, gufunc core with signature (n?,k),(k,m?)->(n?,m?) requires 1)"
     ]
    }
   ],
   "source": [
    "np.matmul(a,10)#不支持矩阵和数字的相乘"
   ]
  },
  {
   "cell_type": "code",
   "execution_count": null,
   "id": "5f303064",
   "metadata": {},
   "outputs": [],
   "source": []
  }
 ],
 "metadata": {
  "kernelspec": {
   "display_name": "Python 3",
   "language": "python",
   "name": "python3"
  },
  "language_info": {
   "codemirror_mode": {
    "name": "ipython",
    "version": 3
   },
   "file_extension": ".py",
   "mimetype": "text/x-python",
   "name": "python",
   "nbconvert_exporter": "python",
   "pygments_lexer": "ipython3",
   "version": "3.8.8"
  }
 },
 "nbformat": 4,
 "nbformat_minor": 5
}
